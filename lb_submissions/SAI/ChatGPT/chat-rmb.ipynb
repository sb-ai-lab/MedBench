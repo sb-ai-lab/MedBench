{
 "cells": [
  {
   "cell_type": "markdown",
   "metadata": {},
   "source": [
    "# OpenAI Experiments with RuMedBench"
   ]
  },
  {
   "cell_type": "code",
   "execution_count": 196,
   "metadata": {
    "tags": []
   },
   "outputs": [],
   "source": [
    "from config import OPENAI_TOKEN  # private API token\n",
    "\n",
    "import os\n",
    "import openai\n",
    "import config\n",
    "import pandas as pd\n",
    "import time\n",
    "import json\n",
    "from tqdm.auto import tqdm, trange"
   ]
  },
  {
   "cell_type": "markdown",
   "metadata": {
    "tags": []
   },
   "source": [
    "# OpenAI access"
   ]
  },
  {
   "cell_type": "code",
   "execution_count": 171,
   "metadata": {
    "tags": []
   },
   "outputs": [
    {
     "name": "stdout",
     "output_type": "stream",
     "text": [
      "{\n",
      "  \"choices\": [\n",
      "    {\n",
      "      \"finish_reason\": \"length\",\n",
      "      \"index\": 0,\n",
      "      \"logprobs\": null,\n",
      "      \"text\": \" The Martian Atmosphere\\n\\n2. The Martian Climate\\n\\n3. The Martian Geology\\n\\n4. The Martian Gravity and the Red Planet's Surface Gravity\\n\\n5. The Martian Moon Phobos, the Moons of Mars, and Mars' Natural Satellites, Deimos and Phobos\\n\\n\"\n",
      "    }\n",
      "  ],\n",
      "  \"created\": 1676106446,\n",
      "  \"id\": \"cmpl-6ig8sw1Gn0evEvdKJLZnNtftaKGi4\",\n",
      "  \"model\": \"davinci\",\n",
      "  \"object\": \"text_completion\",\n",
      "  \"usage\": {\n",
      "    \"completion_tokens\": 64,\n",
      "    \"prompt_tokens\": 13,\n",
      "    \"total_tokens\": 77\n",
      "  }\n",
      "}\n"
     ]
    }
   ],
   "source": [
    "# test of access\n",
    "openai.api_key = OPENAI_TOKEN\n",
    "response = openai.Completion.create(\n",
    "engine=\"davinci\",\n",
    "prompt=\"Blog topics dealing with daily life living on Mars\\n\\n1.\",\n",
    "temperature=0.3,\n",
    "max_tokens=64,\n",
    "top_p=1,\n",
    "frequency_penalty=0.5,\n",
    "presence_penalty=0)\n",
    "print(response)"
   ]
  },
  {
   "cell_type": "code",
   "execution_count": 275,
   "metadata": {
    "tags": []
   },
   "outputs": [],
   "source": [
    "class OpenAI():\n",
    "    \"\"\"sends requests to openai API with maintaining request rate\"\"\"\n",
    "    \n",
    "    def __init__(self, engine='davinci',\n",
    "                request_interval=3.1):\n",
    "        self.engine=engine\n",
    "        self.times = []\n",
    "        self.time_queue_len = 5  # len of queue for keeping last request times\n",
    "        self.request_interval = 3.1  # min interval between requests\n",
    "\n",
    "    def wait_ok(self):\n",
    "        \"\"\"waits until request imterval over time_queue_len is satisfied\"\"\"\n",
    "        if len(self.times) >= self.time_queue_len:\n",
    "            while time.time() - self.times[0] < self.time_queue_len * self.request_interval:\n",
    "                time.sleep(0.1)\n",
    "        self.times.append(round(time.time(), 2))\n",
    "        self.times = self.times[-self.time_queue_len:]\n",
    "        \n",
    "    def __call__(self, prompt):\n",
    "        self.wait_ok()\n",
    "        r = openai.Completion.create(\n",
    "            engine=self.engine,\n",
    "            prompt=prompt,\n",
    "            temperature=0.3,\n",
    "            max_tokens=64,\n",
    "            top_p=1,\n",
    "            frequency_penalty=0.5,\n",
    "            presence_penalty=0)\n",
    "        \n",
    "        return r['choices'][0]['text']"
   ]
  },
  {
   "cell_type": "markdown",
   "metadata": {
    "tags": []
   },
   "source": [
    "# RuMedTest experiments"
   ]
  },
  {
   "cell_type": "markdown",
   "metadata": {
    "tags": []
   },
   "source": [
    "## Loading source for pre-tests\n",
    "Источник: тест по терапии для интернов СОГМА https://geetest.ru/tests/terapiya_(dlya_internov)_sogma_"
   ]
  },
  {
   "cell_type": "code",
   "execution_count": 169,
   "metadata": {
    "tags": []
   },
   "outputs": [],
   "source": [
    "xf = \"questions/sogma_test_complete.xml\"  # pre-downloaded from link above\n",
    "\n",
    "with open(xf, 'rb') as f:\n",
    "    xx = f.read()"
   ]
  },
  {
   "cell_type": "code",
   "execution_count": 14,
   "metadata": {
    "tags": []
   },
   "outputs": [
    {
     "data": {
      "text/plain": [
       "['<?xml version=\"1.0\" encoding=\"utf-8\"?>\\n',\n",
       " '<geetest>\\n',\n",
       " '<test>\\n',\n",
       " '\\n',\n",
       " '<name>Терапия (для интернов) СОГМА </name>\\n',\n",
       " '<give> терапии (для интернов) СОГМА </give>\\n',\n",
       " '<category>Медицина</category>\\n',\n",
       " '<isThemes>1</isThemes>\\n',\n",
       " '<description></description>\\n',\n",
       " '\\n']"
      ]
     },
     "execution_count": 14,
     "metadata": {},
     "output_type": "execute_result"
    }
   ],
   "source": [
    "xx[:10]"
   ]
  },
  {
   "cell_type": "code",
   "execution_count": 19,
   "metadata": {
    "tags": []
   },
   "outputs": [],
   "source": [
    "dd = xmltodict.parse(xx)\n",
    "len(dd)"
   ]
  },
  {
   "cell_type": "code",
   "execution_count": 26,
   "metadata": {
    "tags": []
   },
   "outputs": [
    {
     "data": {
      "text/plain": [
       "770"
      ]
     },
     "execution_count": 26,
     "metadata": {},
     "output_type": "execute_result"
    }
   ],
   "source": [
    "dd['geetest']['test']['questions']['question'].__len__()"
   ]
  },
  {
   "cell_type": "code",
   "execution_count": 28,
   "metadata": {
    "tags": []
   },
   "outputs": [],
   "source": [
    "q = dd['geetest']['test']['questions']['question'][0]"
   ]
  },
  {
   "cell_type": "code",
   "execution_count": 31,
   "metadata": {
    "tags": []
   },
   "outputs": [
    {
     "data": {
      "text/plain": [
       "'Везикулярное дыхание выслушивается на'"
      ]
     },
     "execution_count": 31,
     "metadata": {},
     "output_type": "execute_result"
    }
   ],
   "source": [
    "q['text']"
   ]
  },
  {
   "cell_type": "code",
   "execution_count": 56,
   "metadata": {
    "tags": []
   },
   "outputs": [
    {
     "data": {
      "text/plain": [
       "{'@id': '22224',\n",
       " '@num': '73',\n",
       " '@idTest': '84',\n",
       " '@idTheme': '2',\n",
       " '@ans': '',\n",
       " '@idTicket': '0',\n",
       " '@numTicket': '0',\n",
       " 'text': 'При пневмонии назначают следующие лекарственные средства: \\n\\t1. этиотропные; \\n\\t2. отхаркивающие; \\n\\t3. бронхоспазмолитические; \\n\\t4. иммуномодулирующие',\n",
       " 'answers': {'answer': [{'@id': '99677',\n",
       "    '@num': '1',\n",
       "    '@isCorrect': '0',\n",
       "    '@numQuestion': '73',\n",
       "    '@idQuestion': '22224',\n",
       "    '@numTheme': '2',\n",
       "    '#text': 'если правильный ответ 1,2 и 3'},\n",
       "   {'@id': '99678',\n",
       "    '@num': '2',\n",
       "    '@isCorrect': '0',\n",
       "    '@numQuestion': '73',\n",
       "    '@idQuestion': '22224',\n",
       "    '@numTheme': '2',\n",
       "    '#text': 'если правильный ответ 1 и 3'},\n",
       "   {'@id': '99679',\n",
       "    '@num': '3',\n",
       "    '@isCorrect': '0',\n",
       "    '@numQuestion': '73',\n",
       "    '@idQuestion': '22224',\n",
       "    '@numTheme': '2',\n",
       "    '#text': 'если правильный ответ 2 и 4'},\n",
       "   {'@id': '99680',\n",
       "    '@num': '4',\n",
       "    '@isCorrect': '0',\n",
       "    '@numQuestion': '73',\n",
       "    '@idQuestion': '22224',\n",
       "    '@numTheme': '2',\n",
       "    '#text': 'если правильный ответ 4'},\n",
       "   {'@id': '99681',\n",
       "    '@num': '5',\n",
       "    '@isCorrect': '0',\n",
       "    '@numQuestion': '73',\n",
       "    '@idQuestion': '22224',\n",
       "    '@numTheme': '2',\n",
       "    '#text': '+если правильный ответ 1,2,3 и 4'}]}}"
      ]
     },
     "execution_count": 56,
     "metadata": {},
     "output_type": "execute_result"
    }
   ],
   "source": [
    "q"
   ]
  },
  {
   "cell_type": "markdown",
   "metadata": {},
   "source": [
    "#### Building Answers DF"
   ]
  },
  {
   "cell_type": "code",
   "execution_count": 174,
   "metadata": {
    "tags": []
   },
   "outputs": [
    {
     "data": {
      "application/vnd.jupyter.widget-view+json": {
       "model_id": "3705dfbd3ae546668e188a0450314b94",
       "version_major": 2,
       "version_minor": 0
      },
      "text/plain": [
       "  0%|          | 0/770 [00:00<?, ?it/s]"
      ]
     },
     "metadata": {},
     "output_type": "display_data"
    }
   ],
   "source": [
    "qq = []\n",
    "for q in tqdm(dd['geetest']['test']['questions']['question']):\n",
    "    aa = dict(text = q['text'],)\n",
    "    for a in q['answers']['answer']:\n",
    "        # print(a)\n",
    "        # print (a['@num'], a['#text'], a['@isCorrect'])\n",
    "        aa[a['@num']] = a['#text']\n",
    "    correct_idx = [a['@num'] for a in q['answers']['answer'] if a['@isCorrect']=='1']\n",
    "    try: \n",
    "        correct_idx = int(correct_idx[0])\n",
    "    except IndexError:\n",
    "        correct_idx = 0\n",
    "        \n",
    "    aa['correct'] = correct_idx\n",
    "\n",
    "    qq.append(aa)\n",
    "    # print(correct_idx)"
   ]
  },
  {
   "cell_type": "code",
   "execution_count": 187,
   "metadata": {
    "tags": []
   },
   "outputs": [
    {
     "name": "stdout",
     "output_type": "stream",
     "text": [
      "(770, 8)\n"
     ]
    },
    {
     "data": {
      "text/html": [
       "<div>\n",
       "<style scoped>\n",
       "    .dataframe tbody tr th:only-of-type {\n",
       "        vertical-align: middle;\n",
       "    }\n",
       "\n",
       "    .dataframe tbody tr th {\n",
       "        vertical-align: top;\n",
       "    }\n",
       "\n",
       "    .dataframe thead th {\n",
       "        text-align: right;\n",
       "    }\n",
       "</style>\n",
       "<table border=\"1\" class=\"dataframe\">\n",
       "  <thead>\n",
       "    <tr style=\"text-align: right;\">\n",
       "      <th></th>\n",
       "      <th>text</th>\n",
       "      <th>1</th>\n",
       "      <th>2</th>\n",
       "      <th>3</th>\n",
       "      <th>4</th>\n",
       "      <th>5</th>\n",
       "      <th>correct</th>\n",
       "      <th>6</th>\n",
       "      <th>lines</th>\n",
       "    </tr>\n",
       "  </thead>\n",
       "  <tbody>\n",
       "    <tr>\n",
       "      <th>0</th>\n",
       "      <td>Везикулярное дыхание выслушивается на</td>\n",
       "      <td>вдохе</td>\n",
       "      <td>выдохе</td>\n",
       "      <td>вдохе и первой трети выдоха</td>\n",
       "      <td>вдохе и первых двух третях выдоха</td>\n",
       "      <td>протяжении всего вдоха и всего выдоха</td>\n",
       "      <td>3</td>\n",
       "      <td>NaN</td>\n",
       "      <td>1</td>\n",
       "    </tr>\n",
       "    <tr>\n",
       "      <th>1</th>\n",
       "      <td>При эмфиземе легких дыхание</td>\n",
       "      <td>везикулярное</td>\n",
       "      <td>везикулярное ослабленное</td>\n",
       "      <td>везикулярное усиленное</td>\n",
       "      <td>бронхиальное</td>\n",
       "      <td>саккадированное</td>\n",
       "      <td>2</td>\n",
       "      <td>NaN</td>\n",
       "      <td>1</td>\n",
       "    </tr>\n",
       "    <tr>\n",
       "      <th>2</th>\n",
       "      <td>Крепитация характерна для</td>\n",
       "      <td>эмфиземы легких</td>\n",
       "      <td>абсцесса легких</td>\n",
       "      <td>крупозной пневмонии</td>\n",
       "      <td>бронхиальной астмы</td>\n",
       "      <td>застоя крови в малом круге кровообращения</td>\n",
       "      <td>3</td>\n",
       "      <td>NaN</td>\n",
       "      <td>1</td>\n",
       "    </tr>\n",
       "  </tbody>\n",
       "</table>\n",
       "</div>"
      ],
      "text/plain": [
       "                                    text                1  \\\n",
       "0  Везикулярное дыхание выслушивается на            вдохе   \n",
       "1            При эмфиземе легких дыхание     везикулярное   \n",
       "2              Крепитация характерна для  эмфиземы легких   \n",
       "\n",
       "                          2                            3  \\\n",
       "0                    выдохе  вдохе и первой трети выдоха   \n",
       "1  везикулярное ослабленное       везикулярное усиленное   \n",
       "2           абсцесса легких          крупозной пневмонии   \n",
       "\n",
       "                                   4  \\\n",
       "0  вдохе и первых двух третях выдоха   \n",
       "1                       бронхиальное   \n",
       "2                 бронхиальной астмы   \n",
       "\n",
       "                                           5  correct    6  lines  \n",
       "0      протяжении всего вдоха и всего выдоха        3  NaN      1  \n",
       "1                            саккадированное        2  NaN      1  \n",
       "2  застоя крови в малом круге кровообращения        3  NaN      1  "
      ]
     },
     "execution_count": 187,
     "metadata": {},
     "output_type": "execute_result"
    }
   ],
   "source": [
    "dfa0 = pd.DataFrame(qq)\n",
    "print(dfa0.shape)\n",
    "dfa0['lines'] = dfa0.text.apply(lambda x: len(x.split('\\n')))\n",
    "dfa0.head(3)"
   ]
  },
  {
   "cell_type": "code",
   "execution_count": 188,
   "metadata": {
    "tags": []
   },
   "outputs": [
    {
     "data": {
      "text/plain": [
       "1    204\n",
       "5    194\n",
       "2    140\n",
       "3    122\n",
       "4    107\n",
       "0      3\n",
       "Name: correct, dtype: int64"
      ]
     },
     "execution_count": 188,
     "metadata": {},
     "output_type": "execute_result"
    }
   ],
   "source": [
    "dfa0.correct.astype(str).value_counts()"
   ]
  },
  {
   "cell_type": "code",
   "execution_count": 189,
   "metadata": {
    "tags": []
   },
   "outputs": [
    {
     "data": {
      "text/plain": [
       "5    392\n",
       "1    355\n",
       "6     16\n",
       "4      6\n",
       "3      1\n",
       "Name: lines, dtype: int64"
      ]
     },
     "execution_count": 189,
     "metadata": {},
     "output_type": "execute_result"
    }
   ],
   "source": [
    "dfa0.lines.value_counts()"
   ]
  },
  {
   "cell_type": "code",
   "execution_count": 134,
   "metadata": {
    "tags": []
   },
   "outputs": [
    {
     "data": {
      "text/plain": [
       "text       Для нормализации состава кишечной флоры при ди...\n",
       "1                             если правильны ответы 1, 2 и 3\n",
       "2                                если правильны ответы 1 и 3\n",
       "3                                если правильны ответы 2 и 4\n",
       "4                                    если правильный ответ 4\n",
       "5                          если правильны ответы 1, 2, 3 и 4\n",
       "correct                                                    5\n",
       "6                                                        NaN\n",
       "Name: 730, dtype: object"
      ]
     },
     "execution_count": 134,
     "metadata": {},
     "output_type": "execute_result"
    }
   ],
   "source": [
    "# multiline question\n",
    "dfa0.loc[730]"
   ]
  },
  {
   "cell_type": "code",
   "execution_count": 238,
   "metadata": {
    "tags": []
   },
   "outputs": [
    {
     "data": {
      "text/plain": [
       "(355, 7)"
      ]
     },
     "execution_count": 238,
     "metadata": {},
     "output_type": "execute_result"
    }
   ],
   "source": [
    "# cleanup and re-formatting\n",
    "dfa = dfa0[dfa0.lines==1] \\\n",
    "    .drop(columns = ['6', 'lines'])\\\n",
    "    .rename(columns={'text': 'question'}) \\\n",
    "    .sample(frac=1,random_state=42,ignore_index=True) \\\n",
    "    .reset_index(drop=True)  # keep only 1-line questions, drop option 6(unused)\n",
    "# dfa['q'] = dfa.question.str.replace('\"', '').str.replace('ё', 'е')\n",
    "dfa.shape"
   ]
  },
  {
   "cell_type": "code",
   "execution_count": 192,
   "metadata": {
    "tags": []
   },
   "outputs": [
    {
     "name": "stdout",
     "output_type": "stream",
     "text": [
      "0 Приналичие патологического зубца Q во II, III и aVF отведениях очаговые изменения локализуются\n",
      "10 Основной симптом хронического бронхита, протекающего с преимущественным поражением слизистой оболочки мелких бронхов -это\n",
      "20 При спонтанной стенокардии наиболее информативным диагностическим методом является\n",
      "30 У больных артериальной гипертонией и сердечной недостаточностью для снижения АД целесообразно использовать\n",
      "40 Несоответствие между потребностью миокарда в кислороде и его доставкой по коронарному руслу является причиной ишемии миокарда при\n",
      "50 Общая длина толстой кишки\n",
      "60 По данным эхокардиографии при митральном стенозе дилатируются следующие камеры сердца\n",
      "70 Больная 33 лет обратилась в поликлинику с жалобами на боли за грудиной, чувство распирания в этой области.  Накануне вечером ела рыбу, при этом поперхнулась.  К врачу не обращалась.  Утром появились жалобы на затруднённое глотание, температура тела повысилась до 37,3 градусов С, появилось вздутие в области шеи и нижней половины лица.  Рвоты не было.  При пальпировании шеи отмечается крепитация; на рентгенограмме грудной клетки - расширение тени средостения с прослойками газа, располагающимися паравертебрально.  Предположительный диагноз\n",
      "80 Приступы стенокардии напряжения не возникают при медленной ходьбе по ровному месту у больных\n",
      "90 О какой патологии левого желудочка может свидетельствовать зона нарушения локальной сократимости в виде дискинезии,выявленная при проведении эхокардиографического исследования\n",
      "100 Характерным клиническим признаком хронического панкреатита является\n",
      "110 Площадь левого атриовентрикулярного отверстия в норме составляет\n",
      "120 Жизненная емкость легких (ЖЕЛ) - это\n",
      "130 В норме систолический градиент артериального давления между аортой и левым желудочком\n",
      "140 Основным атерогенным классом липопротеидов являются\n",
      "150 У лиц, страдающих хроническим алкоголизмом, возрастает частота пневмоний,  вызванных\n",
      "160 Прогноз заболевания у больных ИБС является наиболее неблагоприятным при локализации атеросклеротических бляшек в\n",
      "170 К субъективным проявлениям хронического гепатита относятся\n",
      "180 Проба с физической нагрузкой расценивается как положительная в случае\n",
      "190 У больных с недостаточностью митрального клапана при перкуссии относительная тупость сердца увеличена\n",
      "200 Желчные камни чаще всего состоят из\n",
      "210 При инфаркте миокарда увеличивается, в основном, содержание в крови изоферментов лактатдегидрогеназы (ЛДГ)\n",
      "220 Для проведения электрической дефибрилляции при фибрилляции желудочков целесообразно использовать разряд мощностью\n",
      "230 О кавернозном туберкулезе почки при исследовании методом экскреторной урографии свидетельствует\n",
      "240 Быстрое снижение артериального давления показано при\n",
      "250 При неспецифическом язвенном колите средней степени тяжести медикаментозным средством выбора является\n",
      "260 К развитию какой патологии может привести дисфункция папиллярной мышцы при инфаркте миокарда\n",
      "270 В лечении гиперкинетической формы дискинезий желчного пузыря используют\n",
      "280 Хронический рецидивирующий панкреатит наблюдается чаще всего при\n",
      "290 В толстой кишке всасываются\n",
      "300 В норме уровень сахара в крови при проведении теста на толерантность к глюкозе\n",
      "310 Для III ф.кл. ХСН характерны параметры физической активности (по тесту 6-минутной ходьбы):\n",
      "320 Принцип пробы Зимницкого заключается в\n",
      "330 У молодой женщины 18 лет после эмоционального стресса появилась дисфагия при употреблении жидкой холодной или горячей пищи (плотная пища проходит хорошо). Дисфагия появилась в дальнейшем при волнения, усталости. Аппетит сохранён, в весе не теряла.  При физикальном обследовании патологии не выявлено. Больной следует рекомендовать\n",
      "340 Признаком сопутствующего инфаркта миокарда правого желудочка у больных с нижним инфарктом миокарда может быть\n",
      "350 Для инфекционного эндокардита при инвазивном пути заражения наиболее часто характерно поражение\n"
     ]
    }
   ],
   "source": [
    "# SAMPLE OF QUESTIONS\n",
    "for i in range (0, len(dfa), 10):\n",
    "    print (i, dfa.iloc[i]['question'])"
   ]
  },
  {
   "cell_type": "markdown",
   "metadata": {
    "jp-MarkdownHeadingCollapsed": true,
    "tags": []
   },
   "source": [
    "## PROMPT testing"
   ]
  },
  {
   "cell_type": "code",
   "execution_count": 6,
   "metadata": {
    "tags": []
   },
   "outputs": [
    {
     "name": "stdout",
     "output_type": "stream",
     "text": [
      "You need to find the best answer to the following question:\n",
      "\"Лёгочное сердце\" может возникнуть при\".\n",
      "choose correct answer only for the four items below:\n",
      "1. ишемической болезни сердца\n",
      "2. гипертонической болезни\n",
      "3. хронической обструктивной болезни лёгких\n",
      "4. гипертиреозе\n",
      "The number of the correct answer is:\n"
     ]
    }
   ],
   "source": [
    "row = df.loc[1]\n",
    "template = \"\"\"You need to find the best answer to the following question:\n",
    "{}\".\n",
    "choose correct answer only for the four items below:\n",
    "1. {}\n",
    "2. {}\n",
    "3. {}\n",
    "4. {}\n",
    "The number of the correct answer is:\"\"\"\n",
    "\n",
    "rqst = template.format(*row[['question', '1', '2', '3', '4']])\n",
    "print(rqst)"
   ]
  },
  {
   "cell_type": "code",
   "execution_count": 7,
   "metadata": {
    "tags": []
   },
   "outputs": [
    {
     "name": "stdout",
     "output_type": "stream",
     "text": [
      "You are a medical doctor and need to answer which one of the four statements is correct:\n",
      "1. \"Лёгочное сердце\" может возникнуть при ишемической болезни сердца\".\n",
      "2. \"Лёгочное сердце\" может возникнуть при гипертонической болезни\".\n",
      "3. \"Лёгочное сердце\" может возникнуть при хронической обструктивной болезни лёгких\".\n",
      "4. \"Лёгочное сердце\" может возникнуть при гипертиреозе\".\n",
      "The number of the correct statements is:\n"
     ]
    }
   ],
   "source": [
    "row = df.loc[1]\n",
    "template1 = \"\"\"You are a medical doctor and need to answer which one of the four statements is correct:\n",
    "1. {0} {1}\".\n",
    "2. {0} {2}\".\n",
    "3. {0} {3}\".\n",
    "4. {0} {4}\".\n",
    "The number of the correct statements is:\"\"\"\n",
    "\n",
    "rqst1 = template1.format(*row[['question', '1', '2', '3', '4']])\n",
    "print(rqst1)"
   ]
  },
  {
   "cell_type": "code",
   "execution_count": 114,
   "metadata": {
    "tags": []
   },
   "outputs": [
    {
     "name": "stdout",
     "output_type": "stream",
     "text": [
      "You need to pass a medical doctor exam and absolutely need to select correct answer from groups of the four statements, which has highest probability of being correct:\n",
      "Statements:\n",
      "1. В амбулаторных условиях день овуляции диагностируется с помощью измерения базальной температуры\".\n",
      "2. В амбулаторных условиях день овуляции диагностируется с помощью кольпоскопии\".\n",
      "3. В амбулаторных условиях день овуляции диагностируется с помощью гистероскопии\".\n",
      "4. В амбулаторных условиях день овуляции диагностируется с помощью кольпоцитологии\".\n",
      "Answer: 1\n",
      "Statements:\n",
      "1. \"Лёгочное сердце\" может возникнуть при ишемической болезни сердца\".\n",
      "2. \"Лёгочное сердце\" может возникнуть при гипертонической болезни\".\n",
      "3. \"Лёгочное сердце\" может возникнуть при хронической обструктивной болезни лёгких\".\n",
      "4. \"Лёгочное сердце\" может возникнуть при гипертиреозе\".\n",
      "Answer:\n"
     ]
    }
   ],
   "source": [
    "row = df.loc[1]\n",
    "template2 = \"\"\"You need to pass a medical doctor exam and absolutely need to select correct answer from groups of the four statements, which has highest probability of being correct:\n",
    "Statements:\n",
    "1. В амбулаторных условиях день овуляции диагностируется с помощью измерения базальной температуры\".\n",
    "2. В амбулаторных условиях день овуляции диагностируется с помощью кольпоскопии\".\n",
    "3. В амбулаторных условиях день овуляции диагностируется с помощью гистероскопии\".\n",
    "4. В амбулаторных условиях день овуляции диагностируется с помощью кольпоцитологии\".\n",
    "Answer: 1\n",
    "Statements:\n",
    "1. {0} {1}\".\n",
    "2. {0} {2}\".\n",
    "3. {0} {3}\".\n",
    "4. {0} {4}\".\n",
    "Answer:\"\"\"\n",
    "\n",
    "rqst1 = template2.format(*row[['question', '1', '2', '3', '4']])\n",
    "print(rqst1)"
   ]
  },
  {
   "cell_type": "code",
   "execution_count": 132,
   "metadata": {
    "tags": []
   },
   "outputs": [
    {
     "name": "stdout",
     "output_type": "stream",
     "text": [
      "You are a medical doctor and need to answer which one of the four statements is correct:\n",
      "1. \"Лёгочное сердце\" может возникнуть при ишемической болезни сердца\".\n",
      "2. \"Лёгочное сердце\" может возникнуть при гипертонической болезни\".\n",
      "3. \"Лёгочное сердце\" может возникнуть при хронической обструктивной болезни лёгких\".\n",
      "4. \"Лёгочное сердце\" может возникнуть при гипертиреозе\".\n",
      "The number of the correct statements is:\n"
     ]
    }
   ],
   "source": [
    "row = df.loc[1]\n",
    "template3 = \"\"\"You are a medical doctor and absolutely need to answer which one of the four statements has highest probability of being correct:\n",
    "1. {0} {1}\".\n",
    "2. {0} {2}\".\n",
    "3. {0} {3}\".\n",
    "4. {0} {4}\".\n",
    "The number of the most likely correct statement is:\"\"\"\n",
    "\n",
    "rqst1 = template1.format(*row[['question', '1', '2', '3', '4']])\n",
    "print(rqst1)"
   ]
  },
  {
   "cell_type": "markdown",
   "metadata": {
    "tags": []
   },
   "source": [
    "### single question tester"
   ]
  },
  {
   "cell_type": "code",
   "execution_count": 183,
   "metadata": {},
   "outputs": [],
   "source": [
    "oa = OpenAI(engine=\"text-davinci-003\")"
   ]
  },
  {
   "cell_type": "code",
   "execution_count": 184,
   "metadata": {
    "tags": []
   },
   "outputs": [],
   "source": [
    "q1 = \"\"\"You need to pass a medical doctor exam and absolutely need to select correct answer from groups of the four statements, which has highest probability of being correct:\n",
    "Statements:\n",
    "1. В амбулаторных условиях день овуляции диагностируется с помощью измерения базальной температуры\".\n",
    "2. В амбулаторных условиях день овуляции диагностируется с помощью кольпоскопии\".\n",
    "3. В амбулаторных условиях день овуляции диагностируется с помощью гистероскопии\".\n",
    "4. В амбулаторных условиях день овуляции диагностируется с помощью кольпоцитологии\".\n",
    "Answer: 1\n",
    "Statements:\n",
    "1. Амфорическое дыхание наблюдается при абсцессе лёгкого\".\n",
    "2. Амфорическое дыхание наблюдается при бронхиальной астме\".\n",
    "3. Амфорическое дыхание наблюдается при бронхите\".\n",
    "4. Амфорическое дыхание наблюдается при очаговой пневмонии\".\n",
    "Answer:\"\"\""
   ]
  },
  {
   "cell_type": "code",
   "execution_count": 185,
   "metadata": {
    "tags": []
   },
   "outputs": [
    {
     "data": {
      "text/plain": [
       "' 4'"
      ]
     },
     "execution_count": 185,
     "metadata": {},
     "output_type": "execute_result"
    }
   ],
   "source": [
    "ans = oa(q1)\n",
    "ans"
   ]
  },
  {
   "cell_type": "markdown",
   "metadata": {
    "tags": []
   },
   "source": [
    "### Prompt 3a"
   ]
  },
  {
   "cell_type": "code",
   "execution_count": 149,
   "metadata": {
    "tags": []
   },
   "outputs": [
    {
     "name": "stdout",
     "output_type": "stream",
     "text": [
      "You are a medical doctor and absolutely need to answer which one of the four statements has highest probability of being correct:\n",
      "1. При эмфиземе легких дыхание везикулярное\".\n",
      "2. При эмфиземе легких дыхание везикулярное ослабленное\".\n",
      "3. При эмфиземе легких дыхание везикулярное усиленное\".\n",
      "4. При эмфиземе легких дыхание бронхиальное\".\n",
      "5. При эмфиземе легких дыхание саккадированное\".\n",
      "The number of the most likely correct statement is:\n"
     ]
    }
   ],
   "source": [
    "row = dfa1.iloc[1]\n",
    "template3a = \"\"\"You are a medical doctor and absolutely need to answer which one of the four statements has highest probability of being correct:\n",
    "1. {0} {1}\".\n",
    "2. {0} {2}\".\n",
    "3. {0} {3}\".\n",
    "4. {0} {4}\".\n",
    "5. {0} {5}\".\n",
    "The number of the most likely correct statement is:\"\"\"\n",
    "\n",
    "rqst1 = template3a.format(*row[['text', '1', '2', '3', '4', '5', '']])\n",
    "print(rqst1)"
   ]
  },
  {
   "cell_type": "code",
   "execution_count": 153,
   "metadata": {
    "tags": []
   },
   "outputs": [
    {
     "data": {
      "application/vnd.jupyter.widget-view+json": {
       "model_id": "d68d0b1fe6aa45fc855821fd567c022d",
       "version_major": 2,
       "version_minor": 0
      },
      "text/plain": [
       "  0%|          | 0/20 [00:00<?, ?it/s]"
      ]
     },
     "metadata": {},
     "output_type": "display_data"
    },
    {
     "name": "stdout",
     "output_type": "stream",
     "text": [
      "0 3  5. Везикулярное дыхание выслушивается на протяжении всего в\n",
      "1 2  2. При эмфиземе легких дыхание везикулярное ослабленное\".\n",
      "2 3  2. Крепитация характерна для абсцесса легких\".\n",
      "3 4  3. Для крупозной пневмонии в разгар болезни характерен перк\n",
      "4 4  5. Бронхиальное дыхание выслушивается на вдохе и первых дву\n",
      "5 4  4. Амфорическое дыхание наблюдается при абсцессе легкого\n",
      "6 2  4. Ослабление голосового дрожания характерно для очаговой пн\n",
      "7 2  5. Усиление голосового дрожания типично для бронхиальной астм\n",
      "8 4  3. Пульс  tardus, parvus характерен для недостаточности аортального кл\n",
      "9 5  5. Наличие у больного положительного венного пульса характерно\n",
      "10 2  4. Наиболее вероятная причина значительного расширения абс\n",
      "11 4  5. Значительное расширение сердца влево и вниз наблюдается\n",
      "12 2  3. Кровохарканье чаще всего наблюдается при недостаточнос\n",
      "13 1  5. Систолическое дрожание над верхушкой сердца характерно д\n",
      "14 5  3. Усиление систолического шума в области нижней трети груд\n",
      "15 3  3. Односторонние боли в поясничной области характерны для ост\n",
      "16 3  5. Типичным при асците является громкий тимпанит в боковых\n",
      "17 1  1. Альбуминурия и гипопротеинемия в сочетании с цилиндрурие\n",
      "18 4  5. Показанием к эзофагоскопии не является варикозное расши\n",
      "19 3  5. Из указанных заболеваний относительным противопоказание\n",
      "CPU times: user 274 ms, sys: 23.7 ms, total: 298 ms\n",
      "Wall time: 2min 5s\n"
     ]
    }
   ],
   "source": [
    "%%time \n",
    "log_rmt_2 =[]\n",
    "for i in trange(20):\n",
    "# for i in tqdm(range (df.shape[0])):\n",
    "    row = dfa1.iloc[i]\n",
    "    rqst = template3a.format(*row[['text', '1', '2', '3', '4', '5']])\n",
    "    ans = oa(rqst)\n",
    "    log_rmt_2 =[].append((i, row['text'], rqst, ans))\n",
    "    print(i, row['correct'], ans, sep='\\t')"
   ]
  },
  {
   "cell_type": "code",
   "execution_count": 225,
   "metadata": {
    "tags": []
   },
   "outputs": [
    {
     "data": {
      "text/html": [
       "<div>\n",
       "<style scoped>\n",
       "    .dataframe tbody tr th:only-of-type {\n",
       "        vertical-align: middle;\n",
       "    }\n",
       "\n",
       "    .dataframe tbody tr th {\n",
       "        vertical-align: top;\n",
       "    }\n",
       "\n",
       "    .dataframe thead th {\n",
       "        text-align: right;\n",
       "    }\n",
       "</style>\n",
       "<table border=\"1\" class=\"dataframe\">\n",
       "  <thead>\n",
       "    <tr style=\"text-align: right;\">\n",
       "      <th></th>\n",
       "      <th>n</th>\n",
       "      <th>a</th>\n",
       "      <th>a0</th>\n",
       "      <th>q</th>\n",
       "    </tr>\n",
       "  </thead>\n",
       "  <tbody>\n",
       "    <tr>\n",
       "      <th>0</th>\n",
       "      <td>0</td>\n",
       "      <td>3</td>\n",
       "      <td>5</td>\n",
       "      <td>Везикулярное дыхание выслушивается на протяжен...</td>\n",
       "    </tr>\n",
       "    <tr>\n",
       "      <th>1</th>\n",
       "      <td>1</td>\n",
       "      <td>2</td>\n",
       "      <td>2</td>\n",
       "      <td>При эмфиземе легких дыхание везикулярное ослаб...</td>\n",
       "    </tr>\n",
       "    <tr>\n",
       "      <th>2</th>\n",
       "      <td>2</td>\n",
       "      <td>3</td>\n",
       "      <td>2</td>\n",
       "      <td>Крепитация характерна для абсцесса легких\".</td>\n",
       "    </tr>\n",
       "    <tr>\n",
       "      <th>3</th>\n",
       "      <td>3</td>\n",
       "      <td>4</td>\n",
       "      <td>3</td>\n",
       "      <td>Для крупозной пневмонии в разгар болезни харак...</td>\n",
       "    </tr>\n",
       "    <tr>\n",
       "      <th>4</th>\n",
       "      <td>4</td>\n",
       "      <td>4</td>\n",
       "      <td>5</td>\n",
       "      <td>Бронхиальное дыхание выслушивается на вдохе и ...</td>\n",
       "    </tr>\n",
       "  </tbody>\n",
       "</table>\n",
       "</div>"
      ],
      "text/plain": [
       "   n  a a0                                                  q\n",
       "0  0  3  5  Везикулярное дыхание выслушивается на протяжен...\n",
       "1  1  2  2  При эмфиземе легких дыхание везикулярное ослаб...\n",
       "2  2  3  2        Крепитация характерна для абсцесса легких\".\n",
       "3  3  4  3  Для крупозной пневмонии в разгар болезни харак...\n",
       "4  4  4  5  Бронхиальное дыхание выслушивается на вдохе и ..."
      ]
     },
     "execution_count": 225,
     "metadata": {},
     "output_type": "execute_result"
    }
   ],
   "source": [
    "p3a = pd.DataFrame(log_rmt_2, columns = 'n a a0 q'.split(' '))\n",
    "p3a.head()"
   ]
  },
  {
   "cell_type": "code",
   "execution_count": 222,
   "metadata": {
    "tags": []
   },
   "outputs": [
    {
     "data": {
      "text/plain": [
       "0.25"
      ]
     },
     "execution_count": 222,
     "metadata": {},
     "output_type": "execute_result"
    }
   ],
   "source": [
    "(p3a.a.astype(int) == p3a.a0.astype(int)).mean()"
   ]
  },
  {
   "cell_type": "code",
   "execution_count": 157,
   "metadata": {
    "tags": []
   },
   "outputs": [
    {
     "name": "stdout",
     "output_type": "stream",
     "text": [
      "You are a medical doctor and absolutely need to answer which one of the four statements has highest probability of being correct:\n",
      "1. Крепитация характерна для эмфиземы легких\".\n",
      "2. Крепитация характерна для абсцесса легких\".\n",
      "3. Крепитация характерна для крупозной пневмонии\".\n",
      "4. Крепитация характерна для бронхиальной астмы\".\n",
      "5. Крепитация характерна для застоя крови в малом круге кровообращения\".\n",
      "The number of the most likely correct statement is:\n"
     ]
    }
   ],
   "source": [
    "i = 2\n",
    "row = dfa1.iloc[i]\n",
    "rqst = template3a.format(*row[['text', '1', '2', '3', '4', '5']])\n",
    "print(rqst)"
   ]
  },
  {
   "cell_type": "markdown",
   "metadata": {},
   "source": [
    "### p3b (p3a with translation)"
   ]
  },
  {
   "cell_type": "code",
   "execution_count": 158,
   "metadata": {
    "scrolled": true,
    "tags": []
   },
   "outputs": [
    {
     "data": {
      "application/vnd.jupyter.widget-view+json": {
       "model_id": "7946f46bd55d4347a13c5c481c631e76",
       "version_major": 2,
       "version_minor": 0
      },
      "text/plain": [
       "  0%|          | 0/20 [00:00<?, ?it/s]"
      ]
     },
     "metadata": {},
     "output_type": "display_data"
    },
    {
     "name": "stdout",
     "output_type": "stream",
     "text": [
      "You are a medical doctor and absolutely need to answer which one of the four statements has highest probability of being correct:\n",
      "1. Везикулярное дыхание выслушивается на вдохе\".\n",
      "2. Везикулярное дыхание выслушивается на выдохе\".\n",
      "3. Везикулярное дыхание выслушивается на вдохе и первой трети выдоха\".\n",
      "4. Везикулярное дыхание выслушивается на вдохе и первых двух третях выдоха\".\n",
      "5. Везикулярное дыхание выслушивается на протяжении всего вдоха и всего выдоха\".\n",
      "The number of the most likely correct statement is:\n",
      "###\n",
      "You are a medical doctor and absolutely need to answer which one of the four statements has highest probability of being correct:\n",
      "1. При эмфиземе легких дыхание везикулярное\".\n",
      "2. При эмфиземе легких дыхание везикулярное ослабленное\".\n",
      "3. При эмфиземе легких дыхание везикулярное усиленное\".\n",
      "4. При эмфиземе легких дыхание бронхиальное\".\n",
      "5. При эмфиземе легких дыхание саккадированное\".\n",
      "The number of the most likely correct statement is:\n",
      "###\n",
      "You are a medical doctor and absolutely need to answer which one of the four statements has highest probability of being correct:\n",
      "1. Крепитация характерна для эмфиземы легких\".\n",
      "2. Крепитация характерна для абсцесса легких\".\n",
      "3. Крепитация характерна для крупозной пневмонии\".\n",
      "4. Крепитация характерна для бронхиальной астмы\".\n",
      "5. Крепитация характерна для застоя крови в малом круге кровообращения\".\n",
      "The number of the most likely correct statement is:\n",
      "###\n",
      "You are a medical doctor and absolutely need to answer which one of the four statements has highest probability of being correct:\n",
      "1. Для крупозной пневмонии в разгар болезни характерен перкуторный звук притуплённый тимпанит\".\n",
      "2. Для крупозной пневмонии в разгар болезни характерен перкуторный звук коробочный\".\n",
      "3. Для крупозной пневмонии в разгар болезни характерен перкуторный звук тимпанический\".\n",
      "4. Для крупозной пневмонии в разгар болезни характерен перкуторный звук тупой\".\n",
      "5. Для крупозной пневмонии в разгар болезни характерен перкуторный звук металлический\".\n",
      "The number of the most likely correct statement is:\n",
      "###\n",
      "You are a medical doctor and absolutely need to answer which one of the four statements has highest probability of being correct:\n",
      "1. Бронхиальное дыхание выслушивается на вдохе\".\n",
      "2. Бронхиальное дыхание выслушивается на выдохе\".\n",
      "3. Бронхиальное дыхание выслушивается на вдохе и одной трети выдоха\".\n",
      "4. Бронхиальное дыхание выслушивается на протяжении всего вдоха и всего выдоха\".\n",
      "5. Бронхиальное дыхание выслушивается на вдохе и первых двух третях выдоха\".\n",
      "The number of the most likely correct statement is:\n",
      "###\n",
      "You are a medical doctor and absolutely need to answer which one of the four statements has highest probability of being correct:\n",
      "1. Амфорическое дыхание наблюдается при очаговой пневмонии\".\n",
      "2. Амфорическое дыхание наблюдается при бронхите\".\n",
      "3. Амфорическое дыхание наблюдается при бронхиальной астме\".\n",
      "4. Амфорическое дыхание наблюдается при абсцессе легкого\".\n",
      "5. Амфорическое дыхание наблюдается при эмфиземе легких\".\n",
      "The number of the most likely correct statement is:\n",
      "###\n",
      "You are a medical doctor and absolutely need to answer which one of the four statements has highest probability of being correct:\n",
      "1. Ослабление голосового дрожания характерно для бронхоэктазов\".\n",
      "2. Ослабление голосового дрожания характерно для экссудативного плеврита\".\n",
      "3. Ослабление голосового дрожания характерно для абсцесса легкого в стадии полости\".\n",
      "4. Ослабление голосового дрожания характерно для очаговой пневмонии\".\n",
      "5. Ослабление голосового дрожания характерно для крупозной пневмонии\".\n",
      "The number of the most likely correct statement is:\n",
      "###\n",
      "You are a medical doctor and absolutely need to answer which one of the four statements has highest probability of being correct:\n",
      "1. Усиление голосового дрожания типично для гидроторакса\".\n",
      "2. Усиление голосового дрожания типично для абсцесса легкого в стадии полости\".\n",
      "3. Усиление голосового дрожания типично для закрытого пневмоторакса\".\n",
      "4. Усиление голосового дрожания типично для эмфиземы легких\".\n",
      "5. Усиление голосового дрожания типично для бронхиальной астмы\".\n",
      "The number of the most likely correct statement is:\n",
      "###\n",
      "You are a medical doctor and absolutely need to answer which one of the four statements has highest probability of being correct:\n",
      "1. Пульс  tardus, parvus характерен для недостаточности трехстворчатого клапана\".\n",
      "2. Пульс  tardus, parvus характерен для недостаточности митрального клапана\".\n",
      "3. Пульс  tardus, parvus характерен для недостаточности аортального клапана\".\n",
      "4. Пульс  tardus, parvus характерен для стеноза устья аорты\".\n",
      "5. Пульс  tardus, parvus характерен для митрального стеноза\".\n",
      "The number of the most likely correct statement is:\n",
      "###\n",
      "You are a medical doctor and absolutely need to answer which one of the four statements has highest probability of being correct:\n",
      "1. Наличие у больного положительного венного пульса характерно для недостаточности митрального клапана\".\n",
      "2. Наличие у больного положительного венного пульса характерно для митрального стеноза\".\n",
      "3. Наличие у больного положительного венного пульса характерно для недостаточности аортального клапана\".\n",
      "4. Наличие у больного положительного венного пульса характерно для стеноза устья аорты\".\n",
      "5. Наличие у больного положительного венного пульса характерно для недостаточности трехстворчатого клапана\".\n",
      "The number of the most likely correct statement is:\n",
      "###\n",
      "You are a medical doctor and absolutely need to answer which one of the four statements has highest probability of being correct:\n",
      "1. Наиболее вероятная причина значительного расширения абсолютной тупости сердца дилатация правого предсердия\".\n",
      "2. Наиболее вероятная причина значительного расширения абсолютной тупости сердца дилатация правого желудочка\".\n",
      "3. Наиболее вероятная причина значительного расширения абсолютной тупости сердца гипертрофия правого желудочка\".\n",
      "4. Наиболее вероятная причина значительного расширения абсолютной тупости сердца дилатация левого желудочка\".\n",
      "5. Наиболее вероятная причина значительного расширения абсолютной тупости сердца гипертрофия левого желудочка\".\n",
      "The number of the most likely correct statement is:\n",
      "###\n",
      "You are a medical doctor and absolutely need to answer which one of the four statements has highest probability of being correct:\n",
      "1. Значительное расширение сердца влево и вниз наблюдается при дилатации правого предсердии\".\n",
      "2. Значительное расширение сердца влево и вниз наблюдается при дилатации правого желудочка\".\n",
      "3. Значительное расширение сердца влево и вниз наблюдается при дилатации левого предсердия\".\n",
      "4. Значительное расширение сердца влево и вниз наблюдается при дилатации левого желудочка\".\n",
      "5. Значительное расширение сердца влево и вниз наблюдается при дилатации левого предсердия и правого желудочка\".\n",
      "The number of the most likely correct statement is:\n",
      "###\n",
      "You are a medical doctor and absolutely need to answer which one of the four statements has highest probability of being correct:\n",
      "1. Кровохарканье чаще всего наблюдается при недостаточности митрального клапана\".\n",
      "2. Кровохарканье чаще всего наблюдается при митральном стенозе\".\n",
      "3. Кровохарканье чаще всего наблюдается при недостаточности аортального клапана\".\n",
      "4. Кровохарканье чаще всего наблюдается при стенозе устья аорты\".\n",
      "5. Кровохарканье чаще всего наблюдается при недостаточности трехстворчатого клапана\".\n",
      "The number of the most likely correct statement is:\n",
      "###\n",
      "You are a medical doctor and absolutely need to answer which one of the four statements has highest probability of being correct:\n",
      "1. Систолическое дрожание над верхушкой сердца характерно для недостаточности митрального клапана\".\n",
      "2. Систолическое дрожание над верхушкой сердца характерно для недостаточности аортального клапана\".\n",
      "3. Систолическое дрожание над верхушкой сердца характерно для митрального стеноза\".\n",
      "4. Систолическое дрожание над верхушкой сердца характерно для стеноза устья аорты\".\n",
      "5. Систолическое дрожание над верхушкой сердца характерно для недостаточности трехстворчатого клапана\".\n",
      "The number of the most likely correct statement is:\n",
      "###\n",
      "You are a medical doctor and absolutely need to answer which one of the four statements has highest probability of being correct:\n",
      "1. Усиление систолического шума в области нижней трети грудины в конце форсированного вдоха типично для недостаточности митрального клапана\".\n",
      "2. Усиление систолического шума в области нижней трети грудины в конце форсированного вдоха типично для митрального стеноза\".\n",
      "3. Усиление систолического шума в области нижней трети грудины в конце форсированного вдоха типично для недостаточности аортального клапана\".\n",
      "4. Усиление систолического шума в области нижней трети грудины в конце форсированного вдоха типично для стеноза устья аорты\".\n",
      "5. Усиление систолического шума в области нижней трети грудины в конце форсированного вдоха типично для недостаточности трехстворчатого клапана\".\n",
      "The number of the most likely correct statement is:\n",
      "###\n",
      "You are a medical doctor and absolutely need to answer which one of the four statements has highest probability of being correct:\n",
      "1. Односторонние боли в поясничной области характерны для острого гломерулонефрита\".\n",
      "2. Односторонние боли в поясничной области характерны для острого цистита\".\n",
      "3. Односторонние боли в поясничной области характерны для острого пиелонефрита\".\n",
      "4. Односторонние боли в поясничной области характерны для амилоидоза почек\".\n",
      "5. Односторонние боли в поясничной области характерны для хронического гломерулонефрита\".\n",
      "The number of the most likely correct statement is:\n",
      "###\n",
      "You are a medical doctor and absolutely need to answer which one of the four statements has highest probability of being correct:\n",
      "1. Типичным при асците является выраженная асимметрия живота\".\n",
      "2. Типичным при асците является втянутый пупок\".\n",
      "3. Типичным при асците является симптом флюктуации\".\n",
      "4. Типичным при асците является расхождение прямых мышц живота\".\n",
      "5. Типичным при асците является громкий тимпанит в боковых отделах живота при положении больного лежа\".\n",
      "The number of the most likely correct statement is:\n",
      "###\n",
      "You are a medical doctor and absolutely need to answer which one of the four statements has highest probability of being correct:\n",
      "1. Альбуминурия и гипопротеинемия в сочетании с цилиндрурией и отеками характерны для острого гломерулонефрита\".\n",
      "2. Альбуминурия и гипопротеинемия в сочетании с цилиндрурией и отеками характерны для пиелонефрита\".\n",
      "3. Альбуминурия и гипопротеинемия в сочетании с цилиндрурией и отеками характерны для почечно-каменной болезни\".\n",
      "4. Альбуминурия и гипопротеинемия в сочетании с цилиндрурией и отеками характерны для цистита\".\n",
      "5. Альбуминурия и гипопротеинемия в сочетании с цилиндрурией и отеками характерны для нефроптоза\".\n",
      "The number of the most likely correct statement is:\n",
      "###\n",
      "You are a medical doctor and absolutely need to answer which one of the four statements has highest probability of being correct:\n",
      "1. Показанием к эзофагоскопии не является грыжа пищеводного отверстия диафрагмы\".\n",
      "2. Показанием к эзофагоскопии не является эзофагит\".\n",
      "3. Показанием к эзофагоскопии не является рак пищевода\".\n",
      "4. Показанием к эзофагоскопии не является травма грудной клетки\".\n",
      "5. Показанием к эзофагоскопии не является варикозное расширение вей пищевода\".\n",
      "The number of the most likely correct statement is:\n",
      "###\n",
      "You are a medical doctor and absolutely need to answer which one of the four statements has highest probability of being correct:\n",
      "1. Из указанных заболеваний относительным противопоказанием к эзофагоскопии является варикозное расширение вен пищевода\".\n",
      "2. Из указанных заболеваний относительным противопоказанием к эзофагоскопии является эпилепсия\".\n",
      "3. Из указанных заболеваний относительным противопоказанием к эзофагоскопии является острое воспалительное заболевание миндалин,глотки,гортани,бронхов\".\n",
      "4. Из указанных заболеваний относительным противопоказанием к эзофагоскопии является эзофагит\".\n",
      "5. Из указанных заболеваний относительным противопоказанием к эзофагоскопии является рак пищевода\".\n",
      "The number of the most likely correct statement is:\n",
      "###\n",
      "CPU times: user 62 ms, sys: 5.45 ms, total: 67.4 ms\n",
      "Wall time: 72.9 ms\n"
     ]
    }
   ],
   "source": [
    "%%time \n",
    "log_rmt_2 =[]\n",
    "for i in trange(20):\n",
    "    row = dfa1.iloc[i]\n",
    "    rqst = template3a.format(*row[['text', '1', '2', '3', '4', '5']])\n",
    "    print(rqst)\n",
    "    print('###')"
   ]
  },
  {
   "cell_type": "code",
   "execution_count": 164,
   "metadata": {
    "tags": []
   },
   "outputs": [],
   "source": [
    "tr = \"\"\"You are a medical doctor and absolutely need to answer which one of the four statements has the highest probability of being correct:\n",
    "1. Vesicular breathing is heard on inspiration.\n",
    "2. Vesicular breathing is heard on expiration.\n",
    "3. Vesicular breathing is heard during inspiration and the first third of expiration.\n",
    "4. Vesicular breathing is heard during inhalation and the first two-thirds of exhalation.\n",
    "5. Vesicular breathing is heard throughout the entire inhalation and the entire exhalation.\n",
    "The number of the most likely correct statement is:\n",
    "###\n",
    "You are a medical doctor and absolutely need to answer which one of the four statements has the highest probability of being correct:\n",
    "1. With emphysema, breathing is vesicular.\n",
    "2. With emphysema, vesicular breathing is weakened.\n",
    "3. With emphysema, vesicular breathing is increased.\n",
    "4. With emphysema, bronchial breathing.\"\n",
    "5. With emphysema, breathing is saccadic.\"\n",
    "The number of the most likely correct statement is:\n",
    "###\n",
    "You are a medical doctor and absolutely need to answer which one of the four statements has the highest probability of being correct:\n",
    "1. Crepitus is characteristic of emphysema.\"\n",
    "2. Crepitus is characteristic of a lung abscess.\"\n",
    "3. Crepitus is characteristic of croupous pneumonia.\"\n",
    "4. Crepitus is characteristic of bronchial asthma.\n",
    "5. Crepitus is characteristic of stagnation of blood in the pulmonary circulation.\n",
    "The number of the most likely correct statement is:\n",
    "###\n",
    "You are a medical doctor and absolutely need to answer which one of the four statements has the highest probability of being correct:\n",
    "1. For croupous pneumonia at the height of the disease, a dull tympanitis is characteristic on percussion.\n",
    "2. For croupous pneumonia at the height of the disease, a boxed percussion sound is characteristic.\n",
    "3. For croupous pneumonia at the height of the disease, a tympanic percussion sound is characteristic.\n",
    "4. For croupous pneumonia at the height of the disease, a dull percussion sound is characteristic.\n",
    "5. For croupous pneumonia at the height of the disease, a metallic percussion sound is characteristic.\n",
    "The number of the most likely correct statement is:\n",
    "###\n",
    "You are a medical doctor and absolutely need to answer which one of the four statements has the highest probability of being correct:\n",
    "1. Bronchial breathing is heard on inspiration.\n",
    "2. Bronchial breathing is heard on exhalation.\n",
    "3. Bronchial breathing is heard during inhalation and one third of exhalation.\n",
    "4. Bronchial breathing is heard throughout the entire inhalation and the entire exhalation.\n",
    "5. Bronchial breathing is heard during inhalation and the first two-thirds of exhalation.\n",
    "The number of the most likely correct statement is:\n",
    "###\n",
    "You are a medical doctor and absolutely need to answer which one of the four statements has the highest probability of being correct:\n",
    "1. Amphoric breathing is observed in focal pneumonia.\n",
    "2. Amphoric breathing is observed in bronchitis.\n",
    "3. Amphoric breathing is observed in bronchial asthma.\n",
    "4. Amphoric breathing is observed with a lung abscess.\n",
    "5. Amphoric breathing is observed in emphysema.\"\n",
    "The number of the most likely correct statement is:\n",
    "###\n",
    "You are a medical doctor and absolutely need to answer which one of the four statements has the highest probability of being correct:\n",
    "1. Weakening of voice trembling is characteristic of bronchiectasis.\"\n",
    "2. Weakening of voice trembling is characteristic of exudative pleurisy.\"\n",
    "3. The weakening of voice trembling is characteristic of a lung abscess in the cavity stage.\n",
    "4. Weakening of voice trembling is characteristic of focal pneumonia.\"\n",
    "5. Weakening of voice trembling is characteristic of croupous pneumonia.\n",
    "The number of the most likely correct statement is:\n",
    "###\n",
    "You are a medical doctor and absolutely need to answer which one of the four statements has the highest probability of being correct:\n",
    "1. Increased vocal trembling is typical of hydrothorax.\"\n",
    "2. Increased voice trembling is typical of a lung abscess in the cavity stage.\n",
    "3. Increased voice trembling is typical of closed pneumothorax.\"\n",
    "4. Increased voice trembling is typical of emphysema.\"\n",
    "5. Increased voice trembling is typical for bronchial asthma.\n",
    "The number of the most likely correct statement is:\n",
    "###\n",
    "You are a medical doctor and absolutely need to answer which one of the four statements has the highest probability of being correct:\n",
    "1. Pulse tardus, parvus is characteristic of tricuspid valve insufficiency.\n",
    "2. Pulse tardus, parvus is characteristic of mitral valve insufficiency.\n",
    "3. Pulse tardus, parvus is characteristic of aortic valve insufficiency.\n",
    "4. Pulse tardus, parvus is characteristic of stenosis of the aortic mouth.\n",
    "5. Pulse tardus, parvus is characteristic of mitral stenosis.\n",
    "The number of the most likely correct statement is:\n",
    "###\n",
    "You are a medical doctor and absolutely need to answer which one of the four statements has the highest probability of being correct:\n",
    "1. The presence of a positive venous pulse in a patient is characteristic of mitral valve insufficiency.\n",
    "2. The presence of a positive venous pulse in a patient is characteristic of mitral stenosis.\n",
    "3. The presence of a positive venous pulse in a patient is characteristic of aortic valve insufficiency.\n",
    "4. The presence of a positive venous pulse in a patient is characteristic of stenosis of the aortic orifice.\n",
    "5. The presence of a positive venous pulse in a patient is characteristic of tricuspid valve insufficiency.\n",
    "The number of the most likely correct statement is:\n",
    "###\n",
    "You are a medical doctor and absolutely need to answer which one of the four statements has the highest probability of being correct:\n",
    "1. The most probable cause of a significant expansion of the absolute dullness of the heart is dilatation of the right atrium.\n",
    "2. The most probable cause of a significant increase in the absolute dullness of the heart is dilatation of the right ventricle.\n",
    "3. The most probable cause of a significant expansion of the absolute dullness of the heart is right ventricular hypertrophy.\n",
    "4. The most probable cause of a significant increase in the absolute dullness of the heart is dilatation of the left ventricle.\n",
    "5. The most probable cause of a significant expansion of the absolute dullness of the heart is left ventricular hypertrophy.\n",
    "The number of the most likely correct statement is:\n",
    "###\n",
    "You are a medical doctor and absolutely need to answer which one of the four statements has the highest probability of being correct:\n",
    "1. A significant expansion of the heart to the left and down is observed with dilatation of the right atrium.\n",
    "2. A significant expansion of the heart to the left and down is observed with dilatation of the right ventricle.\n",
    "3. A significant expansion of the heart to the left and down is observed with dilatation of the left atrium.\n",
    "4. A significant expansion of the heart to the left and down is observed with dilatation of the left ventricle.\n",
    "5. A significant expansion of the heart to the left and down is observed with dilatation of the left atrium and right ventricle.\n",
    "The number of the most likely correct statement is:\n",
    "###\n",
    "You are a medical doctor and absolutely need to answer which one of the four statements has the highest probability of being correct:\n",
    "1. Hemoptysis is most often observed with mitral valve insufficiency.\n",
    "2. Hemoptysis is most often observed with mitral stenosis.\n",
    "3. Hemoptysis is most often observed with aortic valve insufficiency.\n",
    "4. Hemoptysis is most often observed with stenosis of the aortic orifice.\"\n",
    "5. Hemoptysis is most often observed with tricuspid valve insufficiency.\n",
    "The number of the most likely correct statement is:\n",
    "###\n",
    "You are a medical doctor and absolutely need to answer which one of the four statements has the highest probability of being correct:\n",
    "1. Systolic trembling over the apex of the heart is characteristic of mitral valve insufficiency.\n",
    "2. Systolic trembling over the apex of the heart is characteristic of aortic valve insufficiency.\n",
    "3. Systolic trembling over the apex of the heart is characteristic of mitral stenosis.\"\n",
    "4. Systolic trembling over the apex of the heart is characteristic of aortic stenosis.\n",
    "5. Systolic trembling over the apex of the heart is characteristic of tricuspid valve insufficiency.\n",
    "The number of the most likely correct statement is:\n",
    "###\n",
    "You are a medical doctor and absolutely need to answer which one of the four statements has the highest probability of being correct:\n",
    "1. Increased systolic murmur in the lower third of the sternum at the end of forced inspiration is typical of mitral valve insufficiency.\"\n",
    "2. Increased systolic murmur in the lower third of the sternum at the end of forced inspiration is typical of mitral stenosis.\n",
    "3. Increased systolic murmur in the lower third of the sternum at the end of forced inspiration is typical of aortic valve insufficiency.\n",
    "4. Increased systolic murmur in the region of the lower third of the sternum at the end of forced inspiration is typical of aortic stenosis.\n",
    "5. Increased systolic murmur in the lower third of the sternum at the end of forced inspiration is typical of tricuspid valve insufficiency.\n",
    "The number of the most likely correct statement is:\n",
    "###\n",
    "You are a medical doctor and absolutely need to answer which one of the four statements has the highest probability of being correct:\n",
    "1. Unilateral pain in the lumbar region is characteristic of acute glomerulonephritis.\n",
    "2. Unilateral pain in the lumbar region is characteristic of acute cystitis.\n",
    "3. Unilateral pain in the lumbar region is characteristic of acute pyelonephritis.\n",
    "4. Unilateral pain in the lumbar region is characteristic of amyloidosis of the kidneys.\n",
    "5. Unilateral pain in the lumbar region is characteristic of chronic glomerulonephritis.\n",
    "The number of the most likely correct statement is:\n",
    "###\n",
    "You are a medical doctor and absolutely need to answer which one of the four statements has the highest probability of being correct:\n",
    "1. Typical in ascites is a pronounced asymmetry of the abdomen. \"\n",
    "2. Typical in ascites venous pulse is characteristic of aortic valve insufficiency.\n",
    "4. The presence of a positive venous pulse in a patient is characteristic of stenosis of the aortic orifice.\n",
    "5. The presence of a positive venous pulse in a patient is characteristic of tricuspid valve insufficiency.\n",
    "The number of the most likely correct statement is:\n",
    "###\n",
    "You are a medical doctor and absolutely need to answer which one of the four statements has the highest probability of being correct:\n",
    "1. Albuminuria and hypoproteinemia combined with cylindruria and edema are characteristic of acute glomerulonephritis.\n",
    "2. Albuminuria and hypoproteinemia combined with cylindruria and edema are characteristic of pyelonephritis.\"\n",
    "3. Albuminuria and hypoproteinemia combined with cylindruria and edema are characteristic of nephrolithiasis.\n",
    "4. Albuminuria and hypoproteinemia combined with cylindruria and edema are characteristic of cystitis.\n",
    "5. Albuminuria and hypoproteinemia combined with cylindruria and edema are characteristic of nephroptosis.\n",
    "The number of the most likely correct statement is:\n",
    "###\n",
    "You are a medical doctor and absolutely need to answer which one of the four statements has the highest probability of being correct:\n",
    "1. An indication for esophagoscopy is not a hiatal hernia.\"\n",
    "2. Esophagitis is not an indication for esophagoscopy.\n",
    "3. The indication for esophagoscopy is not cancer of the esophagus.\"\n",
    "4. An indication for esophagoscopy is not a chest injury.\n",
    "5. An indication for esophagoscopy is not varicose vei of the esophagus.\n",
    "The number of the most likely correct statement is:\n",
    "###\n",
    "You are a medical doctor and absolutely need to answer which one of the four statements has the highest probability of being correct:\n",
    "1. Of these diseases, a relative contraindication to esophagoscopy is varicose veins of the esophagus.\n",
    "2. Of these diseases, epilepsy is a relative contraindication to esophagoscopy.\n",
    "3. Of these diseases, a relative contraindication to esophagoscopy is an acute inflammatory disease of the tonsils, pharynx, larynx, bronchi.\n",
    "4. Of these diseases, esophagitis is a relative contraindication to esophagoscopy.\n",
    "5. Of these diseases, a relative contraindication to esophagoscopy is esophageal cancer.\n",
    "The number of the most likely correct statement is:\"\"\""
   ]
  },
  {
   "cell_type": "code",
   "execution_count": 223,
   "metadata": {
    "tags": []
   },
   "outputs": [],
   "source": [
    "qq_translated = (tr.split(\"###\"))"
   ]
  },
  {
   "cell_type": "code",
   "execution_count": 168,
   "metadata": {
    "tags": []
   },
   "outputs": [
    {
     "name": "stdout",
     "output_type": "stream",
     "text": [
      "0 3 3. Vesicular breathing is heard during inspiration and the first third of expiration.\n",
      "1 2 2. With emphysema, vesicular breathing is weakened.\n",
      "2 3 2. Crepitus is characteristic of a lung abscess.\n",
      "3 4 3. For croupous pneumonia at the height of the disease, a tympanic percussion sound is characteristic.\n",
      "4 4 5. Bronchial breathing is heard during inhalation and the first two-thirds of exhalation.\n",
      "5 4 4. Amphoric breathing is observed with a lung abscess.\n",
      "6 2 5. Weakening of voice trembling is characteristic of croupous pneumonia.\n",
      "7 2 3. Increased voice trembling is typical of closed pneumothorax.\n",
      "8 4 3. Pulse tardus, parvus is characteristic of aortic valve insufficiency.\n",
      "9 5 3. The presence of a positive venous pulse in a patient is characteristic of aortic valve insufficiency.\n",
      "10 2 5. The most probable cause of a significant expansion of the absolute dullness of the heart is left ventricular hypertrophy.\n",
      "11 4 5. A significant expansion of the heart to the left and down is observed with dilatation of the left atrium and right ventricle.\n",
      "12 2 3. Hemoptysis is most often observed with aortic valve insufficiency.\n",
      "13 1 3. Systolic trembling over the apex of the heart is characteristic of mitral stenosis.\n",
      "14 5 2. Increased systolic murmur in the lower third of the sternum at the end of forced inspiration is typical of mitral stenosis.\n",
      "15 3 3. Unilateral pain in the lumbar region is characteristic of acute pyelonephritis.\n",
      "16 3 4. The presence of a positive venous pulse in a patient is characteristic of stenosis of the aortic orifice.\n",
      "17 1 1. Albuminuria and hypoproteinemia combined with cylindruria and edema are characteristic of acute glomerulonephritis.\n",
      "18 4 3. The indication for esophagoscopy is not cancer of the esophagus.\n",
      "19 3  5. Of these diseases, a relative contraindication to esophagoscopy is esophageal cancer.\n"
     ]
    }
   ],
   "source": [
    "log_rmt_3b = []\n",
    "for i, rqst in enumerate(qq_translated):\n",
    "    row = dfa1.iloc[i]\n",
    "    ans = oa(rqst)\n",
    "    log_rmt_3b =[].append((i, row['text'], rqst, ans))\n",
    "    print(i, row['correct'], ans, sep = '\\t')"
   ]
  },
  {
   "cell_type": "code",
   "execution_count": 226,
   "metadata": {
    "tags": []
   },
   "outputs": [],
   "source": [
    "zz = \"\"\"0 3 3. Vesicular breathing is heard during inspiration and the first third of expiration.\n",
    "1 2 2. With emphysema, vesicular breathing is weakened.\n",
    "2 3 2. Crepitus is characteristic of a lung abscess.\n",
    "3 4 3. For croupous pneumonia at the height of the disease, a tympanic percussion sound is characteristic.\n",
    "4 4 5. Bronchial breathing is heard during inhalation and the first two-thirds of exhalation.\n",
    "5 4 4. Amphoric breathing is observed with a lung abscess.\n",
    "6 2 5. Weakening of voice trembling is characteristic of croupous pneumonia.\n",
    "7 2 3. Increased voice trembling is typical of closed pneumothorax.\n",
    "8 4 3. Pulse tardus, parvus is characteristic of aortic valve insufficiency.\n",
    "9 5 3. The presence of a positive venous pulse in a patient is characteristic of aortic valve insufficiency.\n",
    "10 2 5. The most probable cause of a significant expansion of the absolute dullness of the heart is left ventricular hypertrophy.\n",
    "11 4 5. A significant expansion of the heart to the left and down is observed with dilatation of the left atrium and right ventricle.\n",
    "12 2 3. Hemoptysis is most often observed with aortic valve insufficiency.\n",
    "13 1 3. Systolic trembling over the apex of the heart is characteristic of mitral stenosis.\n",
    "14 5 2. Increased systolic murmur in the lower third of the sternum at the end of forced inspiration is typical of mitral stenosis.\n",
    "15 3 3. Unilateral pain in the lumbar region is characteristic of acute pyelonephritis.\n",
    "16 3 4. The presence of a positive venous pulse in a patient is characteristic of stenosis of the aortic orifice.\n",
    "17 1 1. Albuminuria and hypoproteinemia combined with cylindruria and edema are characteristic of acute glomerulonephritis.\n",
    "18 4 3. The indication for esophagoscopy is not cancer of the esophagus.\n",
    "19 3  5. Of these diseases, a relative contraindication to esophagoscopy is esophageal cancer.\"\"\""
   ]
  },
  {
   "cell_type": "code",
   "execution_count": 227,
   "metadata": {
    "tags": []
   },
   "outputs": [],
   "source": [
    "zz = [z.split('. ') for z in zz.split('\\n')]"
   ]
  },
  {
   "cell_type": "code",
   "execution_count": 228,
   "metadata": {
    "tags": []
   },
   "outputs": [],
   "source": [
    "zz = [[*z[0].replace('  ',' ').split(' '), z[1]] for z in zz]"
   ]
  },
  {
   "cell_type": "code",
   "execution_count": 229,
   "metadata": {
    "tags": []
   },
   "outputs": [],
   "source": [
    "log_rmt_3b = zz"
   ]
  },
  {
   "cell_type": "code",
   "execution_count": 230,
   "metadata": {
    "tags": []
   },
   "outputs": [
    {
     "data": {
      "text/html": [
       "<div>\n",
       "<style scoped>\n",
       "    .dataframe tbody tr th:only-of-type {\n",
       "        vertical-align: middle;\n",
       "    }\n",
       "\n",
       "    .dataframe tbody tr th {\n",
       "        vertical-align: top;\n",
       "    }\n",
       "\n",
       "    .dataframe thead th {\n",
       "        text-align: right;\n",
       "    }\n",
       "</style>\n",
       "<table border=\"1\" class=\"dataframe\">\n",
       "  <thead>\n",
       "    <tr style=\"text-align: right;\">\n",
       "      <th></th>\n",
       "      <th>n</th>\n",
       "      <th>a</th>\n",
       "      <th>a0</th>\n",
       "      <th>q</th>\n",
       "    </tr>\n",
       "  </thead>\n",
       "  <tbody>\n",
       "    <tr>\n",
       "      <th>0</th>\n",
       "      <td>0</td>\n",
       "      <td>3</td>\n",
       "      <td>3</td>\n",
       "      <td>Vesicular breathing is heard during inspiratio...</td>\n",
       "    </tr>\n",
       "    <tr>\n",
       "      <th>1</th>\n",
       "      <td>1</td>\n",
       "      <td>2</td>\n",
       "      <td>2</td>\n",
       "      <td>With emphysema, vesicular breathing is weakened.</td>\n",
       "    </tr>\n",
       "    <tr>\n",
       "      <th>2</th>\n",
       "      <td>2</td>\n",
       "      <td>3</td>\n",
       "      <td>2</td>\n",
       "      <td>Crepitus is characteristic of a lung abscess.</td>\n",
       "    </tr>\n",
       "    <tr>\n",
       "      <th>3</th>\n",
       "      <td>3</td>\n",
       "      <td>4</td>\n",
       "      <td>3</td>\n",
       "      <td>For croupous pneumonia at the height of the di...</td>\n",
       "    </tr>\n",
       "    <tr>\n",
       "      <th>4</th>\n",
       "      <td>4</td>\n",
       "      <td>4</td>\n",
       "      <td>5</td>\n",
       "      <td>Bronchial breathing is heard during inhalation...</td>\n",
       "    </tr>\n",
       "  </tbody>\n",
       "</table>\n",
       "</div>"
      ],
      "text/plain": [
       "   n  a a0                                                  q\n",
       "0  0  3  3  Vesicular breathing is heard during inspiratio...\n",
       "1  1  2  2   With emphysema, vesicular breathing is weakened.\n",
       "2  2  3  2      Crepitus is characteristic of a lung abscess.\n",
       "3  3  4  3  For croupous pneumonia at the height of the di...\n",
       "4  4  4  5  Bronchial breathing is heard during inhalation..."
      ]
     },
     "execution_count": 230,
     "metadata": {},
     "output_type": "execute_result"
    }
   ],
   "source": [
    "p3b = pd.DataFrame(log_rmt_3b, columns = 'n a a0 q'.split(' '))\n",
    "p3b.head()"
   ]
  },
  {
   "cell_type": "code",
   "execution_count": 235,
   "metadata": {
    "tags": []
   },
   "outputs": [
    {
     "data": {
      "text/plain": [
       "0.25"
      ]
     },
     "execution_count": 235,
     "metadata": {},
     "output_type": "execute_result"
    }
   ],
   "source": [
    "(p3b.a.astype(int) == p3b.a0.astype(int)).mean()"
   ]
  },
  {
   "cell_type": "code",
   "execution_count": 236,
   "metadata": {},
   "outputs": [
    {
     "data": {
      "text/plain": [
       "0      True\n",
       "1      True\n",
       "2     False\n",
       "3     False\n",
       "4     False\n",
       "5      True\n",
       "6     False\n",
       "7     False\n",
       "8     False\n",
       "9     False\n",
       "10    False\n",
       "11    False\n",
       "12    False\n",
       "13    False\n",
       "14    False\n",
       "15     True\n",
       "16    False\n",
       "17     True\n",
       "18    False\n",
       "19    False\n",
       "dtype: bool"
      ]
     },
     "execution_count": 236,
     "metadata": {},
     "output_type": "execute_result"
    }
   ],
   "source": [
    "(p3b.a.astype(int) == p3b.a0.astype(int))"
   ]
  },
  {
   "cell_type": "code",
   "execution_count": 237,
   "metadata": {
    "tags": []
   },
   "outputs": [
    {
     "data": {
      "text/plain": [
       "0     False\n",
       "1      True\n",
       "2     False\n",
       "3     False\n",
       "4     False\n",
       "5      True\n",
       "6     False\n",
       "7     False\n",
       "8     False\n",
       "9      True\n",
       "10    False\n",
       "11    False\n",
       "12    False\n",
       "13    False\n",
       "14    False\n",
       "15     True\n",
       "16    False\n",
       "17     True\n",
       "18    False\n",
       "19    False\n",
       "dtype: bool"
      ]
     },
     "execution_count": 237,
     "metadata": {},
     "output_type": "execute_result"
    }
   ],
   "source": [
    "(p3a.a.astype(int) == p3a.a0.astype(int))"
   ]
  },
  {
   "cell_type": "markdown",
   "metadata": {},
   "source": [
    "### With 1-shot"
   ]
  },
  {
   "cell_type": "markdown",
   "metadata": {
    "tags": []
   },
   "source": [
    "#### Prompt 3c"
   ]
  },
  {
   "cell_type": "code",
   "execution_count": 258,
   "metadata": {
    "tags": []
   },
   "outputs": [
    {
     "name": "stdout",
     "output_type": "stream",
     "text": [
      "You are a medical doctor and absolutely need to answer which one of the five statements in each group is most correct:\n",
      "Statements:\n",
      "1. У больного с грыжей пищеводного отверстия диафрагмы в последнее время изменилась клиническая картина заболевания: исчезла изжога и регургитация, появилась дисфагия при употреблении плотной пищи, пропал аппетит, больной стал терять в весе. Предполагаемый диагноз развитие рака пищевода\".\n",
      "2. У больного с грыжей пищеводного отверстия диафрагмы в последнее время изменилась клиническая картина заболевания: исчезла изжога и регургитация, появилась дисфагия при употреблении плотной пищи, пропал аппетит, больной стал терять в весе. Предполагаемый диагноз развитие рака желудка\".\n",
      "3. У больного с грыжей пищеводного отверстия диафрагмы в последнее время изменилась клиническая картина заболевания: исчезла изжога и регургитация, появилась дисфагия при употреблении плотной пищи, пропал аппетит, больной стал терять в весе. Предполагаемый диагноз ущемление грыжи\".\n",
      "4. У больного с грыжей пищеводного отверстия диафрагмы в последнее время изменилась клиническая картина заболевания: исчезла изжога и регургитация, появилась дисфагия при употреблении плотной пищи, пропал аппетит, больной стал терять в весе. Предполагаемый диагноз развитие рака печени\".\n",
      "5. У больного с грыжей пищеводного отверстия диафрагмы в последнее время изменилась клиническая картина заболевания: исчезла изжога и регургитация, появилась дисфагия при употреблении плотной пищи, пропал аппетит, больной стал терять в весе. Предполагаемый диагноз развитие ценкеровского дивертикула\".\n",
      "Answer number: 1\n"
     ]
    }
   ],
   "source": [
    "row = dfa.iloc[108]\n",
    "template3a = \"\"\"You are a medical doctor and absolutely need to answer which one of the five statements in each group is most correct:\n",
    "Statements:\n",
    "1. {0} {1}\".\n",
    "2. {0} {2}\".\n",
    "3. {0} {3}\".\n",
    "4. {0} {4}\".\n",
    "5. {0} {5}\".\n",
    "Answer number: {6}\"\"\"\n",
    "\n",
    "rqst1 = template3a.format(*row[['question', '1', '2', '3', '4', '5', 'correct']])\n",
    "print(rqst1)"
   ]
  },
  {
   "cell_type": "code",
   "execution_count": null,
   "metadata": {},
   "outputs": [],
   "source": [
    "You are a medical doctor and absolutely need to answer which one of the five statements in each group is most correct:\n",
    "Statements:\n",
    "1. Характерным клиническим признаком хронического панкреатита является развитие сахарного диабета\".\n",
    "2. Характерным клиническим признаком хронического панкреатита является снижение функции внешней секреции (гипоферментемия)\".\n",
    "3. Характерным клиническим признаком хронического панкреатита является желтуха\".\n",
    "4. Характерным клиническим признаком хронического панкреатита является повышение активности аминотрансфераз\".\n",
    "5. Характерным клиническим признаком хронического панкреатита является гепатомегалия\".\n",
    "Answer number: 2"
   ]
  },
  {
   "cell_type": "code",
   "execution_count": 264,
   "metadata": {
    "tags": []
   },
   "outputs": [
    {
     "name": "stdout",
     "output_type": "stream",
     "text": [
      "You are a medical doctor and absolutely need to answer which one of the five statements in each group is most correct:\n",
      "Statements:\n",
      "1. Сканирование печени наиболее результативно в диагностике очагового поражения печени\".\n",
      "2. Сканирование печени наиболее результативно в диагностике микронодулярного цирроза печени\".\n",
      "3. Сканирование печени наиболее результативно в диагностике гепатита\".\n",
      "4. Сканирование печени наиболее результативно в диагностике макронодулярного цирроза печени\".\n",
      "5. Сканирование печени наиболее результативно в диагностике застойного фиброза печени\".\n",
      "Answer number: 1\n",
      "Statements:\n",
      "1. Клетки, вырабатывающие гастрин, располагаются в кардиальном отделе желудка\".\n",
      "2. Клетки, вырабатывающие гастрин, располагаются в теле\".\n",
      "3. Клетки, вырабатывающие гастрин, располагаются в антральном отделе\".\n",
      "4. Клетки, вырабатывающие гастрин, располагаются в пилорическом отделе\".\n",
      "5. Клетки, вырабатывающие гастрин, располагаются в дне желудка\".\n",
      "Answer number: 3\n",
      "Statements:\n",
      "1. Характерным клиническим признаком хронического панкреатита является развитие сахарного диабета\".\n",
      "2. Характерным клиническим признаком хронического панкреатита является снижение функции внешней секреции (гипоферментемия)\".\n",
      "3. Характерным клиническим признаком хронического панкреатита является желтуха\".\n",
      "4. Характерным клиническим признаком хронического панкреатита является повышение активности аминотрансфераз\".\n",
      "5. Характерным клиническим признаком хронического панкреатита является гепатомегалия\".\n",
      "Answer number: \n"
     ]
    }
   ],
   "source": [
    "row = dfa.iloc[100]\n",
    "template4 = \"\"\"You are a medical doctor and absolutely need to answer which one of the five statements in each group is most correct:\n",
    "Statements:\n",
    "1. Сканирование печени наиболее результативно в диагностике очагового поражения печени\".\n",
    "2. Сканирование печени наиболее результативно в диагностике микронодулярного цирроза печени\".\n",
    "3. Сканирование печени наиболее результативно в диагностике гепатита\".\n",
    "4. Сканирование печени наиболее результативно в диагностике макронодулярного цирроза печени\".\n",
    "5. Сканирование печени наиболее результативно в диагностике застойного фиброза печени\".\n",
    "Answer number: 1\n",
    "Statements:\n",
    "1. Клетки, вырабатывающие гастрин, располагаются в кардиальном отделе желудка\".\n",
    "2. Клетки, вырабатывающие гастрин, располагаются в теле\".\n",
    "3. Клетки, вырабатывающие гастрин, располагаются в антральном отделе\".\n",
    "4. Клетки, вырабатывающие гастрин, располагаются в пилорическом отделе\".\n",
    "5. Клетки, вырабатывающие гастрин, располагаются в дне желудка\".\n",
    "Answer number: 3\n",
    "Statements:\n",
    "1. {0} {1}\".\n",
    "2. {0} {2}\".\n",
    "3. {0} {3}\".\n",
    "4. {0} {4}\".\n",
    "5. {0} {5}\".\n",
    "Answer number: \"\"\"\n",
    "\n",
    "rqst1 = template4.format(*row[['question', '1', '2', '3', '4', '5', 'correct']])\n",
    "print(rqst1)"
   ]
  },
  {
   "cell_type": "code",
   "execution_count": null,
   "metadata": {},
   "outputs": [],
   "source": []
  },
  {
   "cell_type": "code",
   "execution_count": 267,
   "metadata": {
    "tags": []
   },
   "outputs": [
    {
     "data": {
      "application/vnd.jupyter.widget-view+json": {
       "model_id": "7ea6091cd29649d3a0173161ff79972f",
       "version_major": 2,
       "version_minor": 0
      },
      "text/plain": [
       "  0%|          | 0/9 [00:00<?, ?it/s]"
      ]
     },
     "metadata": {},
     "output_type": "display_data"
    },
    {
     "name": "stdout",
     "output_type": "stream",
     "text": [
      "11\t2\t 1\tНаиболее информативным для визуализации очага некроза в миок\n",
      "12\t4\t 5\tДиета у больных с обострением панкреатита в первые 2 дня\n",
      "13\t2\t 5\tПри лечении желчнокаменной болезни при меняют\n",
      "14\t2\t 2\tПри пролапсе митрального клапана аускультативная симптоматик\n",
      "15\t1\t 2\tЦентральная вена печеночной дольки относится к\n",
      "16\t3\t 3\tПри копрологическом исследовании при синдроме раздраженной т\n",
      "17\t1\t 2\tДля острого фибринозного перикардита не характерно\n",
      "18\t1\t 2\tНепрямая (неконъюгированная) гипербилирубинемия характерна д\n",
      "19\t1\t 2\tНаиболее редким осложнением застойного цирроза печени являет\n",
      "CPU times: user 135 ms, sys: 0 ns, total: 135 ms\n",
      "Wall time: 25 s\n"
     ]
    }
   ],
   "source": [
    "%%time \n",
    "# log_rmt_4 =[]\n",
    "for i in trange(11,20):\n",
    "# for i in tqdm(range (df.shape[0])):\n",
    "    row = dfa.iloc[i]\n",
    "    rqst = template4.format(*row[['question', '1', '2', '3', '4', '5']])\n",
    "    ans = oa(rqst)\n",
    "    log_rmt_4.append((i, row['question'], rqst, ans))\n",
    "    print(i, row['correct'], ans, row['question'][:60], sep='\\t')"
   ]
  },
  {
   "cell_type": "markdown",
   "metadata": {},
   "source": [
    "### Manual testing"
   ]
  },
  {
   "cell_type": "code",
   "execution_count": 270,
   "metadata": {
    "tags": []
   },
   "outputs": [
    {
     "name": "stdout",
     "output_type": "stream",
     "text": [
      "You are a medical doctor and absolutely need to answer which one of the four statements has highest probability of being correct:\n",
      "1. Приналичие патологического зубца Q во II, III и aVF отведениях очаговые изменения локализуются в задне-базальной области левого желудочка\".\n",
      "2. Приналичие патологического зубца Q во II, III и aVF отведениях очаговые изменения локализуются в верхне-боковой области левого желудочке\".\n",
      "3. Приналичие патологического зубца Q во II, III и aVF отведениях очаговые изменения локализуются в правом желудочке\".\n",
      "4. Приналичие патологического зубца Q во II, III и aVF отведениях очаговые изменения локализуются впередне-перегородочной области\".\n",
      "5. Приналичие патологического зубца Q во II, III и aVF отведениях очаговые изменения локализуются в области задней стенки\".\n",
      "The number of the most likely correct statement is:\n",
      "\n",
      "correct = 5\n"
     ]
    }
   ],
   "source": [
    "row = dfa.iloc[0]\n",
    "template3m = \"\"\"You are a medical doctor and absolutely need to answer which one of the four statements has highest probability of being correct:\n",
    "1. {0} {1}\".\n",
    "2. {0} {2}\".\n",
    "3. {0} {3}\".\n",
    "4. {0} {4}\".\n",
    "5. {0} {5}\".\n",
    "The number of the most likely correct statement is:\n",
    "\n",
    "correct = {6}\"\"\"\n",
    "\n",
    "rqst1 = template3m.format(*row[['question', '1', '2', '3', '4', '5', 'correct']])\n",
    "print(rqst1)"
   ]
  },
  {
   "cell_type": "code",
   "execution_count": null,
   "metadata": {},
   "outputs": [],
   "source": []
  },
  {
   "cell_type": "markdown",
   "metadata": {
    "tags": []
   },
   "source": [
    "## Load questions for benchmark"
   ]
  },
  {
   "cell_type": "code",
   "execution_count": 4,
   "metadata": {
    "tags": []
   },
   "outputs": [
    {
     "name": "stdout",
     "output_type": "stream",
     "text": [
      "(397, 6)\n"
     ]
    },
    {
     "data": {
      "text/html": [
       "<div>\n",
       "<style scoped>\n",
       "    .dataframe tbody tr th:only-of-type {\n",
       "        vertical-align: middle;\n",
       "    }\n",
       "\n",
       "    .dataframe tbody tr th {\n",
       "        vertical-align: top;\n",
       "    }\n",
       "\n",
       "    .dataframe thead th {\n",
       "        text-align: right;\n",
       "    }\n",
       "</style>\n",
       "<table border=\"1\" class=\"dataframe\">\n",
       "  <thead>\n",
       "    <tr style=\"text-align: right;\">\n",
       "      <th></th>\n",
       "      <th>idx</th>\n",
       "      <th>question</th>\n",
       "      <th>1</th>\n",
       "      <th>2</th>\n",
       "      <th>3</th>\n",
       "      <th>4</th>\n",
       "    </tr>\n",
       "  </thead>\n",
       "  <tbody>\n",
       "    <tr>\n",
       "      <th>0</th>\n",
       "      <td>da4324a94e712843d32e5574474d2c15</td>\n",
       "      <td>\"Критическим\" считается уменьшение площади лев...</td>\n",
       "      <td>3 см2</td>\n",
       "      <td>2 см2</td>\n",
       "      <td>4 см2</td>\n",
       "      <td>1 см2 и менее</td>\n",
       "    </tr>\n",
       "    <tr>\n",
       "      <th>1</th>\n",
       "      <td>3b5567b9e918302ec2f79cad693d1676</td>\n",
       "      <td>\"Лёгочное сердце\" может возникнуть при</td>\n",
       "      <td>ишемической болезни сердца</td>\n",
       "      <td>гипертонической болезни</td>\n",
       "      <td>хронической обструктивной болезни лёгких</td>\n",
       "      <td>гипертиреозе</td>\n",
       "    </tr>\n",
       "  </tbody>\n",
       "</table>\n",
       "</div>"
      ],
      "text/plain": [
       "                                idx  \\\n",
       "0  da4324a94e712843d32e5574474d2c15   \n",
       "1  3b5567b9e918302ec2f79cad693d1676   \n",
       "\n",
       "                                            question  \\\n",
       "0  \"Критическим\" считается уменьшение площади лев...   \n",
       "1             \"Лёгочное сердце\" может возникнуть при   \n",
       "\n",
       "                            1                        2  \\\n",
       "0                       3 см2                    2 см2   \n",
       "1  ишемической болезни сердца  гипертонической болезни   \n",
       "\n",
       "                                          3              4  \n",
       "0                                     4 см2  1 см2 и менее  \n",
       "1  хронической обструктивной болезни лёгких   гипертиреозе  "
      ]
     },
     "execution_count": 4,
     "metadata": {},
     "output_type": "execute_result"
    }
   ],
   "source": [
    "rumedbench_path = '../rumedbench'\n",
    "pd.read_json(os.path.join(rumedbench_path, 'data/RuMedTest/private_test_v1.jsonl'), lines=True)\n",
    "\n",
    "df = pd.read_json('rmtest_private_v1.jsonl', lines=True)\n",
    "print(df.shape)\n",
    "df.head(2)"
   ]
  },
  {
   "cell_type": "code",
   "execution_count": 5,
   "metadata": {
    "tags": []
   },
   "outputs": [
    {
     "data": {
      "text/plain": [
       "Index(['idx', 'question', '1', '2', '3', '4'], dtype='object')"
      ]
     },
     "execution_count": 5,
     "metadata": {},
     "output_type": "execute_result"
    }
   ],
   "source": [
    "df.columns"
   ]
  },
  {
   "cell_type": "code",
   "execution_count": 32,
   "metadata": {
    "tags": []
   },
   "outputs": [
    {
     "data": {
      "text/html": [
       "<div>\n",
       "<style scoped>\n",
       "    .dataframe tbody tr th:only-of-type {\n",
       "        vertical-align: middle;\n",
       "    }\n",
       "\n",
       "    .dataframe tbody tr th {\n",
       "        vertical-align: top;\n",
       "    }\n",
       "\n",
       "    .dataframe thead th {\n",
       "        text-align: right;\n",
       "    }\n",
       "</style>\n",
       "<table border=\"1\" class=\"dataframe\">\n",
       "  <thead>\n",
       "    <tr style=\"text-align: right;\">\n",
       "      <th></th>\n",
       "      <th>idx</th>\n",
       "      <th>question</th>\n",
       "      <th>1</th>\n",
       "      <th>2</th>\n",
       "      <th>3</th>\n",
       "      <th>4</th>\n",
       "    </tr>\n",
       "  </thead>\n",
       "  <tbody>\n",
       "    <tr>\n",
       "      <th>0</th>\n",
       "      <td>da4324a94e712843d32e5574474d2c15</td>\n",
       "      <td>\"Критическим\" считается уменьшение площади лев...</td>\n",
       "      <td>3 см2</td>\n",
       "      <td>2 см2</td>\n",
       "      <td>4 см2</td>\n",
       "      <td>1 см2 и менее</td>\n",
       "    </tr>\n",
       "    <tr>\n",
       "      <th>1</th>\n",
       "      <td>3b5567b9e918302ec2f79cad693d1676</td>\n",
       "      <td>\"Лёгочное сердце\" может возникнуть при</td>\n",
       "      <td>ишемической болезни сердца</td>\n",
       "      <td>гипертонической болезни</td>\n",
       "      <td>хронической обструктивной болезни лёгких</td>\n",
       "      <td>гипертиреозе</td>\n",
       "    </tr>\n",
       "    <tr>\n",
       "      <th>2</th>\n",
       "      <td>2dc1358c1f3288d26443e253143d3d0c</td>\n",
       "      <td>Четвертым приёмом Леопольда-Левицкого определя...</td>\n",
       "      <td>позиция плода</td>\n",
       "      <td>высота стояния дна матки</td>\n",
       "      <td>отношение предлежащей части плода ко входу в м...</td>\n",
       "      <td>вид плода</td>\n",
       "    </tr>\n",
       "    <tr>\n",
       "      <th>3</th>\n",
       "      <td>07af0fd92b3fa342845dbed30985cdd0</td>\n",
       "      <td>Амфорическое дыхание наблюдается при</td>\n",
       "      <td>абсцессе лёгкого</td>\n",
       "      <td>бронхиальной астме</td>\n",
       "      <td>бронхите</td>\n",
       "      <td>очаговой пневмонии</td>\n",
       "    </tr>\n",
       "    <tr>\n",
       "      <th>4</th>\n",
       "      <td>7721678440a7020dd02b1b06527f6e79</td>\n",
       "      <td>Бактериоскопическое исследование мокроты для о...</td>\n",
       "      <td>пять раз</td>\n",
       "      <td>три раза</td>\n",
       "      <td>двукратно</td>\n",
       "      <td>однократно</td>\n",
       "    </tr>\n",
       "  </tbody>\n",
       "</table>\n",
       "</div>"
      ],
      "text/plain": [
       "                                idx  \\\n",
       "0  da4324a94e712843d32e5574474d2c15   \n",
       "1  3b5567b9e918302ec2f79cad693d1676   \n",
       "2  2dc1358c1f3288d26443e253143d3d0c   \n",
       "3  07af0fd92b3fa342845dbed30985cdd0   \n",
       "4  7721678440a7020dd02b1b06527f6e79   \n",
       "\n",
       "                                            question  \\\n",
       "0  \"Критическим\" считается уменьшение площади лев...   \n",
       "1             \"Лёгочное сердце\" может возникнуть при   \n",
       "2  Четвертым приёмом Леопольда-Левицкого определя...   \n",
       "3               Амфорическое дыхание наблюдается при   \n",
       "4  Бактериоскопическое исследование мокроты для о...   \n",
       "\n",
       "                            1                         2  \\\n",
       "0                       3 см2                     2 см2   \n",
       "1  ишемической болезни сердца   гипертонической болезни   \n",
       "2               позиция плода  высота стояния дна матки   \n",
       "3            абсцессе лёгкого        бронхиальной астме   \n",
       "4                    пять раз                  три раза   \n",
       "\n",
       "                                                   3                   4  \n",
       "0                                              4 см2       1 см2 и менее  \n",
       "1           хронической обструктивной болезни лёгких        гипертиреозе  \n",
       "2  отношение предлежащей части плода ко входу в м...           вид плода  \n",
       "3                                           бронхите  очаговой пневмонии  \n",
       "4                                          двукратно          однократно  "
      ]
     },
     "execution_count": 32,
     "metadata": {},
     "output_type": "execute_result"
    }
   ],
   "source": [
    "df.head()"
   ]
  },
  {
   "cell_type": "markdown",
   "metadata": {},
   "source": [
    "## experiment runner"
   ]
  },
  {
   "cell_type": "code",
   "execution_count": 203,
   "metadata": {
    "tags": []
   },
   "outputs": [],
   "source": [
    "oa = OpenAI(engine=\"text-davinci-003\")"
   ]
  },
  {
   "cell_type": "code",
   "execution_count": null,
   "metadata": {},
   "outputs": [],
   "source": [
    "log_rmt_1 =[]"
   ]
  },
  {
   "cell_type": "code",
   "execution_count": null,
   "metadata": {
    "tags": []
   },
   "outputs": [],
   "source": [
    "%%time \n",
    "# for i in trange(15):\n",
    "for i in tqdm(range (df.shape[0])):\n",
    "    row = df.iloc[i]\n",
    "    rqst = template3.format(*row[['question', '1', '2', '3', '4']])\n",
    "    ans = oa(rqst)\n",
    "    log.append((i, row['idx'], row['question'], rqst, ans))"
   ]
  },
  {
   "cell_type": "raw",
   "metadata": {},
   "source": [
    "takes ~ 50 min for 400 questions"
   ]
  },
  {
   "cell_type": "code",
   "execution_count": 187,
   "metadata": {
    "tags": []
   },
   "outputs": [
    {
     "data": {
      "text/plain": [
       "[' 4. \"Критическим\" считается уменьшение площади левого атриове',\n",
       " ' 3. \"Лёгочное сердце\" может возникнуть при хронической обс',\n",
       " ' 3. Четвертым приёмом Леопольда-Левицкого определяется отнош',\n",
       " ' 4. Амфорическое дыхание наблюдается при очаговой пневмони',\n",
       " ' 2. Бактериоскопическое исследование мокроты для определения ки',\n",
       " ' 1. Болезненность при пальпации в левом реберно-позвоночном',\n",
       " ' 2. Большой родничок закрывается в возрасте 9-18 месяцев\".',\n",
       " ' 3. Бронхиальная обструкция выявляется с помощью Бронхоскоп',\n",
       " ' 2. Бронхиальное дыхание выслушивается на протяжении всего в',\n",
       " ' 1. В амбулаторных условиях день овуляции диагностируется с',\n",
       " ' 4. В диагностике детского церебрального паралича на 1 году жи',\n",
       " ' 2. В общей лечебной сети должны выполняться следующие м',\n",
       " ' 3. Ведущим клиническим признаком нефротического синдрома яв',\n",
       " ' 3. Витилиго обычно встречается у людей в любом периоде ж',\n",
       " ' 3. Возбудителем внебольничной пневмонии чаще всего являетс']"
      ]
     },
     "execution_count": 187,
     "metadata": {},
     "output_type": "execute_result"
    }
   ],
   "source": [
    "[l[4] for l in log_rmt_1[:15]]"
   ]
  },
  {
   "cell_type": "code",
   "execution_count": 208,
   "metadata": {
    "tags": []
   },
   "outputs": [
    {
     "data": {
      "text/plain": [
       "397"
      ]
     },
     "execution_count": 208,
     "metadata": {},
     "output_type": "execute_result"
    }
   ],
   "source": [
    "len(log_rmt)"
   ]
  },
  {
   "cell_type": "code",
   "execution_count": 188,
   "metadata": {
    "tags": []
   },
   "outputs": [],
   "source": [
    "#saving submit\n",
    "with open(\"rmtest_gpt3_1002.jsonl\", 'w') as f:\n",
    "    for a in log:\n",
    "        ans = a[4].split()[0].strip('.')\n",
    "        line = f'{{\"idx\": \"{a[1]}\", \"answer\": \"{ans}\"}}'\n",
    "        f.write(line + '\\n')\n",
    "        # print (line)"
   ]
  },
  {
   "cell_type": "code",
   "execution_count": 211,
   "metadata": {},
   "outputs": [],
   "source": [
    "# Saving whole log\n",
    "with open(\"logs/rmtest_gpt3_1002_log.json\", \"w\") as f:\n",
    "    json.dump(log_rmt, f)"
   ]
  },
  {
   "cell_type": "code",
   "execution_count": 410,
   "metadata": {
    "tags": []
   },
   "outputs": [
    {
     "data": {
      "text/plain": [
       "[0,\n",
       " 'da4324a94e712843d32e5574474d2c15',\n",
       " '\"Критическим\" считается уменьшение площади левого атриовентрикулярного отверстия до',\n",
       " 'You are a medical doctor and absolutely need to answer which one of the four statements has highest probability of being correct:\\n1. \"Критическим\" считается уменьшение площади левого атриовентрикулярного отверстия до 3 см2\".\\n2. \"Критическим\" считается уменьшение площади левого атриовентрикулярного отверстия до 2 см2\".\\n3. \"Критическим\" считается уменьшение площади левого атриовентрикулярного отверстия до 4 см2\".\\n4. \"Критическим\" считается уменьшение площади левого атриовентрикулярного отверстия до 1 см2 и менее\".\\nThe number of the most likely correct statement is:',\n",
       " ' 4. \"Критическим\" считается уменьшение площади левого атриове']"
      ]
     },
     "execution_count": 410,
     "metadata": {},
     "output_type": "execute_result"
    }
   ],
   "source": [
    "log_rmt[0]"
   ]
  },
  {
   "cell_type": "code",
   "execution_count": 412,
   "metadata": {
    "tags": []
   },
   "outputs": [
    {
     "data": {
      "text/plain": [
       "[' 3. Крепитация характерна для абсцесса лёгких\".',\n",
       " ' 4. Лейкоцитурия наиболее характерный симптом при гломеруло',\n",
       " ' 4. Местными признаками хронического тонзиллита является гип',\n",
       " ' 3. Методом лабораторного обследования, имеющим решающее з',\n",
       " ' 1. Молочные зубы у большинства детей появляются в возрасте:',\n",
       " ' 4. Морфологическим субстратом хронической болезни почек я',\n",
       " ' 3. На дому у пациента диагностирован экссудативный плеврит, ',\n",
       " ' 4. На ЭКГ интервалы между комплексами QRS соседних циклов от',\n",
       " ' 4. На ЭКГ продолжительность интервала PQ больше 0,20 с. Это ха',\n",
       " ' 1. Наиболее важным рентгенологическим признаком остеохондр',\n",
       " ' 1. Наиболее типичным клиническим симптомом крапивницы явл',\n",
       " ' 1. Наиболее характерным симптомом аллергического конъюнкт',\n",
       " ' 2. Наиболее часто встречающимся вариантом эктопической бе',\n",
       " ' 3. Наиболее частое осложнение беременности в первом триместре 1',\n",
       " ' 3. К фактору риска рака лёгкого относится курение\".']"
      ]
     },
     "execution_count": 412,
     "metadata": {},
     "output_type": "execute_result"
    }
   ],
   "source": [
    "[l[4] for l in log_rmt[40:55]]"
   ]
  },
  {
   "cell_type": "code",
   "execution_count": null,
   "metadata": {},
   "outputs": [],
   "source": []
  },
  {
   "cell_type": "markdown",
   "metadata": {
    "tags": []
   },
   "source": [
    "# RuMedDaNet"
   ]
  },
  {
   "cell_type": "code",
   "execution_count": 276,
   "metadata": {
    "tags": []
   },
   "outputs": [],
   "source": [
    "oa = OpenAI(engine=\"text-davinci-003\")"
   ]
  },
  {
   "cell_type": "code",
   "execution_count": 243,
   "metadata": {
    "tags": []
   },
   "outputs": [
    {
     "name": "stdout",
     "output_type": "stream",
     "text": [
      "(256, 4)\n"
     ]
    },
    {
     "data": {
      "text/html": [
       "<div>\n",
       "<style scoped>\n",
       "    .dataframe tbody tr th:only-of-type {\n",
       "        vertical-align: middle;\n",
       "    }\n",
       "\n",
       "    .dataframe tbody tr th {\n",
       "        vertical-align: top;\n",
       "    }\n",
       "\n",
       "    .dataframe thead th {\n",
       "        text-align: right;\n",
       "    }\n",
       "</style>\n",
       "<table border=\"1\" class=\"dataframe\">\n",
       "  <thead>\n",
       "    <tr style=\"text-align: right;\">\n",
       "      <th></th>\n",
       "      <th>context</th>\n",
       "      <th>question</th>\n",
       "      <th>answer</th>\n",
       "      <th>pairID</th>\n",
       "    </tr>\n",
       "  </thead>\n",
       "  <tbody>\n",
       "    <tr>\n",
       "      <th>0</th>\n",
       "      <td>Апоплексия яичника — кровоизлияние в яичник, с...</td>\n",
       "      <td>Зачастую причиной апоплексии яичника становитс...</td>\n",
       "      <td>да</td>\n",
       "      <td>1b6019e574f3767872a97386743eacd3</td>\n",
       "    </tr>\n",
       "    <tr>\n",
       "      <th>1</th>\n",
       "      <td>Дерматиты — воспалительные реакции кожи в отве...</td>\n",
       "      <td>Заболевания из группы дерматитов связаны с вос...</td>\n",
       "      <td>нет</td>\n",
       "      <td>61895c2af233c6623e0500ee59ed1c1c</td>\n",
       "    </tr>\n",
       "  </tbody>\n",
       "</table>\n",
       "</div>"
      ],
      "text/plain": [
       "                                             context  \\\n",
       "0  Апоплексия яичника — кровоизлияние в яичник, с...   \n",
       "1  Дерматиты — воспалительные реакции кожи в отве...   \n",
       "\n",
       "                                            question answer  \\\n",
       "0  Зачастую причиной апоплексии яичника становитс...     да   \n",
       "1  Заболевания из группы дерматитов связаны с вос...    нет   \n",
       "\n",
       "                             pairID  \n",
       "0  1b6019e574f3767872a97386743eacd3  \n",
       "1  61895c2af233c6623e0500ee59ed1c1c  "
      ]
     },
     "execution_count": 243,
     "metadata": {},
     "output_type": "execute_result"
    }
   ],
   "source": [
    "rumedbench_path = '../rumedbench'\n",
    "df_dev = pd.read_json(os.path.join(rumedbench_path, 'data/RuMedDaNet/dev_v1.jsonl'), lines=True)\n",
    "print(df_dev.shape)\n",
    "df_dev.head(2)"
   ]
  },
  {
   "cell_type": "code",
   "execution_count": 223,
   "metadata": {
    "tags": []
   },
   "outputs": [
    {
     "data": {
      "text/plain": [
       "'Шоколад и кофе повышают тонус нижнего пищеводного сфинктера?'"
      ]
     },
     "execution_count": 223,
     "metadata": {},
     "output_type": "execute_result"
    }
   ],
   "source": [
    "dfdev.loc[11].question"
   ]
  },
  {
   "cell_type": "markdown",
   "metadata": {
    "tags": []
   },
   "source": [
    "## templates"
   ]
  },
  {
   "cell_type": "code",
   "execution_count": 258,
   "metadata": {
    "tags": []
   },
   "outputs": [
    {
     "name": "stdout",
     "output_type": "stream",
     "text": [
      "You are a medical doctor and need to pass exam. The question is:\n",
      "Все стероидные гормоны синтезируются из холестерина?\n",
      "You should answer only yes or no.\n",
      "The answer is \n"
     ]
    }
   ],
   "source": [
    "row = df_dev.loc[6]\n",
    "template_dn_1 = \"\"\"You are a medical doctor and need to pass exam. The question is:\n",
    "{}\n",
    "You should answer only yes or no.\n",
    "The answer is \"\"\"\n",
    "\n",
    "rqst = template_dn_1.format(*row[['question']])\n",
    "print(rqst)"
   ]
  },
  {
   "cell_type": "code",
   "execution_count": 259,
   "metadata": {
    "tags": []
   },
   "outputs": [
    {
     "data": {
      "text/plain": [
       "(' No.', 'да')"
      ]
     },
     "execution_count": 259,
     "metadata": {},
     "output_type": "execute_result"
    }
   ],
   "source": [
    "rqst = template_dn_1.format(*row[['question']])\n",
    "ans = oa(rqst)\n",
    "ans, row.answer"
   ]
  },
  {
   "cell_type": "code",
   "execution_count": 261,
   "metadata": {
    "tags": []
   },
   "outputs": [
    {
     "name": "stdout",
     "output_type": "stream",
     "text": [
      "Imagine that you are a medical doctor and know everything about medicine and need to pass exam. The question is:\n",
      "Все стероидные гормоны синтезируются из холестерина?\n",
      "You should answer only yes or no.\n",
      "The answer is \n"
     ]
    }
   ],
   "source": [
    "row = df_dev.loc[6]\n",
    "template_dn_2 = \"\"\"Imagine that you are a medical doctor and know everything about medicine and need to pass exam. The question is:\n",
    "{}\n",
    "You should answer only yes or no.\n",
    "The answer is \"\"\"\n",
    "\n",
    "rqst = template_dn_2.format(*row[['question']])\n",
    "print(rqst)"
   ]
  },
  {
   "cell_type": "code",
   "execution_count": 262,
   "metadata": {
    "tags": []
   },
   "outputs": [
    {
     "data": {
      "text/plain": [
       "(' No.', 'да')"
      ]
     },
     "execution_count": 262,
     "metadata": {},
     "output_type": "execute_result"
    }
   ],
   "source": [
    "rqst = template_dn_2.format(*row[['question']])\n",
    "ans = oa(rqst)\n",
    "ans, row.answer"
   ]
  },
  {
   "cell_type": "markdown",
   "metadata": {
    "tags": []
   },
   "source": [
    "#### t3"
   ]
  },
  {
   "cell_type": "code",
   "execution_count": 398,
   "metadata": {
    "tags": []
   },
   "outputs": [
    {
     "name": "stdout",
     "output_type": "stream",
     "text": [
      "Imagine that you are a medical doctor and know everything about medicine and need to pass exam. \n",
      "The context is: Мочевой пузырь — у взрослого человека лежит в малом тазу позади лобкового симфиза. Объем 0,5 литров. Имеет дно, тело и верхушку. Нижний отдел, суживаясь, образует шейку пузыря, переходящую в мочеиспускательный канал. Между вершиной и дном лежит тело пузыря. Пустой мочевой пузырь покрыт брюшиной сверху, немного с боков и сзади. При его наполнении мочой он округляется, верхушка поднимается вверх, и брюшина покрывает его спереди, с боков и особенно заднюю поверхность. Дно пузыря у мужчин сзади и снизу прилежит к предстательной железе и семенным пузырькам, сзади — к ампуле прямой кишки. У женщин к влагалищу и матке.\n",
      "The question is: Дно мочевого пузыря у женщин прилегает к предстательной железе?\n",
      "You should answer only yes or no.\n",
      "The answer is \n"
     ]
    }
   ],
   "source": [
    "row = df_dev.loc[9]\n",
    "template_dn_3 = \"\"\"Imagine that you are a medical doctor and know everything about medicine and need to pass exam. \n",
    "The context is: {}\n",
    "The question is: {}\n",
    "You should answer only yes or no.\n",
    "The answer is \"\"\"\n",
    "\n",
    "rqst = template_dn_3.format(*row[['context','question']])\n",
    "print(rqst)"
   ]
  },
  {
   "cell_type": "code",
   "execution_count": 384,
   "metadata": {
    "tags": []
   },
   "outputs": [
    {
     "name": "stdout",
     "output_type": "stream",
     "text": [
      "Разноцветный лишай вызывает Candida albicans?\n"
     ]
    },
    {
     "data": {
      "text/plain": [
       "(' No.', 'нет')"
      ]
     },
     "execution_count": 384,
     "metadata": {},
     "output_type": "execute_result"
    }
   ],
   "source": [
    "row = df_dev.loc[51]\n",
    "\n",
    "rqst = template_dn_3.format(*row[['context','question']])\n",
    "print(row['question'])\n",
    "ans = oa(rqst)\n",
    "ans, row.answer"
   ]
  },
  {
   "cell_type": "code",
   "execution_count": null,
   "metadata": {},
   "outputs": [],
   "source": []
  },
  {
   "cell_type": "code",
   "execution_count": 385,
   "metadata": {
    "tags": []
   },
   "outputs": [
    {
     "data": {
      "application/vnd.jupyter.widget-view+json": {
       "model_id": "5950d5b93b134c04963db25fb83d8a08",
       "version_major": 2,
       "version_minor": 0
      },
      "text/plain": [
       "  0%|          | 0/256 [00:00<?, ?it/s]"
      ]
     },
     "metadata": {},
     "output_type": "display_data"
    },
    {
     "name": "stdout",
     "output_type": "stream",
     "text": [
      "CPU times: user 2.96 s, sys: 341 ms, total: 3.3 s\n",
      "Wall time: 13min 15s\n"
     ]
    }
   ],
   "source": [
    "%%time \n",
    "df_ = df_dev.copy()\n",
    "# idx_range_ = trange(20)\n",
    "idx_range_ = trange(len(df_))\n",
    "template_ = template_dn_3\n",
    "idx_ = 'pairID'\n",
    "\n",
    "log_dn2 = []\n",
    "log_ = log_dn2\n",
    "\n",
    "for i in idx_range_:\n",
    "    row = df_.iloc[i]\n",
    "    rqst = template_.format(*row[['context','question']])\n",
    "    ans = oa(rqst).strip()\n",
    "    log_.append((i, row[idx_], row['question'], rqst, ans))\n",
    "    # print(ans)"
   ]
  },
  {
   "cell_type": "code",
   "execution_count": 387,
   "metadata": {
    "tags": []
   },
   "outputs": [
    {
     "data": {
      "text/plain": [
       "(256, 256)"
      ]
     },
     "execution_count": 387,
     "metadata": {},
     "output_type": "execute_result"
    }
   ],
   "source": [
    "len(log_dn1), len(log_dn2)"
   ]
  },
  {
   "cell_type": "code",
   "execution_count": 388,
   "metadata": {
    "tags": []
   },
   "outputs": [],
   "source": [
    "df_ = df_dev.copy()\n",
    "df_['a1'] = [l[-1].split()[0].strip('.').lower().replace('yes', \"да\").replace('no', 'нет') for l in log_dn1]\n",
    "assert df_.a1.nunique() == 2\n",
    "df_['r1'] = df_.a1 == df.answer"
   ]
  },
  {
   "cell_type": "code",
   "execution_count": 390,
   "metadata": {
    "tags": []
   },
   "outputs": [],
   "source": [
    "df_['a2'] = [l[-1].split()[0].strip('.').lower().replace('yes', \"да\").replace('no', 'нет') for l in log_dn2]\n",
    "assert df_.a2.nunique() == 2\n",
    "df_['r2'] = df_.a2 == df.answer"
   ]
  },
  {
   "cell_type": "code",
   "execution_count": 391,
   "metadata": {
    "tags": []
   },
   "outputs": [
    {
     "data": {
      "text/html": [
       "<div>\n",
       "<style scoped>\n",
       "    .dataframe tbody tr th:only-of-type {\n",
       "        vertical-align: middle;\n",
       "    }\n",
       "\n",
       "    .dataframe tbody tr th {\n",
       "        vertical-align: top;\n",
       "    }\n",
       "\n",
       "    .dataframe thead th {\n",
       "        text-align: right;\n",
       "    }\n",
       "</style>\n",
       "<table border=\"1\" class=\"dataframe\">\n",
       "  <thead>\n",
       "    <tr style=\"text-align: right;\">\n",
       "      <th></th>\n",
       "      <th>context</th>\n",
       "      <th>question</th>\n",
       "      <th>answer</th>\n",
       "      <th>pairID</th>\n",
       "      <th>a1</th>\n",
       "      <th>r1</th>\n",
       "      <th>a2</th>\n",
       "      <th>r2</th>\n",
       "    </tr>\n",
       "  </thead>\n",
       "  <tbody>\n",
       "    <tr>\n",
       "      <th>0</th>\n",
       "      <td>Апоплексия яичника — кровоизлияние в яичник, с...</td>\n",
       "      <td>Зачастую причиной апоплексии яичника становитс...</td>\n",
       "      <td>да</td>\n",
       "      <td>1b6019e574f3767872a97386743eacd3</td>\n",
       "      <td>да</td>\n",
       "      <td>True</td>\n",
       "      <td>да</td>\n",
       "      <td>True</td>\n",
       "    </tr>\n",
       "    <tr>\n",
       "      <th>1</th>\n",
       "      <td>Дерматиты — воспалительные реакции кожи в отве...</td>\n",
       "      <td>Заболевания из группы дерматитов связаны с вос...</td>\n",
       "      <td>нет</td>\n",
       "      <td>61895c2af233c6623e0500ee59ed1c1c</td>\n",
       "      <td>нет</td>\n",
       "      <td>True</td>\n",
       "      <td>нет</td>\n",
       "      <td>True</td>\n",
       "    </tr>\n",
       "    <tr>\n",
       "      <th>2</th>\n",
       "      <td>Цинк пиритион активированный обладает противов...</td>\n",
       "      <td>Pityrosporum ovale и Pityrosporum orbiculare у...</td>\n",
       "      <td>да</td>\n",
       "      <td>07696e23dbc26edd1361cf839c0965d4</td>\n",
       "      <td>да</td>\n",
       "      <td>True</td>\n",
       "      <td>да</td>\n",
       "      <td>True</td>\n",
       "    </tr>\n",
       "    <tr>\n",
       "      <th>3</th>\n",
       "      <td>L-треонин в присутствии пиридоксина (витамина ...</td>\n",
       "      <td>Для превращения L-треонина в глицин и ацетальд...</td>\n",
       "      <td>нет</td>\n",
       "      <td>46b80fa75fcfdec8e18c80818e7727a2</td>\n",
       "      <td>нет</td>\n",
       "      <td>True</td>\n",
       "      <td>нет</td>\n",
       "      <td>True</td>\n",
       "    </tr>\n",
       "    <tr>\n",
       "      <th>4</th>\n",
       "      <td>Синдром слабости синусового узла (СССУ) связан...</td>\n",
       "      <td>СССУ происходит вследствие ослабевания или пре...</td>\n",
       "      <td>да</td>\n",
       "      <td>9c94af23ae52b30418646c6f82681970</td>\n",
       "      <td>нет</td>\n",
       "      <td>False</td>\n",
       "      <td>да</td>\n",
       "      <td>True</td>\n",
       "    </tr>\n",
       "    <tr>\n",
       "      <th>5</th>\n",
       "      <td>Эксгибиционизм — сексуальная девиация, при кот...</td>\n",
       "      <td>Эксгибиционизм это вариант нормы?</td>\n",
       "      <td>нет</td>\n",
       "      <td>481d0be5e2ce023b6b08edf90ad1bc59</td>\n",
       "      <td>нет</td>\n",
       "      <td>True</td>\n",
       "      <td>нет</td>\n",
       "      <td>True</td>\n",
       "    </tr>\n",
       "    <tr>\n",
       "      <th>6</th>\n",
       "      <td>Человек получает все свои стероидные гормоны и...</td>\n",
       "      <td>Все стероидные гормоны синтезируются из холест...</td>\n",
       "      <td>да</td>\n",
       "      <td>e56c247fd06d1de59cdc7d6eb9237d35</td>\n",
       "      <td>нет</td>\n",
       "      <td>False</td>\n",
       "      <td>нет</td>\n",
       "      <td>False</td>\n",
       "    </tr>\n",
       "    <tr>\n",
       "      <th>7</th>\n",
       "      <td>Всё пространство внутри кости заполнено костны...</td>\n",
       "      <td>Красный костный мозг в основном состоит из жир...</td>\n",
       "      <td>нет</td>\n",
       "      <td>f38b78ee0ffb8fd004abc062f5b5186b</td>\n",
       "      <td>нет</td>\n",
       "      <td>True</td>\n",
       "      <td>нет</td>\n",
       "      <td>True</td>\n",
       "    </tr>\n",
       "    <tr>\n",
       "      <th>8</th>\n",
       "      <td>Сердце — полый мышечный орган, нагнетающий кро...</td>\n",
       "      <td>По внешнему виду сердце напоминает форму конуса?</td>\n",
       "      <td>да</td>\n",
       "      <td>7b1410347182b6d9a01fcae7504136f7</td>\n",
       "      <td>да</td>\n",
       "      <td>True</td>\n",
       "      <td>да</td>\n",
       "      <td>True</td>\n",
       "    </tr>\n",
       "    <tr>\n",
       "      <th>9</th>\n",
       "      <td>Мочевой пузырь — у взрослого человека лежит в ...</td>\n",
       "      <td>Дно мочевого пузыря у женщин прилегает к предс...</td>\n",
       "      <td>нет</td>\n",
       "      <td>ea56913cf815c54dff3b7b765c383360</td>\n",
       "      <td>да</td>\n",
       "      <td>False</td>\n",
       "      <td>нет</td>\n",
       "      <td>True</td>\n",
       "    </tr>\n",
       "  </tbody>\n",
       "</table>\n",
       "</div>"
      ],
      "text/plain": [
       "                                             context  \\\n",
       "0  Апоплексия яичника — кровоизлияние в яичник, с...   \n",
       "1  Дерматиты — воспалительные реакции кожи в отве...   \n",
       "2  Цинк пиритион активированный обладает противов...   \n",
       "3  L-треонин в присутствии пиридоксина (витамина ...   \n",
       "4  Синдром слабости синусового узла (СССУ) связан...   \n",
       "5  Эксгибиционизм — сексуальная девиация, при кот...   \n",
       "6  Человек получает все свои стероидные гормоны и...   \n",
       "7  Всё пространство внутри кости заполнено костны...   \n",
       "8  Сердце — полый мышечный орган, нагнетающий кро...   \n",
       "9  Мочевой пузырь — у взрослого человека лежит в ...   \n",
       "\n",
       "                                            question answer  \\\n",
       "0  Зачастую причиной апоплексии яичника становитс...     да   \n",
       "1  Заболевания из группы дерматитов связаны с вос...    нет   \n",
       "2  Pityrosporum ovale и Pityrosporum orbiculare у...     да   \n",
       "3  Для превращения L-треонина в глицин и ацетальд...    нет   \n",
       "4  СССУ происходит вследствие ослабевания или пре...     да   \n",
       "5                  Эксгибиционизм это вариант нормы?    нет   \n",
       "6  Все стероидные гормоны синтезируются из холест...     да   \n",
       "7  Красный костный мозг в основном состоит из жир...    нет   \n",
       "8   По внешнему виду сердце напоминает форму конуса?     да   \n",
       "9  Дно мочевого пузыря у женщин прилегает к предс...    нет   \n",
       "\n",
       "                             pairID   a1     r1   a2     r2  \n",
       "0  1b6019e574f3767872a97386743eacd3   да   True   да   True  \n",
       "1  61895c2af233c6623e0500ee59ed1c1c  нет   True  нет   True  \n",
       "2  07696e23dbc26edd1361cf839c0965d4   да   True   да   True  \n",
       "3  46b80fa75fcfdec8e18c80818e7727a2  нет   True  нет   True  \n",
       "4  9c94af23ae52b30418646c6f82681970  нет  False   да   True  \n",
       "5  481d0be5e2ce023b6b08edf90ad1bc59  нет   True  нет   True  \n",
       "6  e56c247fd06d1de59cdc7d6eb9237d35  нет  False  нет  False  \n",
       "7  f38b78ee0ffb8fd004abc062f5b5186b  нет   True  нет   True  \n",
       "8  7b1410347182b6d9a01fcae7504136f7   да   True   да   True  \n",
       "9  ea56913cf815c54dff3b7b765c383360   да  False  нет   True  "
      ]
     },
     "execution_count": 391,
     "metadata": {},
     "output_type": "execute_result"
    }
   ],
   "source": [
    "df_.head(10)"
   ]
  },
  {
   "cell_type": "code",
   "execution_count": 394,
   "metadata": {
    "tags": []
   },
   "outputs": [
    {
     "data": {
      "text/plain": [
       "(0.671875, 0.8359375)"
      ]
     },
     "execution_count": 394,
     "metadata": {},
     "output_type": "execute_result"
    }
   ],
   "source": [
    "df_.r1.mean(), df_.r2.mean()"
   ]
  },
  {
   "cell_type": "code",
   "execution_count": 397,
   "metadata": {
    "scrolled": true,
    "tags": []
   },
   "outputs": [
    {
     "name": "stdout",
     "output_type": "stream",
     "text": [
      "6\n",
      "Человек получает все свои стероидные гормоны из холестерина. Два класса стероидных гормонов синтезируются в коре надпочечников: минералкортикоиды, которые регулируют всасывание неорганических ионов в почках, и глюкокортикоиды, которые помогают регулировать глюконеогенез и уменьшают воспалительную реакцию. Половые гормоны производятся в половых клетках мужчин и женщин и в плаценте. Среди них прогестерон, который регулирует женский репродуктивный цикл, андрогены (например, тестостерон) и эстрогены (эстрадиол), которые влияют на развитие вторичных половых признаков у мужчин и женщин соответственно. Стероидные гормоны оказывают эффект при очень низких концентрациях и поэтому синтезируются в относительно малых количествах. По сравнению с желчными солями для продукции стероидных гормонов потребляется относительно мало холестерина.\n",
      "Все стероидные гормоны синтезируются из холестерина?\n",
      "да\n",
      "\n",
      "16\n",
      "С возрастом компактное вещество утолщается, перекладины губчатого вещества становятся крупнее. Мозговая полость с 7 до 10 лет увеличивается мало. К 18–20 годам строение кости становится аналогичным строению кости взрослого, однако внутренняя перестройка ее происходит на протяжении всей жизни человека. Рельеф поверхности кости формируется в основном после рождения. Прилегающие к костям сухожилия, сосуды оставляют на костях отверстия, вырезки, борозды. В местах прикрепления мышц образуются бугорки, бугристости, гребни. Чем сильнее развиты мышцы, тем резче выражен рельеф костей.\n",
      "Основной этап роста костей достигается к 20 годам?\n",
      "да\n",
      "\n",
      "28\n",
      "Циклесонид проявляет низкое сродство к ГКС-рецепторам. После ингаляции он с помощью ферментов превращается в легких в основной метаболит (дезциклесонид, С21-дезметилпропионилциклесонид), который обладает выраженной противовоспалительной активностью и поэтому считается активным метаболитом.\n",
      "Метаболит циклесонида дезциклесонид обладает более высокой афинностью к ГКС-рецепторам, чем сам циклесонид?\n",
      "да\n",
      "\n",
      "34\n",
      "Лечение обычно начинают в стационаре, назначая цитостатики циклофосфан или сарколизин вместе с преднизолоном и метандростеналолом (неробол) или ретаболилом. Сарколизин назначают по 10 мг сут через день или ежедневно, по 200 300 мг. на курс. В течение всего курса дают преднизолон 10 20 мг сут, ретаболил по 50 мг в в 1 раз в неделю (или неробол по 10 15 мг. ежедневно). После завершения курса переходят к поддерживающей терапии сарколизином по 10 мг. 1 раз в 5 10 дней. При почечной недостаточности сарколизин становится крайне опасным, так как он выводится почками, и нарушение его выведения ведет к резкому повышению концентрации цитостатика в крови с развитием глубокой панцитопении. Вместо сарколизина можно использовать циклофосфан по 400 мг. через день внутрь, в в или в м (на курс 8 10 г). В течение всего курса преднизолон и неробол (или ретаболил) дают в той же дозе, что и в курсе с сарколизином. После окончания курса проводят поддерживающую терапию (по 400 мг. циклофосфана в день 1 раз в 5 10 дней).\n",
      "Метандростеналолом и неробол это одно и то же?\n",
      "да\n",
      "\n",
      "38\n",
      "Из лекарственных препаратов показано назначение e аминокапроновой кислоты в в и внутрь парааминометилбензойной кислоты (ПАМБА), которые обладают нормализующим действием на агрегацию тромбоцитов. Таким же действием обладают синтетические гормональные противозачаточные препараты инфекундин, местранол. При парциальных тромбоцитопатиях применяется АТФ в сочетании с сернокислой магнезией. При тромбоцитопатических кровотечениях часто применяется дицинон. Есть сведения о применении в малых дозах лития. Неплохие результаты получены при применении антагонистов брадикинина продектина, пармидина.\n",
      "Применяется ли сочетание продектина с синтетическими противозачаточными средствами в лечении парциальных тромбоцитопатий?\n",
      "да\n",
      "\n",
      "44\n",
      "Возбудитель — актиномицеты, грамположительные аэробы, которые входят в состав нормальной микрофлоры слизистой оболочки рта, а также желудочно-кишечного тракта и влагалища. Заболевание человека вызывается Actinomyces israelii, реже другими видами. Источник инфекции — человек, в организме которого грибы являются сапрофитами микрофлоры рта. Механизм передачи возбудителя — контактный (часто при поцелуях).\n",
      "Возбудителем являются грамположительные аэробные бактерии?\n",
      "да\n",
      "\n",
      "46\n",
      "Сибирская язва является острым, особо опасным инфекционным заболеванием, возникающим у человека и животных при заражении Bacillus anthracis, протекающим с формированием на коже специфических карбункулов, либо в септической форме. Источником инфекции являются дикие животные и скот, заражение происходит контактным путем.\n",
      "Можно ли разделывая свежее мясо коровы заразиться сибирской язвой?\n",
      "да\n",
      "\n",
      "52\n",
      "Обладает детоксикационным действием, снижая повышенный уровень аммиака в организме, в частности при заболеваниях печени. Действие препарата связано с его участием в орнитиновом цикле мочевинообразования Кребса (активирует работу цикла, восстанавливая активность ферментов клеток печени: орнитин- карбамоилтрансферазы и карбамоил-фосфатсинтетазы). Способствует выработке инсулина и соматотропного гормона.\n",
      "Фермент карбамоил-фосфатсинтетаза входит в цикл трикарбоновых кислот?\n",
      "да\n",
      "\n",
      "55\n",
      "Основным механизмом развития подагры является длительная гиперурикемия, в ответ на которую в организме возникает ряд приспособительных реакций, направленных на снижение содержания мочевой кислоты в виде повышения выделения мочевой кислоты почками и отложения уратов в тканях. Гиперурикемия ведет к повышению содержания мочевой кислоты в синовиальной жидкости, выпадению ее в виде кристаллов с последующим проникновением их в хрящ и синовиальную оболочку, где они откладываются в виде игольчатых кристаллов мочекислого натрия. Через дефекты хряща мочевая кислота проникает до кости субхондрально, где, образуя тофусы, обуславливает деструкцию костного вещества. Одновременно в синовиальной оболочке возникает синовиит с гиперемией, пролиферацией синовиоцитов и лимфоидной инфильтрацией.\n",
      "Подагру вызывают отложения мочевой кислоты в тканях?\n",
      "нет\n",
      "\n",
      "59\n",
      "Седативное средство — препарат брома. Как и другие бромиды, обладает способностью усиливать процессы торможения в коре головного мозга, особенно при повышенной возбудимости ЦНС. Облегчает наступление естественного сна.\n",
      "Бромиды не назначают при повышенной возбудимости ЦНС из-за их способности усиливать процессы торможения в коре головного мозга?\n",
      "нет\n",
      "\n",
      "73\n",
      "Триметазидин оказывает антиангинальное, антигипоксическое действие. Непосредственно влияя на кардиомиоциты и нейроны головного мозга, оптимизирует их метаболизм и функцию. Цитопротекторный эффект обусловлен повышением энергетического потенциала, активацией окислительного декарбоксилирования и рационализацией потребления кислорода (усиление аэробного гликолиза и блокада окисления жирных кислот).\n",
      "Триметазидин помогает при ангине?\n",
      "нет\n",
      "\n",
      "77\n",
      "Отхаркивающий эффект грудного эликсира обусловлен действием входящих в него компонентов: - солодки экстракт густой обладает противовоспалительным и отхаркивающим свойствами, которые связаны с содержанием в корнях глицирризина, стимулирующего активность реснитчатого эпителия в трахее и бронхах;\n",
      "Глицирризиновая кислота воздействует на эпителиальные клетки верхних дыхательных путей?\n",
      "нет\n",
      "\n",
      "79\n",
      "У ребенка, родившегося живым, в легкие поступает в воздух, поэтому кусочек легких взятый для патологоанатомических исследований и помещенный в воду, всплывает на поверхность воды, тогда как безвоздушные легкие мертворожденного ребенка тонут в воде.\n",
      "Легкие живороженного ребенка тонут в воде?\n",
      "нет\n",
      "\n",
      "81\n",
      "Гиперсомния — синдром, характеризующийся увеличением продолжительности ночного сна или повышенной сонливостью в дневное время. Частые причины — инсомния, недосыпание, прием седативных средств, гипотиреоз, соматические заболевания (анемия, хроническая печеночная и почечная недостаточность, заболевания легких), психические расстройства (неврозы, в том числе истерия, депрессия, шизофрения), апноэ во сне. Более редкие причины — нарколепсия, органические заболевания головного мозга (опухоль, энцефалит, инсульт), поражающие верхние отделы ствола и гипоталамус или вызывающие повышение внутричерепного давления.\n",
      "Гиперсомния является причиной гипотиреоза?\n",
      "нет\n",
      "\n",
      "82\n",
      "При миелотоксическом агранулоцитозе, вследствие снижения в крови тромбоцитов, выражен геморрагический синдром (синяки, кровоточивость десен, носовые, желудочные, кишечные кровотечения), поражения слизистых оболочек (некрозы, молочница), полости рта и желудочно кишечного тракта. В периферической крови уменьшено количество всех форм лейкоцитов, а также тромбоцитов, может быть анемия.\n",
      "В первую очередь при данном заболевании страдает костный мозг?\n",
      "да\n",
      "\n",
      "83\n",
      "Имеется ряд лекарственных средств с липотропным действием. Сюда относятся препараты гепатопротекторы эссенциале форте, легалон витамин В12, липоевая кислота, липофарм, липостабил. Назначаются курсами по 3 недели, примерно 1 раз в квартал.\n",
      "Витамин В12 обладает липофобными свойствами?\n",
      "нет\n",
      "\n",
      "86\n",
      "Устойчивость к азолам развивается медленно и часто является результатом нескольких генетических мутаций. Описанные механизмы развития устойчивости включают в себя гиперэкспрессию гена ERG11, кодирующего фермент 14α-деметилазу, который является основной мишенью действия азолов, и точечные мутации ERG11, приводящие к уменьшению связывания ферментов с азолами и/или к активации транспортных систем, что приводит к увеличению выведения азолов. Наблюдалась перекрестная устойчивость Candida spp. к препаратам группы азолов, хотя устойчивость к одному препарату этой группы не обязательно означает наличие устойчивости к другим препаратам группы азолов. Сообщалось о штаммах Aspergillus fumigates, устойчивых к итраконазолу.\n",
      "Устойчивость штаммов бактерий к одному препарату группы азолов не обязательно означает наличие устойчивости к другим препаратам группы азолов?\n",
      "да\n",
      "\n",
      "87\n",
      "В терапевтических дозах действует бактериостатически. При более высоких концентрациях оказывает бактерицидное действие. Подавляет синтез белка в микробной клетке. Активен преимущественно в отношении грамположительных бактерий: аэробных Staphylococcus spp. ( в т.ч. продуцирующих пенициллиназу); Streptococcus spp., в т.ч. Streptococcus pneumoniae (за исключением Enterococcus faecalis), Corynebacterium diphtheriae; анаэробных спорообразующих бактерий Clostridium spp. Линкомицин активен также в отношении грамотрицательных анаэробных бактерий: Bacteroides spp., Mycoplasma spp. Heчувствительны к линкомицину большинство грамотрицательных бактерий, грибы, вирусы, простейшие. Устойчивость вырабатывается медленно. Между линкомицином и клиндамицином существует перекрестная резистентность.\n",
      "Бактерии, нечувствительные к линкомицину, скорее всего чувствительны к клиндамицину?\n",
      "нет\n",
      "\n",
      "98\n",
      "Цинковая мазь оказывает подсушивающее, адсорбирующее, вяжущее и антисептическое действие. Образует альбуминаты и денатурирует белки. При нанесении на пораженную поверхность уменьшает явления экссудации, воспаления и раздражения тканей, образует защитный барьер от действия раздражающих факторов.\n",
      "Мазь вызывает уплотнение поверхностного слоя ткани?\n",
      "да\n",
      "\n",
      "104\n",
      "В развитии гипогалактии существенную роль придают заглатыванию воздуха (аэрофагии) во время сосания. Заглатывание воздуха наблюдается у всех новорождённых. В тех случаях, когда объём заглатываемого воздуха не превышает 10 % объёма желудка, наполненного молоком, аэрофагия является физиологической. Заглатывание большого количества воздуха — явление патологическое. При резко выраженной аэрофагии ребёнок не высасывает положенного количества молока, так как желудок у новорождённого растягивается за счёт воздуха и создаётся ощущение сытости.\n",
      "Если ребенок сосет мало молока, то может развиться гипогалактия?\n",
      "да\n",
      "\n",
      "117\n",
      "При поносах, болях в животе применяют микроклизмы из отвара ромашки, крахмальные клизмы перед сном без предварительного очищения кишечника.\n",
      "Ромешка обладает слабительным эффектом?\n",
      "нет\n",
      "\n",
      "122\n",
      "Дальнейшее лечение зависит от вида дискинезии. У больных гипотонически гипокинетической дискинезии рекомендуются продукты, обладающие желчегонным действием, обогащенные магнием, включающие холекинетические препараты (сорбит, ксилит). Показано проведение слепых дуоденальных зондирований 1 2 раза в неделю. Применяются минеральные воды высокой минерализации. Эффективны лечебная физкультура, массаж, диадинамические токи или амплипульс в проекции желчного пузыря. При гипертонически гиперкинетической дискинезии в диете ограничиваются механические и химические раздражители, показано назначение спазмолитических средств, дуоденальные слепые зондирования лучше не проводить, назначаются минеральные воды малой минерализации. Из желчегонных препаратов назначаются холеретики.\n",
      "В первую очередь при данном виде дискинезии желчного пузыря рекомендованы \"химечески нейтральные\" продукты?\n",
      "да\n",
      "\n",
      "124\n",
      "Механизм действия до конца не выяснен. Предполагается, что метформин может потенцировать эффекты инсулина или увеличивать эти эффекты в зонах периферических рецепторов. Метформин увеличивает чувствительность тканей к инсулину за счет увеличения количества инсулиновых рецепторов на поверхностных клеточных мембранах. Помимо этого метформин тормозит глюконеогенез в печени, уменьшает образование свободных жирных кислот и окисление жиров, снижает концентрацию триглицеридов (ТГ) и ЛПНП и ЛПОНП в крови. Метформин незначительно снижает аппетит и уменьшает абсорбцию углеводов в кишечнике. Он улучшает фибринолитические свойства крови за счет подавления ингибитора активатора плазминогена тканевого типа.\n",
      "Метформин снижает всасывание углеводов в кишечнике?\n",
      "да\n",
      "\n",
      "126\n",
      "Витамин С участвует в окислении ряда биологически активных веществ, регуляции обмена в соединительной ткани, углеводного обмена, свертываемости крови и регенерации тканей, стимулирует образование стероидных гормонов, нормализует проницаемость капилляров. Витамин С повышает устойчивость организма к инфекциям, снижает воспалительные реакции.\n",
      "Витамин С участвует в синтезе стероидных гормонов?\n",
      "да\n",
      "\n",
      "141\n",
      "Лозартан — специфический антагонист рецепторов ангиотензина II (подтип АТ 1). Не подавляет киназу II — фермент, разрушающий брадикинин. Снижает ОПСС, концентрацию в крови адреналина и альдостерона, АД, давление в малом круге кровообращения; уменьшает постнагрузку, оказывает диуретический эффект. Препятствует развитию гипертрофии миокарда, повышает толерантность к физической нагрузке у пациентов с хронической сердечной недостаточностью.\n",
      "Лозартан уменьшает преднагрузку?\n",
      "нет\n",
      "\n",
      "144\n",
      "Из этого соединения образуется первый пуриновый нуклеидинозиновая кислота, значительная часть которой превращается в пуриновые нуклеотиды нуклеиновых кислот адениловую и гуаниловую кислоты, которые идут на построение нуклеиновых кислот. Однако часть адениловой и гуаниловой кислот метаболизируется, превращаясь в простые пурины гуанин, ксантин и другие, которые под влиянием фермента ксантин оксидазы превращаются в мочевую кислоту, большая же их часть при участии ГГФТ вновь образует гуаниловую кислоту.\n",
      "В организме пуриновые нуклеотиды превращаются в мочевину?\n",
      "да\n",
      "\n",
      "162\n",
      "Острый милиарный туберкулез более свойствен детям раннего возраста и протекает у них под видом острого инфекционного заболевания. Предвестниками общей милиаризации процесса являются общие симптомы интоксикации: вялость, раздражительность, снижение аппетита, головная боль, иногда лихорадочное состояние. Нередко заболевание начинается остро, тяжелыми общими явлениями, температура повышается до высоких цифр, появляется одышка, цианоз; пульс учащенный и слабый. Физикальные данные в легких слабо выражены. Печень и селезенка увеличены. Изредка на коже выступают туберкулиды. В крови — сдвиг нейтрофилов влево, повышенная СОЭ; в моче — положительная диазореакция.\n",
      "Болезнь характеризуется повышенной скоростью оседания эритроцитов?\n",
      "да\n",
      "\n",
      "166\n",
      "Препарат Лорнолиоф не оказывает опиатоподобного действия на центральную нервную систему (ЦНС) и, в отличие от наркотических анальгетиков, не угнетает дыхание, не вызывает лекарственной зависимости. Вследствие наличия местнораздражающего действия в отношении желудочно-кишечного тракта (ЖКТ) и системного ульцерогенного эффекта, связанных с подавлением синтеза простагландинов, осложнения со стороны ЖКТ являются частыми нежелательными эффектами при лечении нестероидными противовоспалительными препаратами.\n",
      "Лечение Лорноксикамом может вызывать дефекты слизистой оболочки ЖКТ?\n",
      "да\n",
      "\n",
      "168\n",
      "Остеомаляция: в норме у беременных может быть остеомаляция хрящей полусуставов лонного сочленения, крестцово-подвздошного сочленения; в результате происходит расхождение суставных поверхно-стей от 0,5 до 0,9 см , что увеличивает размеры таза женщины перед родами и в родах. Расхождение суставных поверхностей более 0,9 см - патология. Остеомаляция как гестоз - это размягчение костей таза, позвоночника. В результате происходит нарушение походки, деформация костей, боли в костях. Необходимо прерывание бере-менности.\n",
      "Нормально ли, что у беременных может быть размягчение костей и связок крестцово-подвзошного сочленения?\n",
      "да\n",
      "\n",
      "170\n",
      "Оказывает кислотонейтрализующее, обволакивающее, адсорбирующее действие. Снижает протеолитическую активность пепсина. Не вызывает ощелачивание желудочного сока, сохраняя кислотность желудочного содержимого на физиологическом уровне. Не приводит к вторичной гиперсекреции соляной кислоты.\n",
      "Пепсин способен расщеплять белковые молекулы?\n",
      "да\n",
      "\n",
      "179\n",
      "Железо — важнейший микроэлемент организма. Как коэнзим цитохромоксидазы, каталазы и пероксидазы, а также как составная часть Hb, миоглобина и цитохромов он вовлечен во множество метаболических процессов, стимулирует эритропоэз. Входящая в состав препарата α-аминокислота — серин — способствует более эффективному всасыванию железа и его поступлению в системный кровоток, приводя к быстрому восстановлению его нормального содержания в организме. Это обеспечивает лучшую переносимость препарата и позволяет уменьшить необходимую дозу железа.\n",
      "Железо входит в состав серина?\n",
      "нет\n",
      "\n",
      "192\n",
      "Патоморфологически очаговые воспалительные изменения в мышцах в виде инфильтратов, состоящих преимущественно из лимфоцитов и гистиоцитов, плазматических клеток и эозинофилов, локализующихся в межмышечной соединительной ткани, вокруг мелких сосудов. Характерен также некроз мышечных волокон, регенерация и избыточный фагоцитоз. При хронизации процесса развитие фиброза и атрофия мышечных волокон.\n",
      "При данном заболевании происходит отмирание мышечной ткани?\n",
      "да\n",
      "\n",
      "195\n",
      "У больных артериальной гипертензией применение ингибиторов АПФ приводит к сопоставимому снижению АД в положении «сидя» и «стоя» без компенсаторного увеличения ЧСС . Периферическое сосудистое сопротивление снижается, сердечный выброс не меняется или увеличивается, почечный кровоток увеличивается, а скорость клубочковой фильтрации обычно не меняется. Резкое прекращение терапии не сопровождается быстрым увеличением АД. Гипотензивный эффект трандолаприла проявляется через 1 ч после приема и сохраняется в течение, по крайней мере, 24 ч. В некоторых случаях оптимального контроля АД удается добиться только через несколько недель после начала лечения. При длительной терапии гипотензивный эффект сохраняется. Трандолаприл не ухудшает циркадный профиль АД .\n",
      "Трандолаприл увеличивает почечный кровоток и скорость клубочковой фильтрации?\n",
      "нет\n",
      "\n",
      "202\n",
      "Диагноз ставится исключительно на данных анамнеза, выявляющего характерные особенности головной боли и сопутствующих симптомов. Мигренеподобная боль может оказаться проявлением опухоли мозга, аневризмы, артериовенозной мальформации, синусита или глаукомы. Такие исследования, как краниография, исследование глазного дна, ЭЭГ, не несут существенной информации, но их выполнение обязательно для исключения симптоматического характера головной боли. Во всех сомнительных случаях (при атипичной клинической картине) показаны КТ, МРТ, иногда ангиография.\n",
      "Боль похожая на мигрень и боль при опухоли головного мозга, схожи?\n",
      "да\n",
      "\n",
      "203\n",
      "Милиарный туберкулез — обычно генерализованный, но иногда он локализуется преимущественно в лёгких, а изредка — в отдельных их участках, например в верхушках. Различают тифоидную, легочную и менингеальную формы болезни. Проявляется сначала общим недомоганием, субфебрильной температурой тела, головной болью. Вскоре состояние больного резко ухудшается: лихорадка достигает 39–40 °С, одышка, тахикардия, акроцианоз. Физикальные изменения в легких незначительны (небольшое количество рассеянных сухих или мелкопузырчатых влажных хрипов). Печень и селезенка нерезко увеличены. Туберкулиновые пробы, вначале нормергические, по мере прогрессирования процесса становятся слабо выраженными или даже отрицательными.\n",
      "Болезнь сопровождается брадикардией?\n",
      "нет\n",
      "\n",
      "216\n",
      "Подавляет продуктивную симптоматику (бред, галлюцинации, агрессивность), автоматизм. Вызывает меньшее подавление моторной активности и в меньшей степени индуцирует каталепсию, чем классические антипсихотические средства — АПС (нейролептики). Сбалансированный центральный антагонизм к серотонину и дофамину может уменьшать склонность к экстрапирамидным побочным действиям и расширять терапевтическое воздействие препарата с охватом негативных и аффективных симптомов шизофрении. Может индуцировать зависящее от дозы увеличение концентрации пролактина в плазме.\n",
      "Классические нейролептики способны вызывать каталепсию?\n",
      "да\n",
      "\n",
      "219\n",
      "Сухой, или фибринозный, плеврит. Основной симптом — боль в боку, усиливающаяся при вдохе, кашле. Болевые ощущения уменьшаются в положении на пораженном боку. Заметно ограничение дыхательной подвижности соответствующей половины грудной клетки; при неизмененном перкуторном звуке может выслушиваться ослабленное дыхание вследствие щажения больным пораженной стороны, шум трения плевры. Температура тела чаще субфебрильная, могут быть озноб, ночной пот, слабость.\n",
      "При фибринозном плеврите болевые ощущения усиливаются в положении на поражённом боку?\n",
      "нет\n",
      "\n",
      "228\n",
      "Начало может быть острым или постепенным. Ранние симптомы — симптомы пневмонии: кашель с мокротой, потливость, лихорадка, потеря аппетита. При развернутой картине абсцесса лёгких — гнойно-резорбтивная лихорадка, гектическая температура, одышка, локальная боль при дыхании, пароксизмы лающего кашля с увеличением количества мокроты при перемене положения тела. Гнилостный запах, который может ощущаться на некотором расстоянии от больного, указывает на анаэробную инфекцию. Физикально: небольшой участок укорочения перкуторного звука, свидетельствующий о локальном пневмоническом уплотнении, и обычно ослобленное (а не бронхиальное) дыхание. Возможны разнокалиберные хрипы.\n",
      "Симптомы раннего абсцесса лёгких и пневмонии похожи?\n",
      "да\n",
      "\n",
      "231\n",
      "Мелатонин является синтетическим аналогом гормона шишковидной железы (эпифиза), оказывает адаптогенное, седативное, снотворное действие. Нормализует циркадные ритмы. Увеличивает концентрацию ГАМК и серотонина в среднем мозге и гипоталамусе, изменяет активность пиридоксалькиназы, участвующей в синтезе ГАМК , допамина и серотонина. Регулирует цикл сон- бодрствование, суточные изменения локомоторной активности и температуры тела, положительно влияет на интеллектуально-мнестические функции мозга, эмоционально-личностную сферу. Способствует организации биологических ритмов и нормализации ночного сна. Улучшает качество сна, ускоряет засыпание, регулирует нейроэндокринные функции. Адаптирует организм метеочувствительных людей к изменениям погодных условий.\n",
      "Шишковидная железа расположена в гипофизе?\n",
      "нет\n",
      "\n",
      "237\n",
      "Римантадин обладает противовирусной активностью в отношении вируса гриппа А. Блокируя М 2 -каналы вируса гриппа А, нарушает его способность проникать в клетки и высвобождать рибонуклеопротеид, ингибируя тем самым важнейшую стадию репликации вирусов. Индуцирует выработку интерферонов альфа и гамма. При гриппе, вызванном вирусом В, римантадин оказывает антитоксическое действие.\n",
      "Римантадин обладает противовирусной активностью в отношении вируса гриппа А и В?\n",
      "нет\n",
      "\n",
      "249\n",
      "3. Наиболее неблагоприятное течение и пессимистичный прогноз при симптоматической эпилепсии характерны для детей, перенесших нейроинфекции и родовые травмы. Относительно благоприятные течение и прогноз ассоциируются у детей с ЧМТ.\n",
      "Наиболее неблагоприятным течением и прогнозом характеризуется симптоматическая эпилепсия?\n",
      "нет\n",
      "\n",
      "252\n",
      "Опоясывающий лишай (опоясывающий герпес) — острое вирусное заболевание с поражением одного или нескольких спинномозговых ганглиев, проявляющееся болью и кожными высыпаниями в зоне их иннервации. После перенесенной в детстве ветряной оспы вирус длительно персистирует в спинномозговых ганглиях и ганглиях тройничного нерва, его реактивация нередко происходит при угнетении иммунитета (например, при кортикостероидной или лучевой терапии, злокачественных опухолях, лейкозах и др.). Размножившиеся в ганглиозных клетках вирусы мигрируют по чувствительным волокнам и вызывают кожные высыпания в зоне иннервации соответствующего ганглия.\n",
      "В организме вирус сохраняется в узлах тройничного нерва?\n",
      "да\n",
      "\n"
     ]
    }
   ],
   "source": [
    "# ERRORS in answers with context\n",
    "for idx, row in df_[~df_.r2].iterrows():\n",
    "    print (idx)\n",
    "    print(*row[['context','question','answer']], sep = '\\n', end = '\\n\\n')"
   ]
  },
  {
   "cell_type": "code",
   "execution_count": 341,
   "metadata": {
    "tags": []
   },
   "outputs": [
    {
     "data": {
      "text/plain": [
       "0.671875"
      ]
     },
     "execution_count": 341,
     "metadata": {},
     "output_type": "execute_result"
    }
   ],
   "source": [
    "(df_.answer == df_.a1).mean()"
   ]
  },
  {
   "cell_type": "code",
   "execution_count": 342,
   "metadata": {
    "tags": []
   },
   "outputs": [
    {
     "data": {
      "text/plain": [
       "да     134\n",
       "нет    122\n",
       "Name: a1, dtype: int64"
      ]
     },
     "execution_count": 342,
     "metadata": {},
     "output_type": "execute_result"
    }
   ],
   "source": [
    "df_.a1.value_counts()"
   ]
  },
  {
   "cell_type": "code",
   "execution_count": 413,
   "metadata": {
    "tags": []
   },
   "outputs": [
    {
     "name": "stdout",
     "output_type": "stream",
     "text": [
      "0 0.9\n",
      "20 0.85\n",
      "40 0.75\n",
      "60 0.85\n",
      "80 0.7\n",
      "100 0.9\n",
      "120 0.85\n",
      "140 0.9\n",
      "160 0.75\n",
      "180 0.9\n",
      "200 0.8\n",
      "220 0.85\n",
      "240 0.875\n"
     ]
    }
   ],
   "source": [
    "for q in range (0, len(df_), 20):\n",
    "    print (q, df_.iloc[q:q+20].r2.mean())"
   ]
  },
  {
   "cell_type": "raw",
   "metadata": {
    "tags": []
   },
   "source": [
    "# df = df_dev.iloc[40:60].copy()\n",
    "a1 = [l[-1].split()[0].strip('.').lower().replace('yes', \"да\").replace('no', 'нет') for l in log_]\n",
    "df['a1'] = a1\n",
    "df['r1'] = df.a1 == df.answer\n",
    "assert df.a1.nunique() == 2"
   ]
  },
  {
   "cell_type": "code",
   "execution_count": 414,
   "metadata": {
    "tags": []
   },
   "outputs": [
    {
     "data": {
      "text/html": [
       "<div>\n",
       "<style scoped>\n",
       "    .dataframe tbody tr th:only-of-type {\n",
       "        vertical-align: middle;\n",
       "    }\n",
       "\n",
       "    .dataframe tbody tr th {\n",
       "        vertical-align: top;\n",
       "    }\n",
       "\n",
       "    .dataframe thead th {\n",
       "        text-align: right;\n",
       "    }\n",
       "</style>\n",
       "<table border=\"1\" class=\"dataframe\">\n",
       "  <thead>\n",
       "    <tr style=\"text-align: right;\">\n",
       "      <th></th>\n",
       "      <th>context</th>\n",
       "      <th>question</th>\n",
       "      <th>answer</th>\n",
       "      <th>pairID</th>\n",
       "      <th>a1</th>\n",
       "      <th>r1</th>\n",
       "      <th>a2</th>\n",
       "      <th>r2</th>\n",
       "    </tr>\n",
       "  </thead>\n",
       "  <tbody>\n",
       "    <tr>\n",
       "      <th>40</th>\n",
       "      <td>Коклюш — острая инфекционная болезнь, относяща...</td>\n",
       "      <td>Болезнь передаётся воздушно-капельным путём?</td>\n",
       "      <td>да</td>\n",
       "      <td>917e79c795f732256dcdbf0562496a5d</td>\n",
       "      <td>да</td>\n",
       "      <td>True</td>\n",
       "      <td>да</td>\n",
       "      <td>True</td>\n",
       "    </tr>\n",
       "    <tr>\n",
       "      <th>41</th>\n",
       "      <td>Кандидоз (кандидамикоз, молочница) — группа за...</td>\n",
       "      <td>Возбудителм группы заболеваний является бактер...</td>\n",
       "      <td>нет</td>\n",
       "      <td>ce5f4992b380f5d73b2f6dd44d82f9f9</td>\n",
       "      <td>да</td>\n",
       "      <td>False</td>\n",
       "      <td>нет</td>\n",
       "      <td>True</td>\n",
       "    </tr>\n",
       "    <tr>\n",
       "      <th>42</th>\n",
       "      <td>Подобно окситоцину, карбетоцин избирательно св...</td>\n",
       "      <td>Окситоцин и карбетоцин имеют сходное действие ...</td>\n",
       "      <td>да</td>\n",
       "      <td>7c76ca98d5ae9f55cac0753f428d421d</td>\n",
       "      <td>нет</td>\n",
       "      <td>False</td>\n",
       "      <td>да</td>\n",
       "      <td>True</td>\n",
       "    </tr>\n",
       "    <tr>\n",
       "      <th>43</th>\n",
       "      <td>Эффективен у взрослых пациентов с гиперхолесте...</td>\n",
       "      <td>Классификация по Фредриксону характеризует ста...</td>\n",
       "      <td>нет</td>\n",
       "      <td>845036554853af98600f3784c1622bea</td>\n",
       "      <td>да</td>\n",
       "      <td>False</td>\n",
       "      <td>нет</td>\n",
       "      <td>True</td>\n",
       "    </tr>\n",
       "    <tr>\n",
       "      <th>44</th>\n",
       "      <td>Возбудитель — актиномицеты, грамположительные ...</td>\n",
       "      <td>Возбудителем являются грамположительные аэробн...</td>\n",
       "      <td>да</td>\n",
       "      <td>9617d41bfcfedc5f02173a5c772cf8d0</td>\n",
       "      <td>да</td>\n",
       "      <td>True</td>\n",
       "      <td>нет</td>\n",
       "      <td>False</td>\n",
       "    </tr>\n",
       "    <tr>\n",
       "      <th>45</th>\n",
       "      <td>Возбудитель — хламидия, которая имеет оболочку...</td>\n",
       "      <td>Инфекционный возбудитель этой болезни называет...</td>\n",
       "      <td>нет</td>\n",
       "      <td>7572687c0e297cd74a44052f349d7ac3</td>\n",
       "      <td>нет</td>\n",
       "      <td>True</td>\n",
       "      <td>нет</td>\n",
       "      <td>True</td>\n",
       "    </tr>\n",
       "    <tr>\n",
       "      <th>46</th>\n",
       "      <td>Сибирская язва является острым, особо опасным ...</td>\n",
       "      <td>Можно ли разделывая свежее мясо коровы заразит...</td>\n",
       "      <td>да</td>\n",
       "      <td>83d29f7ec67c62752e9b6e675834727a</td>\n",
       "      <td>нет</td>\n",
       "      <td>False</td>\n",
       "      <td>нет</td>\n",
       "      <td>False</td>\n",
       "    </tr>\n",
       "    <tr>\n",
       "      <th>47</th>\n",
       "      <td>При характеристике базального ритма необходимо...</td>\n",
       "      <td>Изменения базального ритма характеризуется тол...</td>\n",
       "      <td>нет</td>\n",
       "      <td>ff9759657679e91c241fd9267ac5be6d</td>\n",
       "      <td>нет</td>\n",
       "      <td>True</td>\n",
       "      <td>нет</td>\n",
       "      <td>True</td>\n",
       "    </tr>\n",
       "    <tr>\n",
       "      <th>48</th>\n",
       "      <td>Признаки дефицита. Снижение или отсутствие вса...</td>\n",
       "      <td>Мегалобластная анемия возникает вследствие деф...</td>\n",
       "      <td>да</td>\n",
       "      <td>a411da0c6cc8b355e0405b33f712d439</td>\n",
       "      <td>да</td>\n",
       "      <td>True</td>\n",
       "      <td>да</td>\n",
       "      <td>True</td>\n",
       "    </tr>\n",
       "    <tr>\n",
       "      <th>49</th>\n",
       "      <td>Понижает моторику и тонус гладкой мускулатуры ...</td>\n",
       "      <td>Данный препарат понижает тонус скелетной муску...</td>\n",
       "      <td>нет</td>\n",
       "      <td>8e5f404d7f817858dc401b97449d8d66</td>\n",
       "      <td>нет</td>\n",
       "      <td>True</td>\n",
       "      <td>нет</td>\n",
       "      <td>True</td>\n",
       "    </tr>\n",
       "    <tr>\n",
       "      <th>50</th>\n",
       "      <td>Оланзапин — антипсихотическое средство (нейрол...</td>\n",
       "      <td>Оланзапин способен понижать температуру?</td>\n",
       "      <td>да</td>\n",
       "      <td>4ae0d93de5c8fb792a3043e8d015a3ca</td>\n",
       "      <td>да</td>\n",
       "      <td>True</td>\n",
       "      <td>да</td>\n",
       "      <td>True</td>\n",
       "    </tr>\n",
       "    <tr>\n",
       "      <th>51</th>\n",
       "      <td>Эффективен в отношении дерматофитов (Epidermop...</td>\n",
       "      <td>Разноцветный лишай вызывает Candida albicans?</td>\n",
       "      <td>нет</td>\n",
       "      <td>b57c83da3f9a03d182225954e25f551f</td>\n",
       "      <td>да</td>\n",
       "      <td>False</td>\n",
       "      <td>нет</td>\n",
       "      <td>True</td>\n",
       "    </tr>\n",
       "    <tr>\n",
       "      <th>52</th>\n",
       "      <td>Обладает детоксикационным действием, снижая по...</td>\n",
       "      <td>Фермент карбамоил-фосфатсинтетаза входит в цик...</td>\n",
       "      <td>да</td>\n",
       "      <td>0f091db81ce459bebd7871185e06c9cb</td>\n",
       "      <td>нет</td>\n",
       "      <td>False</td>\n",
       "      <td>нет</td>\n",
       "      <td>False</td>\n",
       "    </tr>\n",
       "    <tr>\n",
       "      <th>53</th>\n",
       "      <td>Кальция глюконат является регулятором обмена к...</td>\n",
       "      <td>Кальция глюконат нежелательно сочетать с прием...</td>\n",
       "      <td>нет</td>\n",
       "      <td>3ea0a557e79df1eac7aca055d948fcd7</td>\n",
       "      <td>нет</td>\n",
       "      <td>True</td>\n",
       "      <td>нет</td>\n",
       "      <td>True</td>\n",
       "    </tr>\n",
       "    <tr>\n",
       "      <th>54</th>\n",
       "      <td>Выбор лечебной тактики при наличии ГПЭ должен ...</td>\n",
       "      <td>Контрацептивы используются при лечении гиперпл...</td>\n",
       "      <td>да</td>\n",
       "      <td>6bf4403809648dd29e5dfa6889c78a21</td>\n",
       "      <td>нет</td>\n",
       "      <td>False</td>\n",
       "      <td>да</td>\n",
       "      <td>True</td>\n",
       "    </tr>\n",
       "    <tr>\n",
       "      <th>55</th>\n",
       "      <td>Основным механизмом развития подагры является ...</td>\n",
       "      <td>Подагру вызывают отложения мочевой кислоты в т...</td>\n",
       "      <td>нет</td>\n",
       "      <td>2cec70c8c8bc6b24a907fc5fd7a076e2</td>\n",
       "      <td>да</td>\n",
       "      <td>False</td>\n",
       "      <td>да</td>\n",
       "      <td>False</td>\n",
       "    </tr>\n",
       "    <tr>\n",
       "      <th>56</th>\n",
       "      <td>К органическим веществам скелета относятся, кр...</td>\n",
       "      <td>Снижение органических веществ в кости приводит...</td>\n",
       "      <td>да</td>\n",
       "      <td>4aafcdb0a60e4d230c8ae7f1aa8560ef</td>\n",
       "      <td>да</td>\n",
       "      <td>True</td>\n",
       "      <td>да</td>\n",
       "      <td>True</td>\n",
       "    </tr>\n",
       "    <tr>\n",
       "      <th>57</th>\n",
       "      <td>Трахея, или дыхательное горло, представляет со...</td>\n",
       "      <td>Пищевод расположен перед трахеей?</td>\n",
       "      <td>нет</td>\n",
       "      <td>f76ab36362824d8b7ff6843dadcc6536</td>\n",
       "      <td>да</td>\n",
       "      <td>False</td>\n",
       "      <td>нет</td>\n",
       "      <td>True</td>\n",
       "    </tr>\n",
       "    <tr>\n",
       "      <th>58</th>\n",
       "      <td>Оказывает антисептическое и дезинфицирующее де...</td>\n",
       "      <td>Это комбинированный препарат?</td>\n",
       "      <td>да</td>\n",
       "      <td>71154956a954c04f120422d0965bf5b4</td>\n",
       "      <td>нет</td>\n",
       "      <td>False</td>\n",
       "      <td>да</td>\n",
       "      <td>True</td>\n",
       "    </tr>\n",
       "    <tr>\n",
       "      <th>59</th>\n",
       "      <td>Седативное средство — препарат брома. Как и др...</td>\n",
       "      <td>Бромиды не назначают при повышенной возбудимос...</td>\n",
       "      <td>нет</td>\n",
       "      <td>99ca73990b6b73b4b33a0f06810cf655</td>\n",
       "      <td>да</td>\n",
       "      <td>False</td>\n",
       "      <td>да</td>\n",
       "      <td>False</td>\n",
       "    </tr>\n",
       "  </tbody>\n",
       "</table>\n",
       "</div>"
      ],
      "text/plain": [
       "                                              context  \\\n",
       "40  Коклюш — острая инфекционная болезнь, относяща...   \n",
       "41  Кандидоз (кандидамикоз, молочница) — группа за...   \n",
       "42  Подобно окситоцину, карбетоцин избирательно св...   \n",
       "43  Эффективен у взрослых пациентов с гиперхолесте...   \n",
       "44  Возбудитель — актиномицеты, грамположительные ...   \n",
       "45  Возбудитель — хламидия, которая имеет оболочку...   \n",
       "46  Сибирская язва является острым, особо опасным ...   \n",
       "47  При характеристике базального ритма необходимо...   \n",
       "48  Признаки дефицита. Снижение или отсутствие вса...   \n",
       "49  Понижает моторику и тонус гладкой мускулатуры ...   \n",
       "50  Оланзапин — антипсихотическое средство (нейрол...   \n",
       "51  Эффективен в отношении дерматофитов (Epidermop...   \n",
       "52  Обладает детоксикационным действием, снижая по...   \n",
       "53  Кальция глюконат является регулятором обмена к...   \n",
       "54  Выбор лечебной тактики при наличии ГПЭ должен ...   \n",
       "55  Основным механизмом развития подагры является ...   \n",
       "56  К органическим веществам скелета относятся, кр...   \n",
       "57  Трахея, или дыхательное горло, представляет со...   \n",
       "58  Оказывает антисептическое и дезинфицирующее де...   \n",
       "59  Седативное средство — препарат брома. Как и др...   \n",
       "\n",
       "                                             question answer  \\\n",
       "40       Болезнь передаётся воздушно-капельным путём?     да   \n",
       "41  Возбудителм группы заболеваний является бактер...    нет   \n",
       "42  Окситоцин и карбетоцин имеют сходное действие ...     да   \n",
       "43  Классификация по Фредриксону характеризует ста...    нет   \n",
       "44  Возбудителем являются грамположительные аэробн...     да   \n",
       "45  Инфекционный возбудитель этой болезни называет...    нет   \n",
       "46  Можно ли разделывая свежее мясо коровы заразит...     да   \n",
       "47  Изменения базального ритма характеризуется тол...    нет   \n",
       "48  Мегалобластная анемия возникает вследствие деф...     да   \n",
       "49  Данный препарат понижает тонус скелетной муску...    нет   \n",
       "50           Оланзапин способен понижать температуру?     да   \n",
       "51      Разноцветный лишай вызывает Candida albicans?    нет   \n",
       "52  Фермент карбамоил-фосфатсинтетаза входит в цик...     да   \n",
       "53  Кальция глюконат нежелательно сочетать с прием...    нет   \n",
       "54  Контрацептивы используются при лечении гиперпл...     да   \n",
       "55  Подагру вызывают отложения мочевой кислоты в т...    нет   \n",
       "56  Снижение органических веществ в кости приводит...     да   \n",
       "57                  Пищевод расположен перед трахеей?    нет   \n",
       "58                      Это комбинированный препарат?     да   \n",
       "59  Бромиды не назначают при повышенной возбудимос...    нет   \n",
       "\n",
       "                              pairID   a1     r1   a2     r2  \n",
       "40  917e79c795f732256dcdbf0562496a5d   да   True   да   True  \n",
       "41  ce5f4992b380f5d73b2f6dd44d82f9f9   да  False  нет   True  \n",
       "42  7c76ca98d5ae9f55cac0753f428d421d  нет  False   да   True  \n",
       "43  845036554853af98600f3784c1622bea   да  False  нет   True  \n",
       "44  9617d41bfcfedc5f02173a5c772cf8d0   да   True  нет  False  \n",
       "45  7572687c0e297cd74a44052f349d7ac3  нет   True  нет   True  \n",
       "46  83d29f7ec67c62752e9b6e675834727a  нет  False  нет  False  \n",
       "47  ff9759657679e91c241fd9267ac5be6d  нет   True  нет   True  \n",
       "48  a411da0c6cc8b355e0405b33f712d439   да   True   да   True  \n",
       "49  8e5f404d7f817858dc401b97449d8d66  нет   True  нет   True  \n",
       "50  4ae0d93de5c8fb792a3043e8d015a3ca   да   True   да   True  \n",
       "51  b57c83da3f9a03d182225954e25f551f   да  False  нет   True  \n",
       "52  0f091db81ce459bebd7871185e06c9cb  нет  False  нет  False  \n",
       "53  3ea0a557e79df1eac7aca055d948fcd7  нет   True  нет   True  \n",
       "54  6bf4403809648dd29e5dfa6889c78a21  нет  False   да   True  \n",
       "55  2cec70c8c8bc6b24a907fc5fd7a076e2   да  False   да  False  \n",
       "56  4aafcdb0a60e4d230c8ae7f1aa8560ef   да   True   да   True  \n",
       "57  f76ab36362824d8b7ff6843dadcc6536   да  False  нет   True  \n",
       "58  71154956a954c04f120422d0965bf5b4  нет  False   да   True  \n",
       "59  99ca73990b6b73b4b33a0f06810cf655   да  False   да  False  "
      ]
     },
     "execution_count": 414,
     "metadata": {},
     "output_type": "execute_result"
    }
   ],
   "source": [
    "df_.iloc[40:60]"
   ]
  },
  {
   "cell_type": "code",
   "execution_count": 377,
   "metadata": {
    "tags": []
   },
   "outputs": [
    {
     "data": {
      "text/plain": [
       "256"
      ]
     },
     "execution_count": 377,
     "metadata": {},
     "output_type": "execute_result"
    }
   ],
   "source": [
    "len(log_dn1)"
   ]
  },
  {
   "cell_type": "raw",
   "metadata": {
    "tags": []
   },
   "source": [
    "# Saving whole log\n",
    "with open(\"logs/rmdanet_dev_gpt3_1202_log.json\", \"w+\") as f:\n",
    "    json.dump(log_dn1, f)"
   ]
  },
  {
   "cell_type": "code",
   "execution_count": null,
   "metadata": {},
   "outputs": [],
   "source": []
  },
  {
   "cell_type": "markdown",
   "metadata": {},
   "source": [
    "## private test"
   ]
  },
  {
   "cell_type": "code",
   "execution_count": 416,
   "metadata": {
    "tags": []
   },
   "outputs": [
    {
     "name": "stdout",
     "output_type": "stream",
     "text": [
      "(512, 3)\n"
     ]
    },
    {
     "data": {
      "text/html": [
       "<div>\n",
       "<style scoped>\n",
       "    .dataframe tbody tr th:only-of-type {\n",
       "        vertical-align: middle;\n",
       "    }\n",
       "\n",
       "    .dataframe tbody tr th {\n",
       "        vertical-align: top;\n",
       "    }\n",
       "\n",
       "    .dataframe thead th {\n",
       "        text-align: right;\n",
       "    }\n",
       "</style>\n",
       "<table border=\"1\" class=\"dataframe\">\n",
       "  <thead>\n",
       "    <tr style=\"text-align: right;\">\n",
       "      <th></th>\n",
       "      <th>pairID</th>\n",
       "      <th>context</th>\n",
       "      <th>question</th>\n",
       "    </tr>\n",
       "  </thead>\n",
       "  <tbody>\n",
       "    <tr>\n",
       "      <th>0</th>\n",
       "      <td>8c4f70416beeda1f12e00f5104d9d908</td>\n",
       "      <td>Природа полос поглощения в ик-области связана ...</td>\n",
       "      <td>Возможности ИК-спектроскопии позволяют анализи...</td>\n",
       "    </tr>\n",
       "    <tr>\n",
       "      <th>1</th>\n",
       "      <td>f96a9c5168641bf26d1e44de63010c3e</td>\n",
       "      <td>Глюкокортикоиды оказывают разностороннее влиян...</td>\n",
       "      <td>Глюкокортикоиды не встречаются в тканях печени?</td>\n",
       "    </tr>\n",
       "  </tbody>\n",
       "</table>\n",
       "</div>"
      ],
      "text/plain": [
       "                             pairID  \\\n",
       "0  8c4f70416beeda1f12e00f5104d9d908   \n",
       "1  f96a9c5168641bf26d1e44de63010c3e   \n",
       "\n",
       "                                             context  \\\n",
       "0  Природа полос поглощения в ик-области связана ...   \n",
       "1  Глюкокортикоиды оказывают разностороннее влиян...   \n",
       "\n",
       "                                            question  \n",
       "0  Возможности ИК-спектроскопии позволяют анализи...  \n",
       "1    Глюкокортикоиды не встречаются в тканях печени?  "
      ]
     },
     "execution_count": 416,
     "metadata": {},
     "output_type": "execute_result"
    }
   ],
   "source": [
    "rumedbench_path = '../rumedbench'\n",
    "df_priv = pd.read_json(os.path.join(rumedbench_path, 'data/RuMedDaNet/private_test_v1.jsonl'), lines=True)\n",
    "print(df_priv.shape)\n",
    "df_priv.head(2)"
   ]
  },
  {
   "cell_type": "code",
   "execution_count": 425,
   "metadata": {
    "scrolled": true,
    "tags": []
   },
   "outputs": [
    {
     "data": {
      "application/vnd.jupyter.widget-view+json": {
       "model_id": "6847e3baa2a7451b8b204a308f79462b",
       "version_major": 2,
       "version_minor": 0
      },
      "text/plain": [
       "  0%|          | 0/512 [00:00<?, ?it/s]"
      ]
     },
     "metadata": {},
     "output_type": "display_data"
    },
    {
     "name": "stdout",
     "output_type": "stream",
     "text": [
      "Yes. Возможности ИК-спектроскопии позволяют анализировать вещества в кристаллическом состоянии?\n",
      "No. Глюкокортикоиды не встречаются в тканях печени?\n",
      "No. Проламины и глютелины широко распространенны в органах и тканях животных (сыворотка крови, молоко, яичный белок, мышцы)?\n",
      "Yes. Поликлиники могут долечивать больных после выписки из стационара?\n",
      "_RLError_\n",
      "No. Отобранный при данной процедуре объём крови замещается 5%-ым раствором марганцовки?\n",
      "_RLError_\n",
      "No. Трупные яды образуются в результате присоединения карбоксильной группы к белковым аминокислотам?\n",
      "No. Здесь описан процесс анаэробного дыхания?\n",
      "_RLError_\n",
      "No. Аскорбатоксидаза относится к ферментам содержащим молибден?\n",
      "No. Центр голода находится в вентромедиальных ядрах подбугорья?\n",
      "Yes. Возможна ли атрофия мочевого пузыря?\n",
      "No. Только при необходимости длительной транспортировки более шести суток транспортные шины необходимо укреплять гипсом?\n",
      "Yes. Биофлавоноиды подавляют выработку гиалуронидазы?\n",
      "No. Медиастинит - это аутоиммунное заболевание?\n",
      "No. Болезнь приводит к увеличению правого желудочка сердца?\n",
      "No. Различные ядовитые вещества не могут локализоваться в разных органах и тканях организма?\n",
      "No. Облитерирующий эндартериит - это заболевание суставов конечностей?\n",
      "_RLError_\n",
      "No. Камни при желчнокаменной болезни состоят из фибрина?\n",
      "Yes. Атриопептиды вызывают натрийуретическое действие?\n",
      "_RLError_\n",
      "Yes. Вивитрол применяют для лечения алкоголизма?\n",
      "_RLError_\n",
      "_RLError_\n",
      "_RLError_\n",
      "Yes. В клинических исследованиях телмисартан показал сходную с плацебо общую частоту развития нежелательных реакций?\n",
      "No. Молекулы IgM способны проникать через плаценту?\n",
      "No. Устройство используется для лечения опухолей по всему телу?\n",
      "_RLError_\n",
      "No. Доброкачественная опухоль дает метастазы?\n",
      "No. Местное обезболивание рекомендуется для лиц, страдающих психическими заболеваниями?\n",
      "Yes. Нарушение проходимости дыхательных путей может привести к осложнениям при анестезии?\n",
      "Yes. Тромбоз приводит к сокращению просвета кровеносных сосудов?\n",
      "No. При разрыве мышц функция конечности остается частично сохранённой?\n",
      "_RLError_\n",
      "_RLError_\n",
      "Yes. Вещества основного характера не диссоциируют в желудке из-за кислотности желудочного сока?\n",
      "No. Барбитураты увеличивают скорость метаболизма в головном мозге?\n",
      "Yes. При ИБС может быть назначен Аспаркам?\n",
      "No. Фурункул более простое заболевание чем карбункул?\n",
      "_RLError_\n",
      "No. В случае относительных показаний к операции она безопасна для пациента?\n",
      "_RLError_\n",
      "_RLError_\n",
      "No. Витамин H так же называют авидином?\n",
      "No. Гомеостаз это один из гормонов у высших животных?\n",
      "Yes. При венозном кровотечении есть риск попадания воздуха в кровяное русло?\n",
      "_RLError_\n",
      "_RLError_\n",
      "Yes. Одним из преимуществ реинфузии аутокрови является отсутствие изменений, связанных с консервированием и хранением?\n",
      "_RLError_\n",
      "Yes. Замороженная плазма крови имеет ограниченный срок хранения?\n",
      "_RLError_\n",
      "Yes. Причиной заболевания является выработка аутоантител атакующих собственные эритроциты так, как если бы они были инородным\n",
      "No. Полипептидная цепь белка имеет хаотичную структуру?\n",
      "_RLError_\n",
      "Yes. При мастите локализация разреза зависит от расположения гноя?\n",
      "Yes. Ожоги чаще всего встречаются у детей?\n",
      "Yes. Выбор биологических жидкостей для проведения химико-токсикологического исследования зависит от токсикокинетики конкретны\n",
      "Yes. Жирные кислоты используются в процессе синтеза многих липидов?\n",
      "Yes. Менструальные кровотечения являются вариантом нормы для организма?\n",
      "No. Гаптены изначально являются веществами с иммуногенными свойствами?\n",
      "No. Гипертермия - это то, что угрожает пострадавшему с охлаждением?\n",
      "No. В зависимости от возраста взрослого пациента принцип подготовки к операции отличается?\n",
      "Yes. Химические связи могут выполнять роль аккамуляторов полученной энергии света?\n",
      "No. Хирургические операции всегда сопровождаются кровотечением?\n",
      "_RLError_\n",
      "No. Основное накопление крахмала у растениях происходит в листьях?\n",
      "Yes. π-электронные облака участвуют в миграции энергии?\n",
      "_RLError_\n",
      "Yes. Новокаин обладает обезболивающим эффектом?\n",
      "Yes. По химическому составу эти белки состоят только из аминокислот?\n",
      "Yes. Возможно ли продолжение лечения доксорубицином при появлении синусовой тахикардии и/или неспецифических изменениях волн \n",
      "Yes. Галактозу одновременно можно отнести к липопротеинам и гликопротеинам?\n",
      "_RLError_\n",
      "_RLError_\n",
      "Yes. Верно ли, что при приеме терафлекса может возникать боль в эпигастрии?\n",
      "_RLError_\n",
      "No. Можно ли по определенным параметрам звуков внешней среды поставить диагнозы?\n",
      "Yes. Домены внутри белковой молекулы соединяются между собой?\n",
      "_RLError_\n",
      "No. Асептика - это наука изучающая физические растворы?\n",
      "Yes. Тромбоз глубоких вен может быть осложнён тромбоэмболией лёгочной артерии?\n",
      "Yes. Жжение, боль и чувство давления при склерозировании геморроидальных узлов препаратом Этоксисклерол особенно характерно д\n",
      "_RLError_\n",
      "Yes. Гипофиз вырабатывает несколько типов гормонов?\n",
      "_RLError_\n",
      "_RLError_\n",
      "_RLError_\n",
      "No. Хирургия изучает целостность тканей организма?\n",
      "_RLError_\n",
      "No. Гипервитаминозные состояния характерны для водорастворимой группы витаминов?\n",
      "_RLError_\n",
      "No. Apathy is not a symptom of the terminal stage of septic shock. Апатия относится к признакам терминальной стадии септического шока?\n",
      "No. Заканчивается ли работа хирурга после проведения операции?\n",
      "No. Западение языка может случиться только при масочном способе наркоза?\n",
      "No. При инфузиях препарата Амбизом побочные эффекты непременно наблюдаются при каждой последующей инфузии?\n",
      "_RLError_\n",
      "Yes. Антисептические мероприятий нацелены на предупреждение попадания инфекции в рану?\n",
      "_RLError_\n",
      "_RLError_\n",
      "_RLError_\n",
      "No. Когда воспаление не имеет тенденции к ограничению развивается абсцесс?\n",
      "Yes. Приведено описание причин возникновения токсического гепатита?\n",
      "Yes. Отравления солями сенильной кислоты в целом крайне опасно для организма человека?\n",
      "No. Септический шок может быть вызван только грамположительными микробами?\n",
      "No. Вода относится к изотоническим жидкостям?\n",
      "No. Сукцинатдегидрогеназа является типичным представителем флавопротеинов?\n",
      "Yes. Гормоны влияют на процессы метаболизма в организмах млекопитающих?\n",
      "No. Боль в груди относится к симптомам декомпрессионной болезни?\n",
      "Yes. При элефантиазе происходит закупорка филяриями лимфатических сосудов?\n",
      "_RLError_\n",
      "_RLError_\n",
      "Yes. Гель не следует наносить на обширные участки кожи во избежание развития побочных эффектов?\n",
      "No. В экстренной ситуации возможно оперировать пациента не дожидаясь постановки диагноза?\n",
      "Yes. Ремдесивир применяют при COVID-19?\n",
      "Yes. Пневмония у новорождённых часто протекает без одышки?\n",
      "No. Ожог пищевода может возникнуть при проглатывании стакана воды (крутого кипятка)?\n",
      "No. Белковые молекулы и ионы магния обеспечивают работу воротного механизма?\n",
      "No. Синдром Леша-Нихана у девочек встречается в 2 раза чаще чем у мальчиков?\n",
      "No. Экстренную патологию хирургического профиля можно оказывать только в хирургическом отделении?\n",
      "_RLError_\n",
      "_RLError_\n",
      "_RLError_\n",
      "No. Препарат Модэлль Либера не применяется у мужчин?\n",
      "Yes. Известны ли случаи отравления людей косметическими средствами?\n",
      "No. Бромизм - это синдром, возникающий в результате длительного потребления минеральной воды?\n",
      "_RLError_\n",
      "No. Разогревающие мази эффективны для профилактики и лечения различных травм опорно-двигательного аппарата?\n",
      "Yes. Морфин является метаболитом кодеина?\n",
      "Yes. Сигналы ядерного магнитного резонанса позволяют изучать химическое строение вещества?\n",
      "Yes. Одна из функций почер это выведение лишней жидкости из организма?\n",
      "Yes. Чужеродность является необходимым свойством вещества, чтобы оно могло называться аллергеном?\n",
      "Yes. Любое гнойное воспаление можно локализовать на основе симптомов?\n",
      "_RLError_\n",
      "No. Реактивность и гомеостаз организма это одно и то же?\n",
      "No. Простые ферменты состоят из полипептидных цепей и кофактора?\n",
      "No. δ-пептид выделен из тканей предсердия?\n",
      "No. При хранении пластин они не должны соприкасаться с воздухом окружающей среды?\n",
      "No. Установлена ли причинно-следственная связь между приемом эналаприла и инфекциями мочевыводящих и верхних дыхательных пут\n",
      "No. Острая форма дыхательной недостаточности считаеся неизлечимой?\n",
      "Yes. Можно ли предсказать сложность предстоящей процедуры интубации пациента?\n",
      "Yes. Увеличение ЧСС при физической нагрузке связано с выделением катехоламинов?\n",
      "No. Частота встречаемости нейтропении при приеме зидовудина возрастает при повышенном гемоглобине?\n",
      "_RLError_\n",
      "_RLError_\n",
      "_RLError_\n",
      "No. Верно ли что препарат не имеет побочных эффектов?\n",
      "Yes. Печень оказывает существенное влияние на уровень трансферрина в крови?\n",
      "No. Введение в брюшную полость специального раствора в процессе перитониального диализа позволяет вывести все токсические ве\n",
      "No. Форсированный диурез наряду с гипервентиляцией являются искусственными каналами детоксикации при отравлении?\n",
      "No. За возникновение чувства голода отвечает гормон лептин?\n",
      "No. Термин ЭКА происходит от названия жира на которые он воздействует?\n",
      "No. Причина возникновения опухолевого процесса всегда обусловлена каким-либо внешним фактором?\n",
      "No. Введении зонда показано при угрозе разрыва матки?\n",
      "Yes. Может ли человеческий глаз различать объекты с одинаковым значением цветового контраста?\n",
      "No. При закрытом переломе видны отломки в глубине раны?\n",
      "No. Метаболический алкалоз возникает из-за падения концентрации бикарбонатных анионов в плазме крови?\n",
      "Yes. Зимой люди чаще получают отморожение?\n",
      "Yes. Молекула дисахарида состоит из пары молекул моносахаридов?\n",
      "Yes. В существенных количествах эти органические соединения встречаются в нервных тканях?\n",
      "Yes. Верно ли, что гепатотоксическое действие флуконазола может быть как обратимым так и необратимым?\n",
      "No. Ожирение относится к острым состояниям?\n",
      "Yes. У больного помимо температуры кожи контролируют ещё один температурный показатель?\n",
      "No. Предположительным диагнозом является хроническая постгеморрагическая железодефицитная анемия?\n",
      "No. При длительных операциях применяется инфильтрационная анестезия?\n",
      "No. В процессе метаболизма действие ферментов нацелено сделать метаболиты менее полярными для лучшего растворения в воде и в\n",
      "No. При резкой отмене препарата Сирдалуд отмечается нормализация симптомов тахикардии?\n",
      "No. Градиент силы определяет скорость изменения положения тела в пространсве?\n",
      "No. Внутриутробное развитие плода происходит скачкообразно?\n",
      "No. При появлении побочных эффектов необходимо принять обезболивающий препарат?\n",
      "_RLError_\n",
      "Yes. Биополимеры содержат пептидные связи?\n",
      "Yes. Оксид азота помогает в насыщении артериальной крови кислородом?\n",
      "No. Температуру воды подбирают с таким расчетом, чтобы она в 2 раза превышала температуру отогреваемого участка?\n",
      "No. Нарушения лабораторных показателей 3 и 4 степени тяжести возможны при введении авастина только в комбинации с химиотерап\n",
      "Yes. Непродолжительное кровотечение может привести к смерти?\n",
      "No. Указанное открытие было сделано в 90-е годы?\n",
      "No. Токсическое действие фосфорорганических соединений обусловлено их влиянием на аланин?\n",
      "No. Катехоламины ослабляют действие инсулина?\n",
      "No. Для начала заболевания характерна субфебрильная температура тела?\n",
      "Yes. Главным депо витамина В12 в организме является печень?\n",
      "No. Посттромбофлебитический синдром является предвестником возникновения тромбоза глубоких вен нижних конечностей?\n",
      "No. Пантотеновая кислота плохо растворяется в воде?\n",
      "Yes. Насыщенные соединения менее токсичны чем ненасыщенные вещества?\n",
      "Yes. Источником витамина витамина Е для человека являются растительные масла и жиры?\n",
      "Yes. Метод прямого переливания крови сопряжён с риском возникновения осложнений?\n",
      "No. Миоглобин тождественен гемоглобину?\n",
      "Yes. Возможно ли состояние кахексии при онкологическом заболевании?\n",
      "_RLError_\n",
      "_RLError_\n",
      "Yes. В газовой хроматографии есть подвижная и неподвижная фаза?\n",
      "_RLError_\n",
      "Yes. Можно ли описать пролежни, как некроз мягких тканей, образующийся в результате расстройства кровообращения в них?\n",
      "_RLError_\n",
      "No. Лоперамид назначают при запорах?\n",
      "_RLError_\n",
      "Yes. Большой живот является одним из симптомов рахита у детей?\n",
      "No. Витамины являются энергетическим субстратом мышечной ткани?\n",
      "Yes. Черепно-мозговая травма занимает первое место среди причин смерти и инвалидности у пострадавших в результате травм?\n",
      "No. Тригерная система переходит во множество точек?\n",
      "_RLError_\n",
      "Yes. При подозрении на перелом конечности перед эвакуацией пострадавшего выполняют транспортную ампутацию сегмента, отсекая е\n",
      "No. В состав плазматической мембраны входит двойной слой воды?\n",
      "No. При тепловом ударе смерть наступает из-за паралича сердечной мышцы?\n",
      "_RLError_\n",
      "No. При изменении рН артериальной крови в сторону щелочной, уменьшается содержание барбитуратов в плазме и повышается содерж\n",
      "No. Суставная сумка расположена внутри кости?\n",
      "Yes. При неправильном применении назальных ГКС могут развиваться побочные эффекты характерные для системных ГКС?\n",
      "No. Смещенная пропорция интенсивных параметров различных частей системы говорит о её термодинамическом равновесии?\n",
      "Yes. Белки хромопротеины вовлечены в процессы дыхания и кислородного обмена?\n",
      "No. Может ли быть сотрясение мозга без потери сознания?\n",
      "No. Запах горького миндаля от содержимого желудка трупа может свидетельствовать об отравлении некачетвенным спиртом?\n",
      "No. В этой фазе гипотермии мышечная дрожь только нарастает?\n",
      "No. В грыжевом мешке может находиться вилочковая железа?\n",
      "Yes. Мелена - это название черного полужидкого стула?\n",
      "No. Снижение каталитической активности свидетельствует о ренатурации белка?\n",
      "_RLError_\n",
      "_RLError_\n",
      "No. Производная УФ-спектрофотометрия используется для анализа лекарственных веществ, не имеющих четко выраженного максимума \n",
      "Yes. Является ли бросок мяча человеком примером составного движения?\n",
      "No. Энтропия не позволяет измерить значение температуры внутри Энтропия позволяет измерить значение температуры внутри системы?\n",
      "Yes. При обморожении некротические ткани являются источником инфекции?\n",
      "Yes. Механизмы теплорегуляции при лихорадке и перегревании организма различаются?\n",
      "_RLError_\n",
      "No. Глюкокортикостероиды оказывают хороший эффект при лечении респираторного дистресс-синдрома у новорождённых?\n",
      "Yes. Важен ли послеоперационный период с точки зрения времени необходимого для полного выздоровления пациента?\n",
      "No. Витамин U является источником свежей капусты?\n",
      "No. Упомянутое органическое соединение приторно-сладкое на вкус?\n",
      "_RLError_\n",
      "_RLError_\n",
      "No. Верно ли, что при декомпенсированномшоке транспортировка возможна?\n",
      "_RLError_\n",
      "_RLError_\n",
      "_RLError_\n",
      "Yes. Болезнь может быть вызвана дефицитом тиамина в организме?\n",
      "No. Тяжелые инфекционные заболевания могут являться показанием для переливания крови?\n",
      "No. Анионами называют группу ферментов в организме человека?\n",
      "Yes. Активность сывороточной амилазы может увеличиваться вследствие введения Хаес-стерила?\n",
      "Yes. Сокращения сердца можно назвать колебаниями?\n",
      "No. Аминокислота аланин устойчива к действию ультрофиолета?\n",
      "No. Ниболее эффективнм считается ранний гемодиализ, который нужно провести в течение 24 минут после поступления токсического\n",
      "Yes. При разложении трупов образуются вещества, которые дают схожие с некоторыми ядами реакции?\n",
      "Yes. Повреждение сорбента при нанесении исследуемых веществ повлияет на результат исследования?\n",
      "No. Иногда при терапии сибутрамином наблюдается такой побочный эффект как появление избыточной массы тела?\n",
      "No. При подкожном введении меполизумаба в месте инъекции часто наблюдаются выраженные местные реакции, требующие медицинског\n",
      "No. У человека наибольшее количество гликогена содержится в жировой ткани?\n",
      "No. Описанный имплант позволяет производить взаимодействие с головным мозгом человека?\n",
      "No. У компонентов с одинаковой температурой кипения полное разделение происходит легко?\n",
      "Yes. Скорость колебания частниц может быть несколько сотен см/с?\n",
      "No. Спинномозговая анестезия эффективна операциях на сердце?\n",
      "_RLError_\n",
      "Yes. Усиление антитоксической функции печени относится к защитной реакции организма?\n",
      "No. Брыжейкой называют эпителий кишечника?\n",
      "Yes. Вещество применяется в спортивном питании атлетов?\n",
      "Yes. Цитокины это один из медиаторов воспаления?\n",
      "No. Целью медицинской сортировки является аиболее эффективному использованию наличных сил и средств медицинской службы в сло\n",
      "Yes. Антитела это молекулы белковой природы?\n",
      "No. Стресс всегда оказывает на организм отрицательное действие?\n",
      "Yes. Состояния относящиеся к \"острому животу\" представляют опасность для жизни пациента?\n",
      "No. Длительность применения препарата Адвантан у детей не должна превышать 12 недель?\n",
      "No. В клинических испытаниях меньшее количество пациентов, получавших Циркадин, сообщили о неблагоприятных реакциях по сравн\n",
      "Yes. В организмах животных холин используется для биосинтеза фосфолипидов?\n",
      "Yes. В формировании бинакулярного зрения участуют оба глаза?\n",
      "Yes. Консервирование биологического материала этиловым спиртом затрудняет определение некоторых соединений, таких как металли\n",
      "_RLError_\n",
      "_RLError_\n",
      "Yes. При прорыве субплеврально расположенного абсцесса легкого в плевральную полость может развиться эмпиема?\n",
      "Yes. Интерфероны препятствуют распространению вирусной инфекции в организм?\n",
      "Yes. Хроматография может применяться для выявления контрафактных лекарственных препаратов?\n",
      "No. Доза валацикловира 8 г в день является невысокой дозой?\n",
      "No. Во избежание снижения количества тромбоцитов и артериального давления при применении активированных углей и ионообменник\n",
      "Yes. Несмотря на то, что выраженность некоторых побочных реакций при терапии лакосамидом уменьшалась после снижения дозы либо\n",
      "No. Изменение мембранного потенциала являетя причиной возбуждения мембраны?\n",
      "No. Это вещество повышает тонус блуждающего нерва?\n",
      "Yes. Микрофлора кишечника человека способна производить витамин К?\n",
      "No. Эти методы направлены на выявление биохимического фенотипа организма?\n",
      "No. Микроэлемент регулирует уровень кислорода в крови?\n",
      "_RLError_\n",
      "Yes. Одним из ограничений использования газожидкостной хроматографии является разложение лекарственных веществ при высокой т\n",
      "Yes. Мощность хирургического отделения определяется количеством палат?\n",
      "No. Длительный приём Анаприлина приводит к повышению артериального давления?\n",
      "_RLError_\n",
      "_RLError_\n",
      "No. Чем хуже вещество диссоциирует на ионы, тем меньше их выведение зависит от рН мочи?\n",
      "No. При остеомиелите в первую очередь поражается костный мозг?\n",
      "Yes. При данном типе ранения у пациента наблюдаются проблемы с дыханием?\n",
      "No. Эта стадия лихорадки характеризуется установлением равновесия между процессами теплообразования и теплоотдачи?\n",
      "No. Внешняя электронная оболочка свободнорадикальной частицы содержит два электрона?\n",
      "Yes. В послеоперационном периоде икота может быть устранена медикаментозными средствами?\n",
      "No. Ожог II степени - это глубокий ожог?\n",
      "Yes. Появление йодных угрей возможно при постоянном приеме данного препарата?\n",
      "No. Тонкослойная хроматография на бумаге используется для разделения неполярных веществ?\n",
      "No. Антиферменты выделяют исключительно из продуктов растительного происхождения?\n",
      "No. Глюконеогенез это следствие опухоли в печени?\n",
      "Yes. Спектр поглощения уникален для каждого лекарственного вещества, что позволяет использовать его для определения подлиннос\n",
      "Yes. Наиболее частыми побочными реакциями при приеме ацетилцистеина являются желудочно-кишечные симптомы и сыпь?\n",
      "_RLError_\n",
      "No. Мочевина является исходным веществом для белкового метаболизма в организме?\n",
      "No. Наиболее прочными связями рецепторов с ядовитыми веществами являются водородные связи?\n",
      "No. Оксиды хрома могут быть использованы в качестве адсорбентов?\n",
      "_RLError_\n",
      "No. Изменение фазы может иметь множество состояний в процессе фазового перехода?\n",
      "No. Диспансеризация всегда предполагает проведенного оперативного лечения пациента?\n",
      "Yes. Данный вид травм связан с потерей большого количества крови?\n",
      "No. В капиллярных колонках есть твердый носитель?\n",
      "No. Местная анестезия сохраняет способность чувствовать обезболенный участок тела?\n",
      "_RLError_\n",
      "No. После введения препарата Авонекс возможна лихорадка, которая облегчается приемом анальгетика-антипиретика, верно?\n",
      "_RLError_\n",
      "Yes. Нарушение процесса утилизации глюкозы может быть триггером развития острой церебральной недостаточности?\n",
      "No. Наследственные заболевания встречаются в практике врачей лишь нескольких специальностей?\n",
      "Yes. Пониженное до 500 мм рт ст барометрическое давление негативно влияет на организм человека?\n",
      "Yes. При онкологических заболеваниях может развиваться трофическая язва?\n",
      "No. Все машины и механизмы в конечном итоге вредят человеку?\n",
      "No. Комбинация салметерола и флутиказона пропионата в препарате Салтиказон-натив дает новые побочные эффекты, отличные от ха\n",
      "No. У человека может возникнуть состояние полного отсутствия витамина B5?\n",
      "_RLError_\n",
      "No. Приём жиросжигателей способствует набору жировой массы тела?\n",
      "_RLError_\n",
      "Yes. У курящих людей с ожирением повышенный риск возникновения атеросклероза?\n",
      "Yes. Постоянные зубы отличаются от молочных формой?\n",
      "Yes. Анафилактический шок может случиться у человека?\n",
      "No. Оптическую плотность кювет, предназначенных для испытуемого раствора и раствора сравнения, должна отличаться на 0,005 нм\n",
      "Yes. Непредсказуемость нелинейной системы на больших временах является признаком динамического хаоса?\n",
      "No. Оперативное лечение всегда безопасно для человека?\n",
      "No. Онкологические заболевания относят к первичным факторам при радиационном поражении?\n",
      "Yes. Функционирование ионные каналов идет за счет разности концентрации ионов на внутренней стороне мембраны?\n",
      "Yes. Лизосомная система участвует в нейтрализации негативных факторов влияющих на клетку?\n",
      "Yes. Используя частицу с определённым магнитным моментом воможно добиться резонанса?\n",
      "No. У большинства пациентов, принимающих диклофенак, развиваются желудочно-кишечные кровотечения?\n",
      "Yes. Мышечная ткань относится к инсулинозависимому типу тканей?\n",
      "Yes. Препарат относится к группе миотропных спазмолитиков?\n",
      "Yes. Распад гормонов с освобождением йода это один из путей катаболизма гормонов щитовидной железы?\n",
      "Yes. Сухость во рту может являться следствием антихолинергической активности препарата?\n",
      "_RLError_\n",
      "No. При производстве цефазолина используется ацетонитрил?\n",
      "_RLError_\n",
      "No. Изофлуран не применяется в качестве ингаляционного наркоза?\n",
      "No. Эстрогены относятся к белково-пептидным гормонам?\n",
      "Yes. Мытье рук является профилактикой гнойно-воспалительных заболеваний кисти?\n",
      "_RLError_\n",
      "No. Во избежание возникновения тахикардии, затруднения дыхания и снижение артериального давления, необходимо вводить Гемодез\n",
      "Yes. Блокаторы углеводов тормозят переваривание и всасывание углеводов в тонкой кишке?\n",
      "Yes. Важным свойством подвижной фазы является инертность?\n",
      "No. Человек может получить витамин А только из источников растительного происхождения?\n",
      "Yes. Задача противошоковой помощи заключается в снижении степени шока и переводе его в компенсированный?\n",
      "_RLError_\n",
      "Yes. Первичная структура белка влияет на его пространственную структуру?\n",
      "Yes. Относится ли латентное время реакции к скоростным качествам?\n",
      "No. Этанол является более токсичным, чем метанол, потому что является исключением из правила?\n",
      "No. Эпидуральное пространство расположено в канале мочеточника?\n",
      "_RLError_\n",
      "Yes. Соединение мышьяка имеет применение в стоматологии?\n",
      "Yes. Следствием заболевания является снижение кровообращения головного мозга?\n",
      "Yes. Применение эпидуральной анестезии к детям сопряжено с риском осложнений?\n",
      "Yes. Инфекционно-токсический шок дает сильную нагрузку на сердце?\n",
      "_RLError_\n",
      "No. Простетической группой называют простой белок?\n",
      "Yes. При значительных силовых нагрузках существует ли риск увеличения мышечной ткани сердца без достаточного её покрытия кров\n",
      "Yes. Денатурацией белка называют потерю его исходных свойств под действием дестабилизирующих факторов?\n",
      "_RLError_\n",
      "_RLError_\n",
      "_RLError_\n",
      "Yes. Газожидкостная хроматография позволяет разделять близкие по свойствам вещества?\n",
      "Yes. При ранениях в живот возможно развитие перитонита?\n",
      "No. Холиноблокаторы нельзя использовать при отравлении ацетилхолином?\n",
      "No. Рост ногтей относится к процессам патологической регенерации?\n",
      "No. Оновная часть фтора в огранизме человека сосредоточена в волосяном покрове?\n",
      "Yes. Масочный наркоз сопряжен с риском закупорки дыхательных путей?\n",
      "Yes. Операция приводит к сильной нагрузке мочевыделительной системы?\n",
      "No. Развитие ряда опухолевых заболеваний возможно предсказать?\n",
      "Yes. Иммобилизация конечностей подручными средствами не может обеспечить такого обездвиживания как аутоиммобилизация?\n",
      "No. Накопление ионов калия на внешней стороне мембраны приводит к образованию потенциал покоя?\n",
      "No. Активаторами ферментативной реакции могут быть только вещества неорганической природы?\n",
      "Yes. При отравлении хромом рвотные массы могут приобретать желтую или зеленую окраску?\n",
      "No. Простая диффузия - это механизм транспорта?\n",
      "_RLError_\n",
      "Yes. Хирург поликлинического звена маршрутизирует пациентов в зависимости от их тяжести?\n",
      "Yes. Трансферрин называют белком-переносчиком железа в плазме крови?\n",
      "No. Чтобы избежать раздражения кожи лица при использовании небулайзера с маской необходимо протереть лицо маслом?\n",
      "_RLError_\n",
      "No. Ароматическое ядро не является хроматофорной группой?\n",
      "No. Выдавливание фурункула может привести к сепсису?\n",
      "Yes. Организационные мероприятия играют значение для профилактики инфекций передающихся по воздуху?\n",
      "Yes. Наступлению цистита при терапии Эндоксаном способствует гидратация и применение препарата месна?\n",
      "No. Простетическая группа нуклеопротеинов представлена гепарином?\n",
      "No. Ожоговый шок развивается вследствии гнойно-воспалительных поражений кожи?\n",
      "_RLError_\n",
      "_RLError_\n",
      "Yes. Не смотря на существование классификации токсических веществ по способу изолирования из биологического материала, сущест\n",
      "_RLError_\n",
      "_RLError_\n",
      "_RLError_\n",
      "Yes. Фенилаланин является продуктом распада аспартама в организме?\n",
      "_RLError_\n",
      "No. Во время состояния клинической смерти сознание и рефлексы человека в норме?\n",
      "_RLError_\n",
      "Yes. В ране происходит накопление гистиоцитов?\n",
      "No. Протамины не растворимы в воде?\n",
      "No. Каротин приводит к ухудшению зрения?\n",
      "_RLError_\n",
      "_RLError_\n",
      "Yes. Рентгеноструктурный анализ относится к современным методам исследования структуры вещества?\n",
      "_RLError_\n",
      "Yes. Метод предполагает введение сорбента в отделы желудочно-кишечного тракта?\n",
      "Yes. Варикозное расширение является врожденным заболеванием?\n",
      "Yes. При общей анестезии может возникнуть артериальная гипотензия?\n",
      "Yes. Образованием радикалов жирных кислот возможно за счет присоединения электрона к молекуле кислорода?\n",
      "No. При данном состоянии больным противопоказана жидкостная терапия?\n",
      "No. При оказании первичной врачебной помощи наркотические анальгетики применяют только внутривенно поскольку нужно экономить\n",
      "Yes. Трипсин может быть доставлен в организм путём внутримышечной инъекции?\n",
      "Yes. Дикумарол может применяться для профилактики тромбозов?\n",
      "_RLError_\n",
      "Yes. Раствор Рингера является разновидностью изотонических растворов?\n",
      "_RLError_\n",
      "Yes. Мультистационарные системы могут именть несколько стационарных состояний?\n",
      "No. Энзимы относятся к классу неорганических веществ?\n",
      "Yes. Гормон пролактин отвечает за лактацию и развитие молочных желёз?\n",
      "No. Экссудатом называют межклеточную жидкость?\n",
      "Yes. Дефицит витамина А приводит к поражению кожного эпителия?\n",
      "Yes. Наркоз воздействует на центральную нервную систему?\n",
      "Yes. Доказано ли влияние табакокурения на вероятность возникновения рака лёгких?\n",
      "No. Экспрессия HSP-белков запускается исключительно вследствии тепловой травмы?\n",
      "No. Наличие интоксикации является признаком доброкачественной опухоли?\n",
      "No. Состояние характеризуется повышенным объёмом мочи?\n",
      "Yes. Выделяют несколько видов гемоглобина?\n",
      "Yes. В результате воздействия протеолитических ферментов происходит расщепление пептидных связей?\n",
      "_RLError_\n",
      "Yes. В организме объём воды во внутриклеточном водном секторе больше чем во внеклеточном?\n",
      "No. Одинаково ли значение первичных и вторичных пирогенов?\n",
      "No. Интоксикация и нарушение водно-электролитного баланса не могут являться поздними осложнениями раневого процесса?\n",
      "No. В мышечной части диафрагмы выделяют крестцовый отдел?\n",
      "Yes. Обезболивание приемом алкоголя внутрь обосновано при отсутствии эффективных обезболивающих средств и длительному ожидани\n",
      "Yes. Строение суставов яляется объектом исследования биомеханики?\n",
      "_RLError_\n",
      "_RLError_\n",
      "Yes. Могут ли эритроциты деформироваться в кровеносном русле?\n",
      "No. При терапии препаратом Резолор редкими нежелательными реакциями были головная боль и нежелательные реакции со стороны ЖК\n",
      "_RLError_\n",
      "Yes. Пациенты, находящихся на длительном лечении комбинацией амоксициллин + клавулановая кислота, находятся в группе риска по\n",
      "No. В приведённом описании выделено 16 классов белков?\n",
      "No. Побочные продукты являются индикатором функционирования белков?\n",
      "No. Важной составляющей желудочного сока человека является серная кислота?\n",
      "Yes. Разность значения градиентов электрохимического потенциала используется для транспорта веществ через мембраны?\n",
      "No. Вазопрессин и окситоцин накапливается в задней доле гипофиза?\n",
      "No. Прогностический индекс 61 соответствует неблагоприятному прогнозу с высокой летальностью?\n",
      "Yes. Основоположником учения о конституции человека считается Гиппократ?\n",
      "Yes. Брадикардия приводит к гибели коры головного мозга?\n",
      "Yes. Осколки корпуса боеприпаса относят к вторичным ранящим снарядам?\n",
      "Yes. При начальном введении бусерелин стимулирует высвобождение гонадотропинов?\n",
      "Yes. На фоне введения полиглюкина отмечается повышение уровня сахара в крови?\n",
      "Yes. Ксилометазолин может стать причиной медикаментозного ринита?\n",
      "No. Убихинон отсутствует в клетках микроорганизмов?\n",
      "Yes. Местная анестезия является вариантом наркоза?\n",
      "No. Внутригоспитальные инфекции и внутрибольничные инфекции это одно и тоже?\n",
      "No. Опухолевые заболевания опережают болезни сердечно-сосудистой системы по числу причин смертей?\n",
      "_RLError_\n",
      "_RLError_\n",
      "Yes. Свет участвует во взаимодействие организма с окружающей средой?\n",
      "Yes. Недостаток витаминов в организме приводит к нарушениям в его функционировании?\n",
      "No. После рождения у человека изменяется группа крови?\n",
      "No. При наличии бактериальной инфекции в крови всегда развивается сепсис?\n",
      "Yes. При беременности происходит изменение молочных желёз?\n",
      "No. Инозитол это орган грудной клетки человека и животных?\n",
      "No. Материнские антитела в крови ребёнка остаются на протяжении всей его жизни?\n",
      "_RLError_\n",
      "Yes. Казеиноген выделяют из слизистой оболочки желудка телёнка?\n",
      "Yes. Сепсис может быть одним из осложнений при сибирской язве?\n",
      "_RLError_\n",
      "No. ДТЗ относится к инфекционным заболеваниям?\n",
      "Yes. Перед операцией пациенту могут дать препараты с успокаивающим действием для снятия тревоги?\n",
      "_RLError_\n",
      "Yes. Гонадотропины оказывают различное действие на особи самцов и самок?\n",
      "Yes. В поликлиниках оперируют людей?\n",
      "Yes. Способность к набуханию является одним из свойств белков?\n",
      "No. Нет такого понятия \"природные моносахариды\", моносахариды бывают только синтетические?\n",
      "No. Полисахариды различаются только по структурным особенностям?\n",
      "_RLError_\n",
      "Yes. Анаболические стероиды стимулируют синтез белка в организме?\n",
      "Yes. Возможно ли попадание частичек пигмента радужной оболочки во влагу передней камеры глаза под воздействием фенилэфрина?\n",
      "No. Осложнения от инфекций может нивелировать эффект от успешно проведенной операции?\n",
      "_RLError_\n",
      "_RLError_\n",
      "Yes. Можно ли отнести пациентов с варикозным расширением вен к группе повышенного риска в отношении предстоящей операции?\n",
      "No. При паротите возможно развитие парезов частей лицевого нерва?\n",
      "_RLError_\n",
      "Yes. Вероятный диагноз - идиопатическая подагра?\n",
      "_RLError_\n",
      "Yes. Препарат оказывает воздействие на гипофиз?\n",
      "Yes. Является ли неконтролируемое деление клетки признаком злокачественности?\n",
      "_RLError_\n",
      "Yes. Биологическим диссипативным структурам характерная временная упорядоченность?\n",
      "Yes. Асфиксия может развиваться на фоне инфекционных заболеваний?\n",
      "_RLError_\n",
      "Yes. При тромбоэмболии конечности нарушается ли её чувствительность?\n",
      "_RLError_\n",
      "No. Задержка мочеиспускания наблюдается у пострадавших только при повреждении уретры?\n",
      "Yes. Рентгеноструктурный анализ заключается в определении расстояний между атомами на основании дифракционной картины?\n",
      "No. Второй закон термодинамики позволяет тепловой энергии полностью превратиться в энергию работы двигателя?\n",
      "No. Лучщей стратегией лечения заболевания является медикаментозная терапия?\n",
      "No. Кровь - это ньеютоновская жидкость?\n",
      "No. Описанный препарат называется Кальций?\n",
      "No. Cерповидно-клеточная анемия возникает вследствии мутации гемоглобина второго класса?\n",
      "_RLError_\n",
      "No. При применении препарата Альбумин аллергические реакции исключены?\n",
      "Yes. Гиповолемия во время общей анестезии может стать причиной тахикардии?\n",
      "_RLError_\n",
      "_RLError_\n",
      "Yes. Один из лучших шовных материалов изготовлен из кетчупа?\n",
      "Yes. Функциональная активность живых систем обусловлена определенными способностями белков?\n",
      "Yes. Принцип подготовки к операции взрослого и ребенка отличается?\n",
      "_RLError_\n",
      "Yes. Медь участвует в процессе образования гемоглобина?\n",
      "_RLError_\n",
      "No. Спирт этиловый не может выделяться организмом через кожу?\n",
      "No. Сначала вводят деполяризующий релаксант, через три минуты ардуан (панкурониум или тракриум), верно?\n",
      "Yes. Транзиторная слепота - это кратковременная утрата зрения?\n",
      "_RLError_\n",
      "_RLError_\n",
      "No. Эта группа белков стимулирует выработку серотонина?\n",
      "No. Лигандами называют органы человека расположенный в области носоглотки и ротовой полости?\n",
      "No. ПТСР относится к болезням системы кровообращения?\n",
      "Yes. Одни и те же токсические вещества могут локализоваться в разных органах в зависимости от острого или хронического отравл\n",
      "No. Мог бы человек задохнуться без крови?\n",
      "Yes. Креатин участвует в метаболизме мышечной ткани?\n",
      "Yes. Огнестрельная травма приводит к негативным изменениям в функционировании центральной нервной системы?\n",
      "No. Температура колонки не влияет на время удерживания?\n",
      "Yes. Вещества из этой группы повышают силовую выносливость атлета?\n",
      "_RLError_\n",
      "Yes. Кожа человека выполняет барьерную функцию защиты от бактерий?\n",
      "_RLError_\n",
      "Yes. Голодание матери оказывает негативно сказывается на развитии плода?\n",
      "Yes. Альтернативное название этого заболевания образовано из фамилий врачей внёсших серьёзный вклад в его изучение?\n",
      "No. При использовании АЕ-метода дифференциальной спектрофотометрии в качестве раствора сравнения используется раствор метан\n",
      "_RLError_\n",
      "Yes. Одышка может быть симптомом отёка лёгких?\n",
      "Yes. Психогенная травма, полученная в условиях ЧС, может притуплять у пострадавшего болевой синдром?\n",
      "Yes. Окрашенность раствора является обязательным условием для анализа веществ фотоколориметрическими методами?\n",
      "_RLError_\n",
      "Yes. Цинга поражает кровеносную систему?\n",
      "No. Состояние термодинамического равновесия является синонимом стационарного состояния?\n",
      "_RLError_\n",
      "No. В очаге воспаления распад углеводов происходит только в аэробных условиях?\n",
      "_RLError_\n",
      "_RLError_\n",
      "_RLError_\n",
      "No. Гликопротеины это простые белки?\n",
      "_RLError_\n",
      "_RLError_\n",
      "_RLError_\n",
      "No. Приведён принцип работы каталитического конвертера дизельного двигателя в автобусе ЛиАЗ?\n",
      "_RLError_\n",
      "Yes. Боль в суставах может быть одним из симптомов сывороточной болезни?\n",
      "No. Клинические исследования с целью изучения связи между концентрацией лауданозина в плазме и возникновением судорог отсутс\n",
      "No. Измерение расстояния, прошедшего фронтом растворителя, от края пластинки является ошибкой?\n",
      "_RLError_\n",
      "_RLError_\n",
      "Yes. Препарат Халавен способен подавлять функции костного мозга?\n",
      "_RLError_\n",
      "Yes. При терапии розувастатином может происходить изменение содержания белка в моче?\n",
      "No. Воздействие, направленное на стимуляцию защитных сил организма, менее важно, чем борьба с инфекционным агентом?\n",
      "_RLError_\n",
      "_RLError_\n",
      "No. Гемосорбция относится к заболеваниям крови?\n",
      "Yes. Главным путём обезвреживания аммиака в тканях животных и человека является реакция амидирования?\n",
      "No. Опсин участвует в процессах зрительной рецепции бактерий?\n",
      "Yes. Кишечная палочка может быть причиной внутригоспитальной инфекции?\n",
      "Yes. Целесообразно ли выполнение данного иссдования при диагностике тромбоэмболии легочной артерии?\n",
      "_RLError_\n",
      "_RLError_\n",
      "Yes. Актин содержится в миофибриллах?\n",
      "No. Промежуточные филаменты цитоскелета клетки одинаковы во всех тканях организма?\n",
      "Yes. Белки миоглобин и гемоглобин принадлежат группе гемопротеинов?\n",
      "Yes. У больных в этом сотоянии пониженное артериальное давление?\n",
      "Yes. Ultraviolet light is dangerous for biological molecules because it can cause photodestructive processes, which can damage the molecules and affect their properties. Ультрофиолет опасен для биологических молекул?\n",
      "_RLError_\n",
      "_RLError_\n",
      "Yes. Важна ли равномерность скорости поднятия фронта?\n",
      "Yes. При анестезии гипергидратация может быть причиной рвоты?\n",
      "_RLError_\n",
      "Yes. Вязкость крови влияет на гемодинамические показатели кровотока?\n",
      "No. Верно ли что в организме морских свинок гистамин быстро разлагается и выводится?\n",
      "_RLError_\n",
      "Yes. При остром панкреатите происходит процесс саморазрушения тканей поджелудочной?\n",
      "No. При стрессе экспрессия этого гормона снижается?\n",
      "No. Растворимые в воде лекарственные вещества и яды быстрее выводятся из организма, чем растворимые в липидах?\n",
      "No. Внебрачные связи это разновидность элементарных взаимодействий в белках?\n",
      "No. Когда все молекулы фермента связаны в фермент-субстратный комплекс, то концентрация субстрата равна Константе Михаэлиса?\n",
      "Yes. Защитной называется первая повязка,наложенная на рану в очаге поражения для отграничения раны от окружающей среды?\n",
      "_RLError_\n",
      "Yes. Существует ряд заболеваний связанных с нарушением процесса фолдинга белка?\n",
      "_RLError_\n",
      "No. Глаукома в анамнезе является абсолютным противопоказанием для применения данного препарата?\n",
      "No. Травматический шок является физиологическим процессом обусловленным генетически определёнными изменениями в тканях?\n",
      "No. Посттромботический синдром развивается преимущественно при повреждении больших артерий?\n",
      "Yes. В состоянии агонии у человека нарушается работа коры больших полушарий мозга?\n",
      "_RLError_\n",
      "No. Хроматографические методы не могут применяться для подтверждения эффективности растительных препаратов?\n",
      "No. Никотинамид и никотиновая кислота это одно и то же вещество в составе витамина PP?\n",
      "_RLError_\n",
      "No. Дистальный отломок используется при репозиции перелома?\n",
      "Yes. Начиная с этапа первичной врачебной помощи врачом или медицинской сестрой пострадавшему должен быть выставлен диагноз, н\n",
      "Yes. Бактерия Коха вызывает туберкулез?\n",
      "_RLError_\n",
      "_RLError_\n",
      "_RLError_\n",
      "Yes. Перитонит возможно вылечить?\n",
      "Yes. За выведение лишней жидкости из организма отвечают почки?\n",
      "Yes. Прямое ионизируещее излучение приводит к разрушению белковых молекул?\n",
      "No. При геморрагическом шоке происходит быстрое нарастание объема циркулирующей крови?\n",
      "_RLError_\n",
      "Yes. Метод относится к методам очищения крови?\n",
      "_RLError_\n",
      "_RLError_\n",
      "No. Является ли маслиновая кислота веществом из класса алкалоидов?\n",
      "No. Фазовые переходы лежат в основе фоторецепции?\n",
      "_RLError_\n",
      "_RLError_\n",
      "No. Рожистое воспаление вызывается вирусной инфекцией?\n",
      "_RLError_\n",
      "No. Альтеративное воспаление чаще всего характерно для хронических заболеваний?\n",
      "Yes. Проведено более 2000 эпидемиологических исследований на предмет изучения риска развития рака яичников у женщин, использу\n",
      "No. Свищ можно отнести к злокачественным новообразованиям?\n",
      "_RLError_\n",
      "_RLError_\n",
      "_RLError_\n",
      "No. При пенетрантности 50% у всех носители патологического гена обнаруживаются фенотипические проявления?\n",
      "_RLError_\n",
      "_RLError_\n",
      "Yes. Транспортная иммобилизация это мероприятие выполняемое в стационаре?\n",
      "No. Псевдомеланоз кишечника - это угрожающее жизни состояние?\n",
      "_RLError_\n",
      "Yes. Адреналин может быть доставлен в организм в виде инъекции?\n",
      "Yes. Промедол в условиях чрезвычайной ситуации применяют в небольших дозах во избежание угнетения дыхания у пострадавшего?\n",
      "Yes. При гемохроматозе происходит накопление железа в тканях и органах?\n",
      "No. Фрагмент содержит упоминание аденозинтрифосфорной кислоты?\n",
      "_RLError_\n",
      "_RLError_\n",
      "_RLError_\n",
      "_RLError_\n",
      "_RLError_\n",
      "No. Прекращается ли процесс репортирования о нежелательных реакциях после выхода препарата на рынок?\n",
      "_RLError_\n",
      "_RLError_\n",
      "_RLError_\n",
      "_RLError_\n",
      "No. Пневмоторакс происходит к нарушению процесса газообмена при дыхании?\n",
      "Yes. Реинфузией называют процесс отмывания эритроцитов?\n",
      "_RLError_\n",
      "_RLError_\n",
      "_RLError_\n",
      "Yes. Нейроны кортикальной миниколонки имеют одинаковую специализацию?\n",
      "No. Упомянутые гидрофильные зёрна и сефадексты это одно и то же?\n",
      "_RLError_\n",
      "No. При приёме стероидных препаратов тренировки нужно проводить каждый день?\n",
      "_RLError_\n",
      "Yes. Верно ли утверждение, что фронт волны - это область, точки которой находятся между областями колебаний и равновесий?\n",
      "No. Для профилактики инфекционных раневых осложнений нужно как можно раньше дать пострадавшему принять таблетку антибиотик ш\n",
      "Yes. При апоптозе происходят изменения мембраны клетки?\n",
      "Yes. Сахарный диабет связан с проблемами метаболизма углеводов в организме?\n",
      "_RLError_\n",
      "Yes. Снаряд обладает кинетической энергией, что обуславливает тяжесть повреждений при огнестрельных ранах, верно?\n",
      "_RLError_\n",
      "_RLError_\n",
      "No. При длительном приеме больших доз Ксидифона необходим прием высоких доз магнийсодержащих препаратов и витамина D?\n",
      "_RLError_\n",
      "No. В основе мессбауэровской спектроскопии лежит способность образца отражать γ-излучение?\n",
      "Yes. Никотиновая кислота способствует освобождению связанного в организме гистамина?\n",
      "No. Heli-cobacter pylori это название слизитой оболочки желудка?\n",
      "No. Действие ацетилхолина характеризуется усилением секреции потовых желез?\n",
      "_RLError_\n",
      "Yes. Унитиол применяется для выведения из организма ионы металлов?\n",
      "_RLError_\n",
      "Yes. Препарат воздействует на высшие психические функции человека?\n",
      "_RLError_\n",
      "_RLError_\n",
      "No. За проникновение антигена в организм отвечает информационная часть антигена?\n",
      "Yes. Сдавление мозга более опасное состояние, чем сотрясение мозга?\n",
      "_RLError_\n",
      "_RLError_\n",
      "No. При сифилисе развивается первичный лимфатический отёк?\n",
      "_RLError_\n",
      "_RLError_\n",
      "No. Лишённый воды человек умирает в течение одной недели?\n",
      "_RLError_\n",
      "_RLError_\n",
      "No. Хорионический гонадотропин выделяется в гипофизе?\n",
      "_RLError_\n",
      "_RLError_\n",
      "No. Фолиевоя кислота бесполезна для человека?\n",
      "_RLError_\n",
      "Yes. Обширные воспалительные процессы зачастую приводят к отрицательному азотистому балансу?\n",
      "No. Серебро откладывается в тканях организма и вызывает изменение окраски кожи даже при непродолжительном приеме?\n",
      "Yes. Данный гормон производит регуляцию энергетического обмена?\n",
      "No. Атипичная пневмония хорошо поддаётся лечению?\n",
      "Yes. С калом из организма могут выделяться вещества, которые не способны всасываться в кровь из кишечника или выделились слиз\n",
      "_RLError_\n",
      "_RLError_\n",
      "_RLError_\n",
      "Yes. По строению щитовидная железа состоит из фолликулов?\n",
      "_RLError_\n",
      "No. Правило ладони нельзя использовать при определении очень больших участков ожога?\n",
      "No. Одинаковые по структуре белки всегда выполняют одинаковую функцию?\n",
      "_RLError_\n",
      "Yes. Необходимо ли хирургу мыть руки перед операцией?\n",
      "_RLError_\n",
      "Yes. Кожа и слизистая оболочка являются основным механическим и биологическим барьером организма, отделяющим его от внешней с\n",
      "_RLError_\n",
      "_RLError_\n",
      "_RLError_\n",
      "Yes. Гормоны щитовидной железы влияют на деятельность центральной нервной системы?\n",
      "CPU times: user 7.79 s, sys: 662 ms, total: 8.45 s\n",
      "Wall time: 56min 4s\n"
     ]
    }
   ],
   "source": [
    "%%time \n",
    "df_ = df_priv.copy()\n",
    "# idx_range_ = trange(20)\n",
    "idx_range_ = trange(len(df_))\n",
    "template_ = template_dn_3\n",
    "idx_ = 'pairID'\n",
    "\n",
    "log_dn_priv_1 = []\n",
    "log_ = log_dn_priv_1\n",
    "\n",
    "for i in idx_range_:\n",
    "    ans = None\n",
    "    row = df_.iloc[i]\n",
    "    rqst = template_.format(*row[['context','question']])\n",
    "    while ans is None:\n",
    "        try:\n",
    "            ans = oa(rqst).strip()\n",
    "        except(openai.error.RateLimitError,):\n",
    "            print('_RLError_')\n",
    "            time.sleep(1)\n",
    "    log_.append((i, row[idx_], row['question'], rqst, ans))\n",
    "    print(ans, row['question'][:120])"
   ]
  },
  {
   "cell_type": "code",
   "execution_count": 426,
   "metadata": {
    "tags": []
   },
   "outputs": [
    {
     "data": {
      "text/plain": [
       "512"
      ]
     },
     "execution_count": 426,
     "metadata": {},
     "output_type": "execute_result"
    }
   ],
   "source": [
    "len(log_dn_priv_1)"
   ]
  },
  {
   "cell_type": "code",
   "execution_count": 462,
   "metadata": {
    "tags": []
   },
   "outputs": [
    {
     "data": {
      "text/plain": [
       "(0,\n",
       " '8c4f70416beeda1f12e00f5104d9d908',\n",
       " 'Возможности ИК-спектроскопии позволяют анализировать вещества в кристаллическом состоянии?',\n",
       " 'Imagine that you are a medical doctor and know everything about medicine and need to pass exam. \\nThe context is: Природа полос поглощения в ик-области связана с колебательными переходами и изменением колебательных состояний ядер, входящих в молекулу поглощающего вещества. Поэтому поглощением в ИК-области обладают молекулы, дипольные моменты которых изменяются при возбуждении колебательных движений ядер. Область применения ИК-спектроскопии аналогична, но более широка, чем УФ-метода. ИК-спектр однозначно характеризует всю структуру молекулы, включая незначительные ее изменения. Важные преимущества данного метода — высокая специфичность, объективность полученных результатов, возможность анализа веществ в кристаллическом состоянии.\\nThe question is: Возможности ИК-спектроскопии позволяют анализировать вещества в кристаллическом состоянии?\\nYou should answer only yes or no.\\nThe answer is ',\n",
       " 'Yes.')"
      ]
     },
     "execution_count": 462,
     "metadata": {},
     "output_type": "execute_result"
    }
   ],
   "source": [
    "log_dn_priv_1[0]"
   ]
  },
  {
   "cell_type": "code",
   "execution_count": 434,
   "metadata": {
    "tags": []
   },
   "outputs": [],
   "source": [
    "clean_dn = lambda x: x.split()[0].strip('.').lower().replace('yes', 'да').replace('no', 'нет')"
   ]
  },
  {
   "cell_type": "code",
   "execution_count": 463,
   "metadata": {
    "tags": []
   },
   "outputs": [
    {
     "name": "stdout",
     "output_type": "stream",
     "text": [
      "Imagine that you are a medical doctor and know everything about medicine and need to pass exam. \n",
      "The context is: Природа полос поглощения в ик-области связана с колебательными переходами и изменением колебательных состояний ядер, входящих в молекулу поглощающего вещества. Поэтому поглощением в ИК-области обладают молекулы, дипольные моменты которых изменяются при возбуждении колебательных движений ядер. Область применения ИК-спектроскопии аналогична, но более широка, чем УФ-метода. ИК-спектр однозначно характеризует всю структуру молекулы, включая незначительные ее изменения. Важные преимущества данного метода — высокая специфичность, объективность полученных результатов, возможность анализа веществ в кристаллическом состоянии.\n",
      "The question is: Возможности ИК-спектроскопии позволяют анализировать вещества в кристаллическом состоянии?\n",
      "You should answer only yes or no.\n",
      "The answer is \n"
     ]
    }
   ],
   "source": [
    "print('Imagine that you are a medical doctor and know everything about medicine and need to pass exam. \\nThe context is: Природа полос поглощения в ик-области связана с колебательными переходами и изменением колебательных состояний ядер, входящих в молекулу поглощающего вещества. Поэтому поглощением в ИК-области обладают молекулы, дипольные моменты которых изменяются при возбуждении колебательных движений ядер. Область применения ИК-спектроскопии аналогична, но более широка, чем УФ-метода. ИК-спектр однозначно характеризует всю структуру молекулы, включая незначительные ее изменения. Важные преимущества данного метода — высокая специфичность, объективность полученных результатов, возможность анализа веществ в кристаллическом состоянии.\\nThe question is: Возможности ИК-спектроскопии позволяют анализировать вещества в кристаллическом состоянии?\\nYou should answer only yes or no.\\nThe answer is ')"
   ]
  },
  {
   "cell_type": "code",
   "execution_count": 438,
   "metadata": {
    "tags": []
   },
   "outputs": [],
   "source": [
    "#saving submit\n",
    "with open(\"submits/rmdn_gpt3_1402.jsonl\", 'w') as f:\n",
    "    for a in log_dn_priv_1:\n",
    "        ans = clean_dn(a[4])\n",
    "        line = f'{{\"pairID\": \"{a[1]}\", \"answer\": \"{ans}\"}}'\n",
    "        f.write(line + '\\n')\n",
    "        # print (line)"
   ]
  },
  {
   "cell_type": "code",
   "execution_count": 439,
   "metadata": {
    "tags": []
   },
   "outputs": [],
   "source": [
    "# Saving whole log\n",
    "with open(\"logs/rmdanet_priv_gpt3_1402.json\", \"w\") as f:\n",
    "    json.dump(log_dn_priv_1, f)"
   ]
  },
  {
   "cell_type": "markdown",
   "metadata": {
    "tags": []
   },
   "source": [
    "# RuMedNLI"
   ]
  },
  {
   "cell_type": "code",
   "execution_count": 6,
   "metadata": {
    "tags": []
   },
   "outputs": [],
   "source": [
    "oa = OpenAI(engine=\"text-davinci-003\")"
   ]
  },
  {
   "cell_type": "code",
   "execution_count": 7,
   "metadata": {
    "tags": []
   },
   "outputs": [
    {
     "name": "stdout",
     "output_type": "stream",
     "text": [
      "(1395, 4)\n"
     ]
    },
    {
     "data": {
      "text/html": [
       "<div>\n",
       "<style scoped>\n",
       "    .dataframe tbody tr th:only-of-type {\n",
       "        vertical-align: middle;\n",
       "    }\n",
       "\n",
       "    .dataframe tbody tr th {\n",
       "        vertical-align: top;\n",
       "    }\n",
       "\n",
       "    .dataframe thead th {\n",
       "        text-align: right;\n",
       "    }\n",
       "</style>\n",
       "<table border=\"1\" class=\"dataframe\">\n",
       "  <thead>\n",
       "    <tr style=\"text-align: right;\">\n",
       "      <th></th>\n",
       "      <th>ru_sentence1</th>\n",
       "      <th>ru_sentence2</th>\n",
       "      <th>gold_label</th>\n",
       "      <th>pairID</th>\n",
       "    </tr>\n",
       "  </thead>\n",
       "  <tbody>\n",
       "    <tr>\n",
       "      <th>0</th>\n",
       "      <td>В анамнезе нет тромбозов или ТГВ, никогда не б...</td>\n",
       "      <td>Пациент страдает стенокардией</td>\n",
       "      <td>entailment</td>\n",
       "      <td>1892c19a-66c7-11e7-be8f-f45c89b91419</td>\n",
       "    </tr>\n",
       "    <tr>\n",
       "      <th>1</th>\n",
       "      <td>В анамнезе нет тромбозов или ТГВ, никогда не б...</td>\n",
       "      <td>Перенес несколько эпизодов ТЭЛА</td>\n",
       "      <td>contradiction</td>\n",
       "      <td>1892c578-66c7-11e7-97cf-f45c89b91419</td>\n",
       "    </tr>\n",
       "  </tbody>\n",
       "</table>\n",
       "</div>"
      ],
      "text/plain": [
       "                                        ru_sentence1  \\\n",
       "0  В анамнезе нет тромбозов или ТГВ, никогда не б...   \n",
       "1  В анамнезе нет тромбозов или ТГВ, никогда не б...   \n",
       "\n",
       "                      ru_sentence2     gold_label  \\\n",
       "0    Пациент страдает стенокардией     entailment   \n",
       "1  Перенес несколько эпизодов ТЭЛА  contradiction   \n",
       "\n",
       "                                 pairID  \n",
       "0  1892c19a-66c7-11e7-be8f-f45c89b91419  \n",
       "1  1892c578-66c7-11e7-97cf-f45c89b91419  "
      ]
     },
     "execution_count": 7,
     "metadata": {},
     "output_type": "execute_result"
    }
   ],
   "source": [
    "rumedbench_path = '../rumedbench'\n",
    "df_dev_nli = pd.read_json(os.path.join(rumedbench_path, 'data/RuMedNLI/dev_v1.jsonl'), lines=True)\n",
    "print(df_dev_nli.shape)\n",
    "df_dev_nli.head(2)"
   ]
  },
  {
   "cell_type": "code",
   "execution_count": 8,
   "metadata": {
    "tags": []
   },
   "outputs": [
    {
     "data": {
      "text/plain": [
       "array(['entailment', 'contradiction', 'neutral'], dtype=object)"
      ]
     },
     "execution_count": 8,
     "metadata": {},
     "output_type": "execute_result"
    }
   ],
   "source": [
    "df_dev_nli.gold_label.unique()"
   ]
  },
  {
   "cell_type": "code",
   "execution_count": 9,
   "metadata": {
    "tags": []
   },
   "outputs": [
    {
     "data": {
      "text/plain": [
       "('Во время госпитализации у пациента постепенно усиливалась одышка, что потребовало выполнения процедуры неинвазивной вентиляции лёгких с положительным давлением, а затем маска без ребризера.',\n",
       " 'У пациента отёк легких.')"
      ]
     },
     "execution_count": 9,
     "metadata": {},
     "output_type": "execute_result"
    }
   ],
   "source": [
    "df_dev_nli.loc[11].ru_sentence1, df_dev_nli.loc[11].ru_sentence2"
   ]
  },
  {
   "cell_type": "markdown",
   "metadata": {},
   "source": [
    "## templates"
   ]
  },
  {
   "cell_type": "markdown",
   "metadata": {
    "tags": []
   },
   "source": [
    "#### t1"
   ]
  },
  {
   "cell_type": "code",
   "execution_count": 10,
   "metadata": {
    "tags": []
   },
   "outputs": [
    {
     "name": "stdout",
     "output_type": "stream",
     "text": [
      "You are a medical doctor and need to pass exam. You are given two statements:\n",
      "The first statement is absolutely correct and should be the basis for your answer: \"Сахарный диабет II типа.\"\n",
      "The second statement is \"Инсулин не требуется.\". \n",
      "You should answer if the second statement is 'entailment', 'contradiction', or 'neutral'.\n",
      "The answer is \n",
      "neutral\n"
     ]
    }
   ],
   "source": [
    "row = df_dev_nli.loc[44]\n",
    "template_nli_1 = \"\"\"You are a medical doctor and need to pass exam. You are given two statements:\n",
    "The first statement is absolutely correct and should be the basis for your answer: \"{}\"\n",
    "The second statement is \"{}\". \n",
    "You should answer if the second statement is 'entailment', 'contradiction', or 'neutral'.\n",
    "The answer is \"\"\"\n",
    "\n",
    "rqst = template_nli_1.format(*row[['ru_sentence1', 'ru_sentence2']])\n",
    "print(rqst)\n",
    "print(row['gold_label'])"
   ]
  },
  {
   "cell_type": "code",
   "execution_count": 12,
   "metadata": {
    "tags": []
   },
   "outputs": [
    {
     "name": "stdout",
     "output_type": "stream",
     "text": [
      "ru_sentence1    В анамнезе нет тромбозов или ТГВ, никогда не б...\n",
      "ru_sentence2                      Перенес несколько эпизодов ТЭЛА\n",
      "gold_label                                          contradiction\n",
      "pairID                       1892c578-66c7-11e7-97cf-f45c89b91419\n",
      "Name: 1, dtype: object\n"
     ]
    },
    {
     "data": {
      "text/plain": [
       "(\" 'neutral'.\", 'contradiction')"
      ]
     },
     "execution_count": 12,
     "metadata": {},
     "output_type": "execute_result"
    }
   ],
   "source": [
    "row = df_dev_nli.loc[1]\n",
    "rqst = template_nli_1.format(*row[['ru_sentence1', 'ru_sentence2']])\n",
    "print(row)\n",
    "ans = oa(rqst)\n",
    "ans, row.gold_label"
   ]
  },
  {
   "cell_type": "markdown",
   "metadata": {
    "tags": []
   },
   "source": [
    "#### t2"
   ]
  },
  {
   "cell_type": "code",
   "execution_count": 13,
   "metadata": {
    "tags": []
   },
   "outputs": [
    {
     "name": "stdout",
     "output_type": "stream",
     "text": [
      "\n",
      "Statement 1: \"КТ головы показала небольшое правое височное внутрипаренхиматозное кровоизлияние 2х2 см, на повторной КТ головы осталось без изменений.\"\n",
      "Statement 2: \"у пациента было гипертоническое кровотечение\"\n",
      "Answer: \"neutral\"\n",
      "\n",
      "neutral\n"
     ]
    }
   ],
   "source": [
    "row = df_dev_nli.loc[32]\n",
    "template_nli_2 = \"\"\"\n",
    "Statement 1: \"{}\"\n",
    "Statement 2: \"{}\"\n",
    "Answer: \"{}\"\n",
    "\"\"\"\n",
    "\n",
    "rqst = template_nli_2.format(*row[['ru_sentence1', 'ru_sentence2', 'gold_label']])\n",
    "print(rqst)\n",
    "print(row['gold_label'])"
   ]
  },
  {
   "cell_type": "code",
   "execution_count": 11,
   "metadata": {
    "tags": []
   },
   "outputs": [
    {
     "name": "stdout",
     "output_type": "stream",
     "text": [
      "You are a medical doctor and need to pass exam. You are given two statements and need to answer how the second statement relates to the first statement. Possible answers are 'entailment', 'contradiction', or 'neutral'\n",
      "Statement 1: \"В анамнезе нет тромбозов или ТГВ, никогда не было болей в груди до случаев недельной давности.\"\n",
      "Statement 2: \"Пациент страдает стенокардией\"\n",
      "Answer: \"entailment\"\n",
      "Statement 1: \"В течение последней недели стал более сонливым и трудно возбудимым.\"\n",
      "Statement 2: \"В последнюю неделю он был менее внимателен\"\n",
      "Answer: \"entailment\"\n",
      "Statement 1: \"КТ головы показала небольшое правое височное внутрипаренхиматозное кровоизлияние 2х2 см, на повторной КТ головы осталось без изменений.\"\n",
      "Statement 2: \"у пациента было гипертоническое кровотечение\"\n",
      "Answer: \"neutral\"\n",
      "Statement 1: \"Рентгенограмма чистая, не похоже наличие инфекции.\"\n",
      "Statement 2: \"Рентген грудной клетки выявил инфильтраты\"\n",
      "Answer: \"contradiction\"\n",
      "Statement 1: \"КТ головы показала небольшое правое височное внутрипаренхиматозное кровоизлияние 2х2 см, на повторной КТ головы осталось без изменений.\"\n",
      "Statement 2: \"у пациента была нормальная КТ головы\"\n",
      "Answer: \"contradiction\"\n",
      "Statement 1: \"Сахарный диабет II типа.\"\n",
      "Statement 2: \"Инсулин не требуется.\"\n",
      "Answer:\n"
     ]
    }
   ],
   "source": [
    "row = df_dev_nli.loc[44]\n",
    "template_nli_2 = \"\"\"You are a medical doctor and need to pass exam. You are given two statements and need to answer how the second statement relates to the first statement. Possible answers are 'entailment', 'contradiction', or 'neutral'\n",
    "Statement 1: \"В анамнезе нет тромбозов или ТГВ, никогда не было болей в груди до случаев недельной давности.\"\n",
    "Statement 2: \"Пациент страдает стенокардией\"\n",
    "Answer: \"entailment\"\n",
    "Statement 1: \"В течение последней недели стал более сонливым и трудно возбудимым.\"\n",
    "Statement 2: \"В последнюю неделю он был менее внимателен\"\n",
    "Answer: \"entailment\"\n",
    "Statement 1: \"КТ головы показала небольшое правое височное внутрипаренхиматозное кровоизлияние 2х2 см, на повторной КТ головы осталось без изменений.\"\n",
    "Statement 2: \"у пациента было гипертоническое кровотечение\"\n",
    "Answer: \"neutral\"\n",
    "Statement 1: \"Рентгенограмма чистая, не похоже наличие инфекции.\"\n",
    "Statement 2: \"Рентген грудной клетки выявил инфильтраты\"\n",
    "Answer: \"contradiction\"\n",
    "Statement 1: \"КТ головы показала небольшое правое височное внутрипаренхиматозное кровоизлияние 2х2 см, на повторной КТ головы осталось без изменений.\"\n",
    "Statement 2: \"у пациента была нормальная КТ головы\"\n",
    "Answer: \"contradiction\"\n",
    "Statement 1: \"{}\"\n",
    "Statement 2: \"{}\"\n",
    "Answer:\"\"\"\n",
    "\n",
    "rqst = template_nli_2.format(*row[['ru_sentence1', 'ru_sentence2']])\n",
    "print(rqst)"
   ]
  },
  {
   "cell_type": "code",
   "execution_count": 349,
   "metadata": {
    "tags": []
   },
   "outputs": [
    {
     "name": "stdout",
     "output_type": "stream",
     "text": [
      "ru_sentence1    В общей сложности получила 4 л физраствора в р...\n",
      "ru_sentence2                             Пациент был реанимирован\n",
      "gold_label                                             entailment\n",
      "pairID                       1893d24a-66c7-11e7-9a61-f45c89b91419\n",
      "Name: 111, dtype: object\n"
     ]
    },
    {
     "data": {
      "text/plain": [
       "(' \"entailment\"', 'entailment')"
      ]
     },
     "execution_count": 349,
     "metadata": {},
     "output_type": "execute_result"
    }
   ],
   "source": [
    "row = df_dev_nli.loc[111]\n",
    "rqst = template_nli_2.format(*row[['ru_sentence1', 'ru_sentence2']])\n",
    "print(row)\n",
    "ans = oa(rqst)\n",
    "ans, row.gold_label"
   ]
  },
  {
   "cell_type": "code",
   "execution_count": 299,
   "metadata": {
    "tags": []
   },
   "outputs": [
    {
     "name": "stdout",
     "output_type": "stream",
     "text": [
      "ru_sentence1    В анамнезе нет тромбозов или ТГВ, никогда не б...\n",
      "ru_sentence2                      Перенес несколько эпизодов ТЭЛА\n",
      "gold_label                                          contradiction\n",
      "pairID                       1892c578-66c7-11e7-97cf-f45c89b91419\n",
      "Name: 1, dtype: object\n"
     ]
    },
    {
     "data": {
      "text/plain": [
       "(\" 'neutral'.\", 'contradiction')"
      ]
     },
     "execution_count": 299,
     "metadata": {},
     "output_type": "execute_result"
    }
   ],
   "source": [
    "row = df_dev_nli.loc[1]\n",
    "rqst = template_nli_1.format(*row[['ru_sentence1', 'ru_sentence2']])\n",
    "print(row)\n",
    "ans = oa(rqst)\n",
    "ans, row.gold_label"
   ]
  },
  {
   "cell_type": "markdown",
   "metadata": {
    "jp-MarkdownHeadingCollapsed": true,
    "tags": []
   },
   "source": [
    "### test run NLI"
   ]
  },
  {
   "cell_type": "code",
   "execution_count": 371,
   "metadata": {
    "tags": []
   },
   "outputs": [
    {
     "data": {
      "application/vnd.jupyter.widget-view+json": {
       "model_id": "7234a73e69284e60b13d00833451ad99",
       "version_major": 2,
       "version_minor": 0
      },
      "text/plain": [
       "  0%|          | 0/20 [00:00<?, ?it/s]"
      ]
     },
     "metadata": {},
     "output_type": "display_data"
    },
    {
     "name": "stdout",
     "output_type": "stream",
     "text": [
      "40 \"contradiction\" contradiction\n",
      "41 \"neutral\" neutral\n",
      "42 \"entailment\" entailment\n",
      "43 \"contradiction\" contradiction\n",
      "44 \"entailment\" neutral\n",
      "45 \"entailment\" entailment\n",
      "46 \"contradiction\" contradiction\n",
      "47 \"neutral\" neutral\n",
      "48 \"entailment\" entailment\n",
      "49 \"contradiction\" contradiction\n",
      "50 \"entailment\" neutral\n",
      "51 \"neutral\" entailment\n",
      "52 \"neutral\" contradiction\n",
      "53 \"neutral\" neutral\n",
      "54 \"entailment\" entailment\n",
      "55 \"contradiction\" contradiction\n",
      "56 \"neutral\" neutral\n",
      "57 \"entailment\" entailment\n",
      "58 \"neutral\" contradiction\n",
      "59 \"neutral\" neutral\n",
      "CPU times: user 355 ms, sys: 35.7 ms, total: 390 ms\n",
      "Wall time: 50.3 s\n"
     ]
    }
   ],
   "source": [
    "%%time \n",
    "df_ = df_dev_nli\n",
    "idx_range_ = trange(40, 60)\n",
    "# idx_range_ = trange(len(df_))\n",
    "template_ = template_nli_2\n",
    "idx_ = 'pairID'\n",
    "\n",
    "# log_nli_1 = []\n",
    "# log_ = log_nli_1\n",
    "\n",
    "for i in idx_range_:\n",
    "    row = df_.iloc[i]\n",
    "    rqst = template_.format(*row[['ru_sentence1', 'ru_sentence2']])\n",
    "    ans = oa(rqst).strip()\n",
    "    log_.append((i, row[idx_], rqst, ans))\n",
    "    print(i, ans, row.gold_label)"
   ]
  },
  {
   "cell_type": "code",
   "execution_count": 355,
   "metadata": {
    "tags": []
   },
   "outputs": [
    {
     "data": {
      "text/plain": [
       "20"
      ]
     },
     "execution_count": 355,
     "metadata": {},
     "output_type": "execute_result"
    }
   ],
   "source": [
    "len(log_)"
   ]
  },
  {
   "cell_type": "code",
   "execution_count": 372,
   "metadata": {
    "tags": []
   },
   "outputs": [],
   "source": [
    "a24 = {l[0]:l[-1].split()[0].strip('\"\"').lower() for l in log_}"
   ]
  },
  {
   "cell_type": "code",
   "execution_count": 368,
   "metadata": {
    "tags": []
   },
   "outputs": [],
   "source": [
    "d4 = df_dev_nli.iloc[40:60].copy()\n",
    "d4['a1'] = a14\n",
    "d4['r1'] = d4.a1 == d4.gold_label\n",
    "assert d4.a1.nunique() == 3\n",
    "# = [l[-1].split()[0].strip('.').lower().replace('yes', \"да\").replace('no', 'нет') for l in log_]\n",
    "# d4['a1'] = a1 = df_dev"
   ]
  },
  {
   "cell_type": "code",
   "execution_count": 373,
   "metadata": {
    "tags": []
   },
   "outputs": [],
   "source": [
    "d4['a2'] = a24\n",
    "d4['r2'] = d4.a2 == d4.gold_label\n",
    "assert d4.a2.nunique() == 3\n",
    "# = [l[-1].split()[0].strip('.').lower().replace('yes', \"да\").replace('no', 'нет') for l in log_]\n",
    "# d4['a1'] = a1 = df_dev"
   ]
  },
  {
   "cell_type": "code",
   "execution_count": 440,
   "metadata": {
    "tags": []
   },
   "outputs": [
    {
     "data": {
      "text/html": [
       "<div>\n",
       "<style scoped>\n",
       "    .dataframe tbody tr th:only-of-type {\n",
       "        vertical-align: middle;\n",
       "    }\n",
       "\n",
       "    .dataframe tbody tr th {\n",
       "        vertical-align: top;\n",
       "    }\n",
       "\n",
       "    .dataframe thead th {\n",
       "        text-align: right;\n",
       "    }\n",
       "</style>\n",
       "<table border=\"1\" class=\"dataframe\">\n",
       "  <thead>\n",
       "    <tr style=\"text-align: right;\">\n",
       "      <th></th>\n",
       "      <th>ru_sentence1</th>\n",
       "      <th>ru_sentence2</th>\n",
       "      <th>gold_label</th>\n",
       "      <th>pairID</th>\n",
       "      <th>a1</th>\n",
       "      <th>r1</th>\n",
       "      <th>a2</th>\n",
       "      <th>r2</th>\n",
       "    </tr>\n",
       "  </thead>\n",
       "  <tbody>\n",
       "    <tr>\n",
       "      <th>44</th>\n",
       "      <td>Сахарный диабет II типа.</td>\n",
       "      <td>Инсулин не требуется.</td>\n",
       "      <td>neutral</td>\n",
       "      <td>18933a8a-66c7-11e7-a132-f45c89b91419</td>\n",
       "      <td>entailment</td>\n",
       "      <td>False</td>\n",
       "      <td>entailment</td>\n",
       "      <td>False</td>\n",
       "    </tr>\n",
       "  </tbody>\n",
       "</table>\n",
       "</div>"
      ],
      "text/plain": [
       "                ru_sentence1           ru_sentence2 gold_label  \\\n",
       "44  Сахарный диабет II типа.  Инсулин не требуется.    neutral   \n",
       "\n",
       "                                  pairID          a1     r1          a2     r2  \n",
       "44  18933a8a-66c7-11e7-a132-f45c89b91419  entailment  False  entailment  False  "
      ]
     },
     "execution_count": 440,
     "metadata": {},
     "output_type": "execute_result"
    }
   ],
   "source": [
    "d4.sample()"
   ]
  },
  {
   "cell_type": "code",
   "execution_count": null,
   "metadata": {},
   "outputs": [],
   "source": []
  },
  {
   "cell_type": "markdown",
   "metadata": {
    "jp-MarkdownHeadingCollapsed": true,
    "tags": []
   },
   "source": [
    "### long dev run NLI"
   ]
  },
  {
   "cell_type": "code",
   "execution_count": 12,
   "metadata": {
    "tags": []
   },
   "outputs": [
    {
     "ename": "NameError",
     "evalue": "name 'dev_nli' is not defined",
     "output_type": "error",
     "traceback": [
      "\u001b[0;31m---------------------------------------------------------------------------\u001b[0m",
      "\u001b[0;31mNameError\u001b[0m                                 Traceback (most recent call last)",
      "File \u001b[0;32m<timed exec>:3\u001b[0m\n",
      "\u001b[0;31mNameError\u001b[0m: name 'dev_nli' is not defined"
     ]
    }
   ],
   "source": [
    "%%time \n",
    "df_ = df_dev_nli\n",
    "# idx_range_ = trange(40, 60)\n",
    "idx_range_ = trange(len(dev_nli))\n",
    "template_ = template_nli_1\n",
    "idx_ = 'pairID'\n",
    "\n",
    "# log_nli_1 = []\n",
    "# log_ = log_nli_1\n",
    "\n",
    "for i in idx_range_:\n",
    "    row = df_.iloc[i]\n",
    "    rqst = template_.format(*row[['ru_sentence1', 'ru_sentence2']])\n",
    "    ans = oa(rqst).strip()\n",
    "    log_.append((i, row[idx_], rqst, ans))\n",
    "    print(i, ans, row.gold_label)"
   ]
  },
  {
   "cell_type": "code",
   "execution_count": 286,
   "metadata": {
    "tags": []
   },
   "outputs": [
    {
     "data": {
      "text/plain": [
       "0.671875"
      ]
     },
     "execution_count": 286,
     "metadata": {},
     "output_type": "execute_result"
    }
   ],
   "source": [
    "(df.answer == df.a1).mean()"
   ]
  },
  {
   "cell_type": "code",
   "execution_count": 287,
   "metadata": {
    "tags": []
   },
   "outputs": [
    {
     "data": {
      "text/plain": [
       "да     134\n",
       "нет    122\n",
       "Name: a1, dtype: int64"
      ]
     },
     "execution_count": 287,
     "metadata": {},
     "output_type": "execute_result"
    }
   ],
   "source": [
    "df.a1.value_counts()"
   ]
  },
  {
   "cell_type": "code",
   "execution_count": 305,
   "metadata": {
    "tags": []
   },
   "outputs": [
    {
     "name": "stdout",
     "output_type": "stream",
     "text": [
      "0 0.8\n",
      "20 0.65\n",
      "40 0.45\n",
      "60 0.8\n",
      "80 0.65\n",
      "100 0.8\n",
      "120 0.55\n",
      "140 0.7\n",
      "160 0.75\n",
      "180 0.5\n",
      "200 0.65\n",
      "220 0.7\n",
      "240 0.75\n"
     ]
    }
   ],
   "source": [
    "for q in range (0, len(df_), 20):\n",
    "    print (q, df.iloc[q:q+20].r1.mean())"
   ]
  },
  {
   "cell_type": "raw",
   "metadata": {
    "tags": []
   },
   "source": [
    "run 1: prompt 1, 0.671 average, 40:60 @0.45"
   ]
  },
  {
   "cell_type": "code",
   "execution_count": null,
   "metadata": {},
   "outputs": [],
   "source": []
  },
  {
   "cell_type": "code",
   "execution_count": 32,
   "metadata": {
    "tags": []
   },
   "outputs": [
    {
     "data": {
      "application/vnd.jupyter.widget-view+json": {
       "model_id": "a247e115239c4bb5ae19e931f42cae96",
       "version_major": 2,
       "version_minor": 0
      },
      "text/plain": [
       "  0%|          | 0/20 [00:00<?, ?it/s]"
      ]
     },
     "metadata": {},
     "output_type": "display_data"
    },
    {
     "name": "stdout",
     "output_type": "stream",
     "text": [
      "40 'contradiction'. contradiction\n",
      "41 'neutral'. neutral\n",
      "42 'entailment'. entailment\n",
      "43 'contradiction'. contradiction\n",
      "44 'contradiction'. neutral\n",
      "45 'neutral'. entailment\n",
      "46 'neutral'. The second statement does not necessarily contradict or entail the first statement. It is possible that the patient had episodes of hyperglycemia that required large doses of insulin, but their blood sugar levels were still within normal range. contradiction\n",
      "47 'neutral'. The second statement does not contradict the first, but it does not necessarily follow from it either. neutral\n",
      "48 'contradiction'. entailment\n",
      "49 'neutral'. contradiction\n",
      "50 'neutral'. neutral\n",
      "51 'neutral'. entailment\n",
      "52 'neutral'. contradiction\n",
      "53 'neutral'. The second statement does not provide any information that would either confirm or contradict the first statement. neutral\n",
      "54 'neutral'. entailment\n",
      "55 'contradiction'. contradiction\n",
      "56 'neutral'. neutral\n",
      "57 'neutral'. entailment\n",
      "58 'neutral'. contradiction\n",
      "59 'neutral'. The second statement does not directly relate to the first statement, and therefore cannot be used to confirm or deny it. neutral\n",
      "CPU times: user 322 ms, sys: 45.2 ms, total: 368 ms\n",
      "Wall time: 1min 5s\n"
     ]
    }
   ],
   "source": [
    "%%time \n",
    "df_ = df_dev_nli\n",
    "idx_range_ = trange(40, 60)\n",
    "# idx_range_ = trange(len(dev_nli))\n",
    "template_ = template_nli_1\n",
    "idx_ = 'pairID'\n",
    "\n",
    "log_nli_1 = []\n",
    "log_ = log_nli_1\n",
    "\n",
    "for i in idx_range_:\n",
    "    row = df_.iloc[i]\n",
    "    rqst = template_.format(*row[['ru_sentence1', 'ru_sentence2']])\n",
    "    ans = oa(rqst).strip()\n",
    "    log_.append((i, row[idx_], rqst, ans))\n",
    "    print(i, ans, row.gold_label)"
   ]
  },
  {
   "cell_type": "code",
   "execution_count": 18,
   "metadata": {
    "tags": []
   },
   "outputs": [
    {
     "data": {
      "text/plain": [
       "20"
      ]
     },
     "execution_count": 18,
     "metadata": {},
     "output_type": "execute_result"
    }
   ],
   "source": [
    "len(log_nli_2)"
   ]
  },
  {
   "cell_type": "code",
   "execution_count": 27,
   "metadata": {
    "tags": []
   },
   "outputs": [
    {
     "data": {
      "text/plain": [
       "0.75"
      ]
     },
     "execution_count": 27,
     "metadata": {},
     "output_type": "execute_result"
    }
   ],
   "source": [
    "(df_.loc[40:59, 'gold_label'] == [l[-1].strip('\"') for l in log_nli_2]).mean()"
   ]
  },
  {
   "cell_type": "code",
   "execution_count": 45,
   "metadata": {
    "tags": []
   },
   "outputs": [],
   "source": [
    "import re\n",
    "def clean_nli(x):\n",
    "    x = x.split()[0]\n",
    "    x = re.sub(r'[^a-z]', '', x)\n",
    "    return x"
   ]
  },
  {
   "cell_type": "code",
   "execution_count": 47,
   "metadata": {
    "tags": []
   },
   "outputs": [
    {
     "data": {
      "text/plain": [
       "0.5"
      ]
     },
     "execution_count": 47,
     "metadata": {},
     "output_type": "execute_result"
    }
   ],
   "source": [
    "(df_.loc[40:59, 'gold_label'] == [clean_nli(l[-1]) for l in log_nli_1]).mean()"
   ]
  },
  {
   "cell_type": "code",
   "execution_count": 30,
   "metadata": {},
   "outputs": [
    {
     "data": {
      "text/plain": [
       "ru_sentence1    На [**2810-12-14**] также был удален желудочко...\n",
       "ru_sentence2      Отсутствие в анамнезе неврологических симптомов\n",
       "gold_label                                          contradiction\n",
       "pairID                       18935380-66c7-11e7-9dbb-f45c89b91419\n",
       "Name: 52, dtype: object"
      ]
     },
     "execution_count": 30,
     "metadata": {},
     "output_type": "execute_result"
    }
   ],
   "source": [
    "row"
   ]
  },
  {
   "cell_type": "code",
   "execution_count": 29,
   "metadata": {
    "tags": []
   },
   "outputs": [
    {
     "name": "stdout",
     "output_type": "stream",
     "text": [
      "You are a medical doctor and need to pass exam. You are given two statements:\n",
      "The first statement is absolutely correct and should be the basis for your answer: \"На [**2810-12-14**] также был удален желудочковый дренаж.\"\n",
      "The second statement is \"Отсутствие в анамнезе неврологических симптомов\". \n",
      "You should answer if the second statement is 'entailment', 'contradiction', or 'neutral'.\n",
      "The answer is \n",
      "contradiction\n"
     ]
    }
   ],
   "source": [
    "row = df_dev_nli.loc[52]\n",
    "template_nli_1 = \"\"\"You are a medical doctor and need to pass exam. You are given two statements:\n",
    "The first statement is absolutely correct and should be the basis for your answer: \"{}\"\n",
    "The second statement is \"{}\". \n",
    "You should answer if the second statement is 'entailment', 'contradiction', or 'neutral'.\n",
    "The answer is \"\"\"\n",
    "\n",
    "rqst = template_nli_1.format(*row[['ru_sentence1', 'ru_sentence2']])\n",
    "print(rqst)\n",
    "print(row['gold_label'])"
   ]
  },
  {
   "cell_type": "markdown",
   "metadata": {},
   "source": [
    "### NLI private_test_v1"
   ]
  },
  {
   "cell_type": "code",
   "execution_count": 71,
   "metadata": {
    "tags": []
   },
   "outputs": [],
   "source": [
    "oa = OpenAI(engine=\"text-davinci-003\")"
   ]
  },
  {
   "cell_type": "code",
   "execution_count": 13,
   "metadata": {
    "tags": []
   },
   "outputs": [
    {
     "name": "stdout",
     "output_type": "stream",
     "text": [
      "(1536, 3)\n"
     ]
    },
    {
     "data": {
      "text/html": [
       "<div>\n",
       "<style scoped>\n",
       "    .dataframe tbody tr th:only-of-type {\n",
       "        vertical-align: middle;\n",
       "    }\n",
       "\n",
       "    .dataframe tbody tr th {\n",
       "        vertical-align: top;\n",
       "    }\n",
       "\n",
       "    .dataframe thead th {\n",
       "        text-align: right;\n",
       "    }\n",
       "</style>\n",
       "<table border=\"1\" class=\"dataframe\">\n",
       "  <thead>\n",
       "    <tr style=\"text-align: right;\">\n",
       "      <th></th>\n",
       "      <th>pairID</th>\n",
       "      <th>ru_sentence1</th>\n",
       "      <th>ru_sentence2</th>\n",
       "    </tr>\n",
       "  </thead>\n",
       "  <tbody>\n",
       "    <tr>\n",
       "      <th>0</th>\n",
       "      <td>001703e1a833361eeaf94d40fd470e82</td>\n",
       "      <td>Боли в области поясничного отдела позвоночника...</td>\n",
       "      <td>Жалуется на сухой кашель, насморк, боли в горле.</td>\n",
       "    </tr>\n",
       "    <tr>\n",
       "      <th>1</th>\n",
       "      <td>004a0e3e3fd89e410e503dbfd368a39b</td>\n",
       "      <td>цитология [**2134-1-12**] - норма; маммография...</td>\n",
       "      <td>проведено ультразвуковое исследование органов ...</td>\n",
       "    </tr>\n",
       "  </tbody>\n",
       "</table>\n",
       "</div>"
      ],
      "text/plain": [
       "                             pairID  \\\n",
       "0  001703e1a833361eeaf94d40fd470e82   \n",
       "1  004a0e3e3fd89e410e503dbfd368a39b   \n",
       "\n",
       "                                        ru_sentence1  \\\n",
       "0  Боли в области поясничного отдела позвоночника...   \n",
       "1  цитология [**2134-1-12**] - норма; маммография...   \n",
       "\n",
       "                                        ru_sentence2  \n",
       "0   Жалуется на сухой кашель, насморк, боли в горле.  \n",
       "1  проведено ультразвуковое исследование органов ...  "
      ]
     },
     "execution_count": 13,
     "metadata": {},
     "output_type": "execute_result"
    }
   ],
   "source": [
    "rumedbench_path = '../rumedbench'\n",
    "df_priv_nli = pd.read_json(os.path.join(rumedbench_path, 'data/RuMedNLI/private_test_v1.jsonl'), lines=True)\n",
    "print(df_priv_nli.shape)\n",
    "df_priv_nli.head(2)"
   ]
  },
  {
   "cell_type": "code",
   "execution_count": 20,
   "metadata": {
    "tags": []
   },
   "outputs": [
    {
     "data": {
      "text/plain": [
       "1273"
      ]
     },
     "execution_count": 20,
     "metadata": {},
     "output_type": "execute_result"
    }
   ],
   "source": [
    "len(log_nli_priv_0)"
   ]
  },
  {
   "cell_type": "raw",
   "metadata": {
    "tags": []
   },
   "source": [
    "done 521 .. 783"
   ]
  },
  {
   "cell_type": "code",
   "execution_count": 21,
   "metadata": {
    "tags": []
   },
   "outputs": [],
   "source": [
    "# Saving whole log\n",
    "with open(\"logs/rmnli_priv_gpt3_0-521_784_plus.json\", \"w\") as f:\n",
    "    json.dump(log_nli_priv_0, f)"
   ]
  },
  {
   "cell_type": "code",
   "execution_count": 19,
   "metadata": {
    "scrolled": true,
    "tags": []
   },
   "outputs": [
    {
     "data": {
      "application/vnd.jupyter.widget-view+json": {
       "model_id": "c07facbc274941edbce2f3089f8b60b4",
       "version_major": 2,
       "version_minor": 0
      },
      "text/plain": [
       "  0%|          | 0/521 [00:00<?, ?it/s]"
      ]
     },
     "metadata": {},
     "output_type": "display_data"
    },
    {
     "name": "stdout",
     "output_type": "stream",
     "text": [
      "0 \"neutral\"\n",
      "1 \"neutral\"\n",
      "2 \"contradiction\"\n",
      "3 \"neutral\"\n",
      "4 \"entailment\"\n",
      "5 \"entailment\"\n",
      "6 \"entailment\"\n",
      "7 \"neutral\"\n",
      "8 \"entailment\"\n",
      "9 \"entailment\"\n",
      "10 \"neutral\"\n",
      "11 \"neutral\"\n",
      "12 \"neutral\"\n",
      "13 \"contradiction\"\n",
      "14 \"contradiction\"\n",
      "15 \"neutral\"\n",
      "16 \"neutral\"\n",
      "17 \"neutral\"\n",
      "18 \"entailment\"\n",
      "19 \"neutral\"\n",
      "20 \"contradiction\"\n",
      "21 \"neutral\"\n",
      "22 \"neutral\"\n",
      "23 \"contradiction\"\n",
      "24 \"entailment\"\n",
      "25 \"entailment\"\n",
      "26 \"neutral\"\n",
      "27 \"entailment\"\n",
      "28 \"entailment\"\n",
      "29 \"entailment\"\n",
      "30 \"entailment\"\n",
      "31 \"neutral\"\n",
      "32 \"neutral\"\n",
      "33 \"neutral\"\n",
      "34 \"neutral\"\n",
      "35 \"neutral\"\n",
      "36 \"neutral\"\n",
      "37 \"entailment\"\n",
      "38 \"contradiction\"\n",
      "39 \"neutral\"\n",
      "40 \"contradiction\"\n",
      "41 \"entailment\"\n",
      "42 \"neutral\"\n",
      "43 \"neutral\"\n",
      "44 \"entailment\"\n",
      "45 \"contradiction\"\n",
      "46 \"contradiction\"\n",
      "47 \"entailment\"\n",
      "48 \"entailment\"\n",
      "49 \"contradiction\"\n",
      "50 \"neutral\"\n",
      "51 \"neutral\"\n",
      "52 \"neutral\"\n",
      "53 \"neutral\"\n",
      "54 \"entailment\"\n",
      "55 \"entailment\"\n",
      "56 \"neutral\"\n",
      "57 \"neutral\"\n",
      "58 \"entailment\"\n",
      "59 \"neutral\"\n",
      "60 \"entailment\"\n",
      "61 \"entailment\"\n",
      "62 \"entailment\"\n",
      "63 \"entailment\"\n",
      "64 \"entailment\"\n",
      "65 \"neutral\"\n",
      "66 \"contradiction\"\n",
      "67 \"entailment\"\n",
      "68 \"entailment\"\n",
      "69 \"contradiction\"\n",
      "70 \"contradiction\"\n",
      "71 \"entailment\"\n",
      "72 \"entailment\"\n",
      "73 \"neutral\"\n",
      "74 \"contradiction\"\n",
      "75 \"contradiction\"\n",
      "76 \"neutral\"\n",
      "77 \"contradiction\"\n",
      "78 \"neutral\"\n",
      "79 \"contradiction\"\n",
      "80 \"entailment\"\n",
      "81 \"entailment\"\n",
      "82 \"neutral\"\n",
      "83 \"neutral\"\n",
      "84 \"contradiction\"\n",
      "85 \"neutral\"\n",
      "86 \"entailment\"\n",
      "87 \"neutral\"\n",
      "88 \"contradiction\"\n",
      "89 \"neutral\"\n",
      "90 \"entailment\"\n",
      "91 \"neutral\"\n",
      "92 \"contradiction\"\n",
      "93 \"entailment\"\n",
      "94 \"neutral\"\n",
      "95 \"entailment\"\n",
      "96 \"entailment\"\n",
      "97 \"neutral\"\n",
      "98 \"neutral\"\n",
      "99 \"entailment\"\n",
      "100 \"entailment\"\n",
      "101 \"entailment\"\n",
      "102 \"contradiction\"\n",
      "103 \"entailment\"\n",
      "104 \"entailment\"\n",
      "105 \"entailment\"\n",
      "106 \"entailment\"\n",
      "107 \"entailment\"\n",
      "108 \"entailment\"\n",
      "109 \"neutral\"\n",
      "110 \"neutral\"\n",
      "111 \"entailment\"\n",
      "112 \"entailment\"\n",
      "113 \"entailment\"\n",
      "114 \"entailment\"\n",
      "115 \"entailment\"\n",
      "116 \"entailment\"\n",
      "117 \"entailment\"\n",
      "118 \"neutral\"\n",
      "119 \"entailment\"\n",
      "120 \"entailment\"\n",
      "121 \"entailment\"\n",
      "122 \"neutral\"\n",
      "123 \"neutral\"\n",
      "124 \"entailment\"\n",
      "125 \"entailment\"\n",
      "126 \"contradiction\"\n",
      "127 \"neutral\"\n",
      "128 \"contradiction\"\n",
      "129 \"entailment\"\n",
      "130 \"neutral\"\n",
      "131 \"neutral\"\n",
      "132 \"neutral\"\n",
      "133 \"contradiction\"\n",
      "134 \"entailment\"\n",
      "135 \"neutral\"\n",
      "136 \"entailment\"\n",
      "137 \"contradiction\"\n",
      "138 \"neutral\"\n",
      "139 \"entailment\"\n",
      "140 \"entailment\"\n",
      "141 \"neutral\"\n",
      "142 \"neutral\"\n",
      "143 \"entailment\"\n",
      "144 \"neutral\"\n",
      "145 \"neutral\"\n",
      "146 \"entailment\"\n",
      "147 \"neutral\"\n",
      "148 \"neutral\"\n",
      "149 \"neutral\"\n",
      "150 \"entailment\"\n",
      "151 \"neutral\"\n",
      "152 \"entailment\"\n",
      "153 \"entailment\"\n",
      "154 \"neutral\"\n",
      "155 \"neutral\"\n",
      "156 \"neutral\"\n",
      "157 \"entailment\"\n",
      "158 \"neutral\"\n",
      "159 \"contradiction\"\n",
      "160 \"neutral\"\n",
      "161 \"neutral\"\n",
      "162 \"neutral\"\n",
      "163 \"entailment\"\n",
      "164 \"neutral\"\n",
      "165 \"entailment\"\n",
      "166 \"entailment\"\n",
      "167 \"entailment\"\n",
      "168 \"neutral\"\n",
      "169 \"entailment\"\n",
      "170 \"entailment\"\n",
      "171 \"entailment\"\n",
      "172 \"entailment\"\n",
      "173 \"neutral\"\n",
      "174 \"neutral\"\n",
      "175 \"entailment\"\n",
      "176 \"neutral\"\n",
      "177 \"entailment\"\n",
      "178 \"entailment\"\n",
      "179 \"contradiction\"\n",
      "180 \"contradiction\"\n",
      "181 \"contradiction\"\n",
      "182 \"neutral\"\n",
      "183 \"contradiction\"\n",
      "184 \"contradiction\"\n",
      "185 \"entailment\"\n",
      "186 \"neutral\"\n",
      "187 \"neutral\"\n",
      "188 \"entailment\"\n",
      "189 \"neutral\"\n",
      "190 \"contradiction\"\n",
      "191 \"entailment\"\n",
      "192 \"neutral\"\n",
      "193 \"entailment\"\n",
      "194 \"neutral\"\n",
      "195 \"entailment\"\n",
      "196 \"contradiction\"\n",
      "197 \"contradiction\"\n",
      "198 \"contradiction\"\n",
      "199 \"neutral\"\n",
      "200 \"contradiction\"\n",
      "201 \"entailment\"\n",
      "202 \"neutral\"\n",
      "203 \"neutral\"\n",
      "204 \"entailment\"\n",
      "205 \"entailment\"\n",
      "206 \"entailment\"\n",
      "207 \"entailment\"\n",
      "208 \"entailment\"\n",
      "209 \"entailment\"\n",
      "210 \"entailment\"\n",
      "211 \"contradiction\"\n",
      "212 \"neutral\"\n",
      "213 \"neutral\"\n",
      "214 \"entailment\"\n",
      "215 \"entailment\"\n",
      "216 \"entailment\"\n",
      "217 \"neutral\"\n",
      "218 \"neutral\"\n",
      "219 \"entailment\"\n",
      "220 \"neutral\"\n",
      "221 \"neutral\"\n",
      "222 \"contradiction\"\n",
      "223 \"entailment\"\n",
      "224 \"entailment\"\n",
      "225 \"neutral\"\n",
      "226 \"neutral\"\n",
      "227 \"neutral\"\n",
      "228 \"neutral\"\n",
      "229 \"entailment\"\n",
      "230 \"entailment\"\n",
      "231 \"entailment\"\n",
      "232 \"neutral\"\n",
      "233 \"neutral\"\n",
      "234 \"neutral\"\n",
      "235 \"entailment\"\n",
      "236 \"neutral\"\n",
      "237 \"entailment\"\n",
      "238 \"entailment\"\n",
      "239 \"entailment\"\n",
      "240 \"contradiction\"\n",
      "241 \"entailment\"\n",
      "242 \"neutral\"\n",
      "243 \"neutral\"\n",
      "244 \"entailment\"\n",
      "245 \"entailment\"\n",
      "246 \"neutral\"\n",
      "247 \"neutral\"\n",
      "248 \"neutral\"\n",
      "249 \"contradiction\"\n",
      "250 \"neutral\"\n",
      "251 \"entailment\"\n",
      "252 \"neutral\"\n",
      "253 \"entailment\"\n",
      "254 \"neutral\"\n",
      "255 \"neutral\"\n",
      "256 \"neutral\"\n",
      "257 \"neutral\"\n",
      "258 \"entailment\"\n",
      "259 \"entailment\"\n",
      "260 \"contradiction\"\n",
      "261 \"neutral\"\n",
      "262 \"neutral\"\n",
      "263 \"entailment\"\n",
      "264 \"contradiction\"\n",
      "265 \"contradiction\"\n",
      "266 \"entailment\"\n",
      "267 \"entailment\"\n",
      "268 \"neutral\"\n",
      "269 \"contradiction\"\n",
      "270 \"entailment\"\n",
      "271 \"contradiction\"\n",
      "272 \"neutral\"\n",
      "273 \"contradiction\"\n",
      "274 \"entailment\"\n",
      "275 \"entailment\"\n",
      "276 \"neutral\"\n",
      "277 \"entailment\"\n",
      "278 \"entailment\"\n",
      "279 \"entailment\"\n",
      "280 \"neutral\"\n",
      "281 \"entailment\"\n",
      "282 \"entailment\"\n",
      "283 \"entailment\"\n",
      "284 \"entailment\"\n",
      "285 \"neutral\"\n",
      "286 \"entailment\"\n",
      "287 \"neutral\"\n",
      "288 \"entailment\"\n",
      "289 \"neutral\"\n",
      "290 \"entailment\"\n",
      "291 \"neutral\"\n",
      "292 \"entailment\"\n",
      "293 \"neutral\"\n",
      "294 \"neutral\"\n",
      "295 \"contradiction\"\n",
      "296 \"entailment\"\n",
      "297 \"neutral\"\n",
      "298 \"contradiction\"\n",
      "299 \"neutral\"\n",
      "300 \"entailment\"\n",
      "301 \"neutral\"\n",
      "302 \"neutral\"\n",
      "303 \"neutral\"\n",
      "304 \"entailment\"\n",
      "305 \"neutral\"\n",
      "306 \"entailment\"\n",
      "307 \"entailment\"\n",
      "308 \"entailment\"\n",
      "309 \"entailment\"\n",
      "310 \"entailment\"\n",
      "311 \"neutral\"\n",
      "312 \"entailment\"\n",
      "313 \"entailment\"\n",
      "314 \"contradiction\"\n",
      "315 \"entailment\"\n",
      "316 \"contradiction\"\n",
      "317 \"entailment\"\n",
      "318 \"neutral\"\n",
      "319 \"neutral\"\n",
      "320 \"neutral\"\n",
      "321 \"entailment\"\n",
      "322 \"neutral\"\n",
      "323 \"entailment\"\n",
      "324 \"entailment\"\n",
      "325 \"neutral\"\n",
      "326 \"neutral\"\n",
      "327 \"neutral\"\n",
      "328 \"entailment\"\n",
      "329 \"neutral\"\n",
      "330 \"contradiction\"\n",
      "331 \"entailment\"\n",
      "332 \"entailment\"\n",
      "333 \"entailment\"\n",
      "334 \"entailment\"\n",
      "335 \"entailment\"\n",
      "336 \"entailment\"\n",
      "337 \"neutral\"\n",
      "338 \"entailment\"\n",
      "339 \"neutral\"\n",
      "340 \"neutral\"\n",
      "341 \"neutral\"\n",
      "342 \"entailment\"\n",
      "343 \"entailment\"\n",
      "344 \"neutral\"\n",
      "345 \"neutral\"\n",
      "346 \"entailment\"\n",
      "347 \"neutral\"\n",
      "348 \"neutral\"\n",
      "349 \"neutral\"\n",
      "350 \"neutral\"\n",
      "351 \"entailment\"\n",
      "352 \"entailment\"\n",
      "353 \"entailment\"\n",
      "354 \"entailment\"\n",
      "355 \"entailment\"\n",
      "356 \"contradiction\"\n",
      "357 \"neutral\"\n",
      "358 \"neutral\"\n",
      "359 \"neutral\"\n",
      "360 \"neutral\"\n",
      "361 \"entailment\"\n",
      "362 \"contradiction\"\n",
      "363 \"neutral\"\n",
      "364 \"neutral\"\n",
      "365 \"neutral\"\n",
      "366 \"entailment\"\n",
      "367 \"contradiction\"\n",
      "368 \"entailment\"\n",
      "369 \"contradiction\"\n",
      "370 \"neutral\"\n",
      "371 \"neutral\"\n",
      "372 \"neutral\"\n",
      "373 \"entailment\"\n",
      "374 \"contradiction\"\n",
      "375 \"neutral\"\n",
      "376 \"contradiction\"\n",
      "377 \"entailment\"\n",
      "378 \"neutral\"\n",
      "379 \"entailment\"\n",
      "380 \"contradiction\"\n",
      "381 \"entailment\"\n",
      "382 \"entailment\"\n",
      "383 \"entailment\"\n",
      "384 \"neutral\"\n",
      "385 \"neutral\"\n",
      "386 \"contradiction\"\n",
      "387 \"entailment\"\n",
      "388 \"entailment\"\n",
      "389 \"entailment\"\n",
      "390 \"neutral\"\n",
      "391 \"entailment\"\n",
      "392 \"neutral\"\n",
      "393 \"contradiction\"\n",
      "394 \"entailment\"\n",
      "395 \"contradiction\"\n",
      "396 \"neutral\"\n",
      "397 \"entailment\"\n",
      "398 \"entailment\"\n",
      "399 \"entailment\"\n",
      "400 \"contradiction\"\n",
      "401 \"entailment\"\n",
      "402 \"entailment\"\n",
      "403 \"entailment\"\n",
      "404 \"neutral\"\n",
      "405 \"neutral\"\n",
      "406 \"contradiction\"\n",
      "407 \"neutral\"\n",
      "408 \"entailment\"\n",
      "409 \"neutral\"\n",
      "410 \"entailment\"\n",
      "411 \"neutral\"\n",
      "412 \"entailment\"\n",
      "413 \"neutral\"\n",
      "414 \"neutral\"\n",
      "415 \"neutral\"\n",
      "416 \"entailment\"\n",
      "417 \"neutral\"\n",
      "418 \"neutral\"\n",
      "419 \"neutral\"\n",
      "420 \"entailment\"\n",
      "421 \"entailment\"\n",
      "422 \"neutral\"\n",
      "423 \"contradiction\"\n",
      "424 \"neutral\"\n",
      "425 \"neutral\"\n",
      "426 \"neutral\"\n",
      "427 \"entailment\"\n",
      "428 \"neutral\"\n",
      "429 \"neutral\"\n",
      "430 \"entailment\"\n",
      "431 \"entailment\"\n",
      "432 \"contradiction\"\n",
      "433 \"neutral\"\n",
      "434 \"contradiction\"\n",
      "435 \"neutral\"\n",
      "436 \"contradiction\"\n",
      "437 \"entailment\"\n",
      "438 \"entailment\"\n",
      "439 \"neutral\"\n",
      "440 \"entailment\"\n",
      "441 \"neutral\"\n",
      "442 \"entailment\"\n",
      "443 \"contradiction\"\n",
      "444 \"contradiction\"\n",
      "445 \"entailment\"\n",
      "446 \"contradiction\"\n",
      "447 \"neutral\"\n",
      "448 \"neutral\"\n",
      "449 \"contradiction\"\n",
      "450 \"neutral\"\n",
      "451 \"contradiction\"\n",
      "452 \"contradiction\"\n",
      "453 \"contradiction\"\n",
      "454 \"neutral\"\n",
      "455 \"entailment\"\n",
      "456 \"neutral\"\n",
      "457 \"entailment\"\n",
      "458 \"neutral\"\n",
      "459 \"contradiction\"\n",
      "460 \"entailment\"\n",
      "461 \"neutral\"\n",
      "462 \"neutral\"\n",
      "463 \"neutral\"\n",
      "464 \"contradiction\"\n",
      "465 \"entailment\"\n",
      "466 \"entailment\"\n",
      "467 \"contradiction\"\n",
      "468 \"entailment\"\n",
      "469 \"neutral\"\n",
      "470 \"entailment\"\n",
      "471 \"neutral\"\n",
      "472 \"entailment\"\n",
      "473 \"entailment\"\n",
      "474 \"contradiction\"\n",
      "475 \"neutral\"\n",
      "476 \"neutral\"\n",
      "477 \"neutral\"\n",
      "478 \"entailment\"\n",
      "479 \"neutral\"\n",
      "480 \"entailment\"\n",
      "481 \"neutral\"\n",
      "482 \"entailment\"\n",
      "483 \"neutral\"\n",
      "484 \"entailment\"\n",
      "485 \"neutral\"\n",
      "486 \"entailment\"\n",
      "487 \"contradiction\"\n",
      "488 \"entailment\"\n",
      "489 \"neutral\"\n",
      "490 \"neutral\"\n",
      "491 \"entailment\"\n",
      "492 \"neutral\"\n",
      "493 \"entailment\"\n",
      "494 \"neutral\"\n",
      "495 \"contradiction\"\n",
      "496 \"entailment\"\n",
      "497 \"contradiction\"\n",
      "498 \"neutral\"\n",
      "499 \"neutral\"\n",
      "500 \"neutral\"\n",
      "501 \"contradiction\"\n",
      "502 \"entailment\"\n",
      "503 \"contradiction\"\n",
      "504 \"entailment\"\n",
      "505 \"contradiction\"\n",
      "506 \"entailment\"\n",
      "507 \"neutral\"\n",
      "508 \"neutral\"\n",
      "509 \"neutral\"\n",
      "510 \"entailment\"\n",
      "511 \"entailment\"\n",
      "512 \"neutral\"\n",
      "513 \"neutral\"\n",
      "514 \"neutral\"\n",
      "515 \"neutral\"\n",
      "516 \"contradiction\"\n",
      "517 \"neutral\"\n",
      "518 \"entailment\"\n",
      "519 \"neutral\"\n",
      "520 \"contradiction\"\n",
      "CPU times: user 6.43 s, sys: 690 ms, total: 7.12 s\n",
      "Wall time: 26min 57s\n"
     ]
    }
   ],
   "source": [
    "%%time \n",
    "df_ = df_priv_nli\n",
    "# idx_range_ = trange(40, 60)\n",
    "# idx_range_ = trange(df_.shape[0])\n",
    "idx_range_ = trange(521)\n",
    "template_ = template_nli_2\n",
    "idx_ = 'pairID'\n",
    "\n",
    "# log_nli_priv_0 = []\n",
    "log_ = log_nli_priv_0\n",
    "\n",
    "for i in idx_range_:\n",
    "    row = df_.iloc[i]\n",
    "    rqst = template_.format(*row[['ru_sentence1', 'ru_sentence2']])\n",
    "    ans = oa(rqst).strip()\n",
    "    log_.append((i, row[idx_], rqst, ans))\n",
    "    print(i, ans)"
   ]
  },
  {
   "cell_type": "code",
   "execution_count": 26,
   "metadata": {
    "tags": []
   },
   "outputs": [],
   "source": [
    "dn=pd.DataFrame(log_nli_priv_0)"
   ]
  },
  {
   "cell_type": "code",
   "execution_count": 41,
   "metadata": {
    "tags": []
   },
   "outputs": [
    {
     "data": {
      "text/plain": [
       "(1560, 4)"
      ]
     },
     "execution_count": 41,
     "metadata": {},
     "output_type": "execute_result"
    }
   ],
   "source": [
    "dn.shape"
   ]
  },
  {
   "cell_type": "code",
   "execution_count": 52,
   "metadata": {
    "tags": []
   },
   "outputs": [
    {
     "data": {
      "text/plain": [
       "(1536, 4)"
      ]
     },
     "execution_count": 52,
     "metadata": {},
     "output_type": "execute_result"
    }
   ],
   "source": [
    "dn.columns = \"id pairID q gold_label\".split()\n",
    "\n",
    "# dn = dn.drop_duplicates(subset=['pairID',])\n",
    "dn.gold_label = dn.gold_label.str.strip('\"')\n",
    "dn.shape"
   ]
  },
  {
   "cell_type": "code",
   "execution_count": 55,
   "metadata": {
    "tags": []
   },
   "outputs": [
    {
     "data": {
      "text/plain": [
       "entailment       646\n",
       "neutral          635\n",
       "contradiction    255\n",
       "Name: gold_label, dtype: int64"
      ]
     },
     "execution_count": 55,
     "metadata": {},
     "output_type": "execute_result"
    }
   ],
   "source": [
    "dn.gold_label.value_counts()"
   ]
  },
  {
   "cell_type": "code",
   "execution_count": 57,
   "metadata": {
    "tags": []
   },
   "outputs": [
    {
     "data": {
      "text/plain": [
       "(1536, 4)"
      ]
     },
     "execution_count": 57,
     "metadata": {},
     "output_type": "execute_result"
    }
   ],
   "source": [
    "dn = df_.merge(dn[['pairID', 'gold_label']], on='pairID')\n",
    "dn.shape"
   ]
  },
  {
   "cell_type": "code",
   "execution_count": 58,
   "metadata": {
    "tags": []
   },
   "outputs": [
    {
     "data": {
      "text/html": [
       "<div>\n",
       "<style scoped>\n",
       "    .dataframe tbody tr th:only-of-type {\n",
       "        vertical-align: middle;\n",
       "    }\n",
       "\n",
       "    .dataframe tbody tr th {\n",
       "        vertical-align: top;\n",
       "    }\n",
       "\n",
       "    .dataframe thead th {\n",
       "        text-align: right;\n",
       "    }\n",
       "</style>\n",
       "<table border=\"1\" class=\"dataframe\">\n",
       "  <thead>\n",
       "    <tr style=\"text-align: right;\">\n",
       "      <th></th>\n",
       "      <th>pairID</th>\n",
       "      <th>ru_sentence1</th>\n",
       "      <th>ru_sentence2</th>\n",
       "      <th>gold_label</th>\n",
       "    </tr>\n",
       "  </thead>\n",
       "  <tbody>\n",
       "    <tr>\n",
       "      <th>851</th>\n",
       "      <td>852b030c4dd5d8a7b4e21dc06f4882ed</td>\n",
       "      <td>касательно этиологии нового эпизода фибрилляци...</td>\n",
       "      <td>ранее была госпитализация по поводу БСК</td>\n",
       "      <td>neutral</td>\n",
       "    </tr>\n",
       "  </tbody>\n",
       "</table>\n",
       "</div>"
      ],
      "text/plain": [
       "                               pairID  \\\n",
       "851  852b030c4dd5d8a7b4e21dc06f4882ed   \n",
       "\n",
       "                                          ru_sentence1  \\\n",
       "851  касательно этиологии нового эпизода фибрилляци...   \n",
       "\n",
       "                                ru_sentence2 gold_label  \n",
       "851  ранее была госпитализация по поводу БСК    neutral  "
      ]
     },
     "execution_count": 58,
     "metadata": {},
     "output_type": "execute_result"
    }
   ],
   "source": [
    "dn.sample()"
   ]
  },
  {
   "cell_type": "code",
   "execution_count": 60,
   "metadata": {
    "tags": []
   },
   "outputs": [],
   "source": [
    "#saving submit\n",
    "with open(\"submits/rmnli_gpt3_1502.jsonl\", 'w') as f:\n",
    "    for i, row in dn.iterrows():\n",
    "        line = f'{{\"pairID\": \"{row[\"pairID\"]}\", \"gold_label\": \"{row[\"gold_label\"]}\"}}'\n",
    "        f.write(line + '\\n')\n",
    "        # print (line)"
   ]
  },
  {
   "cell_type": "code",
   "execution_count": 61,
   "metadata": {
    "tags": []
   },
   "outputs": [],
   "source": [
    "dn.to_pickle('logs/rmnli_priv_gpt3_1502.pd.pickle')"
   ]
  },
  {
   "cell_type": "code",
   "execution_count": null,
   "metadata": {},
   "outputs": [],
   "source": []
  },
  {
   "cell_type": "code",
   "execution_count": null,
   "metadata": {},
   "outputs": [],
   "source": []
  },
  {
   "cell_type": "code",
   "execution_count": null,
   "metadata": {},
   "outputs": [],
   "source": []
  },
  {
   "cell_type": "code",
   "execution_count": null,
   "metadata": {},
   "outputs": [],
   "source": []
  },
  {
   "cell_type": "code",
   "execution_count": null,
   "metadata": {},
   "outputs": [],
   "source": []
  },
  {
   "cell_type": "code",
   "execution_count": null,
   "metadata": {},
   "outputs": [],
   "source": []
  }
 ],
 "metadata": {
  "kernelspec": {
   "display_name": "Python 3 (ipykernel)",
   "language": "python",
   "name": "python3"
  },
  "language_info": {
   "codemirror_mode": {
    "name": "ipython",
    "version": 3
   },
   "file_extension": ".py",
   "mimetype": "text/x-python",
   "name": "python",
   "nbconvert_exporter": "python",
   "pygments_lexer": "ipython3",
   "version": "3.10.9"
  },
  "vscode": {
   "interpreter": {
    "hash": "d67b990b0bd3579abe3f91b6771740747a1922bafe2803b44da0ee2596bf8edb"
   }
  }
 },
 "nbformat": 4,
 "nbformat_minor": 4
}
